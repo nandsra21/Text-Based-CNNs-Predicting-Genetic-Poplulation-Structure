{
  "nbformat": 4,
  "nbformat_minor": 0,
  "metadata": {
    "colab": {
      "name": "Pioneer_Project.ipynb",
      "provenance": [],
      "collapsed_sections": [],
      "include_colab_link": true
    },
    "kernelspec": {
      "display_name": "Python 3",
      "language": "python",
      "name": "python3"
    },
    "language_info": {
      "codemirror_mode": {
        "name": "ipython",
        "version": 3
      },
      "file_extension": ".py",
      "mimetype": "text/x-python",
      "name": "python",
      "nbconvert_exporter": "python",
      "pygments_lexer": "ipython3",
      "version": "3.7.6"
    },
    "accelerator": "GPU"
  },
  "cells": [
    {
      "cell_type": "markdown",
      "metadata": {
        "id": "view-in-github",
        "colab_type": "text"
      },
      "source": [
        "<a href=\"https://colab.research.google.com/github/nandsra21/Text-Based-CNNs-Predicting-Genetic-Poplulation-Structure/blob/master/Pioneer_Project.ipynb\" target=\"_parent\"><img src=\"https://colab.research.google.com/assets/colab-badge.svg\" alt=\"Open In Colab\"/></a>"
      ]
    },
    {
      "cell_type": "code",
      "metadata": {
        "id": "Hllsp2cJ0GA7",
        "colab": {
          "base_uri": "https://localhost:8080/",
          "height": 234
        },
        "outputId": "da558bce-666a-40ed-c0c5-0b981eff4f7d"
      },
      "source": [
        "!pip3 install pandas"
      ],
      "execution_count": null,
      "outputs": [
        {
          "output_type": "stream",
          "text": [
            "Collecting pandas\n",
            "  Downloading pandas-1.1.2-cp38-cp38-manylinux1_x86_64.whl (10.4 MB)\n",
            "\u001b[K     |████████████████████████████████| 10.4 MB 4.3 MB/s \n",
            "\u001b[?25hRequirement already satisfied: python-dateutil>=2.7.3 in ./.local/lib/python3.8/site-packages (from pandas) (2.8.1)\n",
            "Collecting numpy>=1.15.4\n",
            "  Downloading numpy-1.19.2-cp38-cp38-manylinux2010_x86_64.whl (14.5 MB)\n",
            "\u001b[K     |████████████████████████████████| 14.5 MB 78.9 MB/s \n",
            "\u001b[?25hCollecting pytz>=2017.2\n",
            "  Downloading pytz-2020.1-py2.py3-none-any.whl (510 kB)\n",
            "\u001b[K     |████████████████████████████████| 510 kB 67.5 MB/s \n",
            "\u001b[?25hRequirement already satisfied: six>=1.5 in /usr/lib/python3/dist-packages (from python-dateutil>=2.7.3->pandas) (1.14.0)\n",
            "Installing collected packages: numpy, pytz, pandas\n",
            "Successfully installed numpy-1.19.2 pandas-1.1.2 pytz-2020.1\n"
          ],
          "name": "stdout"
        }
      ]
    },
    {
      "cell_type": "code",
      "metadata": {
        "id": "IHR1ZmgdpZDF"
      },
      "source": [
        "!cat /proc/cpuinfo\n",
        "!df -h"
      ],
      "execution_count": null,
      "outputs": []
    },
    {
      "cell_type": "code",
      "metadata": {
        "id": "d7bsxf5rqliW"
      },
      "source": [
        " !cat /proc/meminfo"
      ],
      "execution_count": null,
      "outputs": []
    },
    {
      "cell_type": "code",
      "metadata": {
        "id": "Aoxv3h8B3ie0"
      },
      "source": [
        "!export PYTHONPATH=$PATH:/home/nandsra21/.local/bin\n",
        "!export PYTHONPATH=$PATH:/home/nandsra21/.local/lib/\n",
        "!export PATH=$PATH:/home/nandsra21/.local/bin\n",
        "!export PATH=$PATH:/home/nandsra21/.local/lib/"
      ],
      "execution_count": null,
      "outputs": []
    },
    {
      "cell_type": "code",
      "metadata": {
        "id": "moELuvsknpc8",
        "colab": {
          "base_uri": "https://localhost:8080/",
          "height": 67
        },
        "outputId": "3a2fd299-8741-4a46-ee50-2df4dff8b610"
      },
      "source": [
        "#!gsutil cp gs://pioneer-project-bucket/sequences.fasta .\n",
        "!gsutil cp gs://pioneer-project-bucket/simulated_HA_sequences_2.fasta ."
      ],
      "execution_count": null,
      "outputs": [
        {
          "output_type": "stream",
          "text": [
            "Copying gs://pioneer-project-bucket/simulated_HA_sequences_2.fasta...\n",
            "| [1 files][ 13.0 GiB/ 13.0 GiB]   62.8 MiB/s                                   \n",
            "Operation completed over 1 objects/13.0 GiB.                                     \n"
          ],
          "name": "stdout"
        }
      ]
    },
    {
      "cell_type": "code",
      "metadata": {
        "id": "pd1xj8vb1BqP",
        "colab": {
          "base_uri": "https://localhost:8080/",
          "height": 33
        },
        "outputId": "ba9556d5-afaa-4e81-df40-d5634fa960f7"
      },
      "source": [
        "#!gsutil cp gs://pioneer-project-bucket/aligned.fasta .\n",
        "\n",
        "!gsutil cp gs://pioneer-project-bucket/tree.nwk ."
      ],
      "execution_count": null,
      "outputs": [
        {
          "output_type": "stream",
          "text": [
            "ServiceException: 401 Anonymous caller does not have storage.objects.get access to the Google Cloud Storage object.\n"
          ],
          "name": "stdout"
        }
      ]
    },
    {
      "cell_type": "code",
      "metadata": {
        "id": "-eT8oEzKk4Xj",
        "colab": {
          "base_uri": "https://localhost:8080/",
          "height": 67
        },
        "outputId": "853b215c-a60a-42d5-f279-c3137e86ecec"
      },
      "source": [
        "!gsutil cp gs://pioneer-project-bucket/metadata.tsv ."
      ],
      "execution_count": null,
      "outputs": [
        {
          "output_type": "stream",
          "text": [
            "Copying gs://pioneer-project-bucket/metadata.tsv...\n",
            "\\\n",
            "Operation completed over 1 objects/111.7 MiB.                                    \n"
          ],
          "name": "stdout"
        }
      ]
    },
    {
      "cell_type": "code",
      "metadata": {
        "id": "qnFAl9Uh-6ti",
        "colab": {
          "base_uri": "https://localhost:8080/",
          "height": 34
        },
        "outputId": "b6f040ab-a7ea-4558-8cff-068b7dd0b1d4"
      },
      "source": [
        "!gsutil ls"
      ],
      "execution_count": null,
      "outputs": [
        {
          "output_type": "stream",
          "text": [
            "gs://pioneer-project-bucket/\r\n"
          ],
          "name": "stdout"
        }
      ]
    },
    {
      "cell_type": "markdown",
      "metadata": {
        "id": "tI6r7NYqTScJ"
      },
      "source": [
        "### load packages"
      ]
    },
    {
      "cell_type": "code",
      "metadata": {
        "id": "EzyJFcMugQ9q"
      },
      "source": [
        "!pip3 install Biopython\n",
        "!pip3 install talos\n",
        "!pip3 install tensorflow"
      ],
      "execution_count": null,
      "outputs": []
    },
    {
      "cell_type": "code",
      "metadata": {
        "id": "tSNT2LjuAbyB"
      },
      "source": [
        "!pip3 install matplotlib\n",
        "!pip3 install scipy"
      ],
      "execution_count": null,
      "outputs": []
    },
    {
      "cell_type": "code",
      "metadata": {
        "id": "iCeyylLOAvJK"
      },
      "source": [
        "#!pip3 install keras\n",
        "!pip3 install scikit-learn\n",
        "!pip3 install seaborn"
      ],
      "execution_count": null,
      "outputs": []
    },
    {
      "cell_type": "code",
      "metadata": {
        "id": "_1slHfvgwgIT"
      },
      "source": [
        "!pip3 install keras"
      ],
      "execution_count": null,
      "outputs": []
    },
    {
      "cell_type": "code",
      "metadata": {
        "id": "QQ6C8ZMvu8gt"
      },
      "source": [
        "import sys\n",
        "sys.path"
      ],
      "execution_count": null,
      "outputs": []
    },
    {
      "cell_type": "code",
      "metadata": {
        "ExecuteTime": {
          "end_time": "2019-05-12T22:52:58.541506Z",
          "start_time": "2019-05-12T22:52:54.469984Z"
        },
        "id": "wTGSakMtTScL"
      },
      "source": [
        "import math\n",
        "import tensorflow as tf\n",
        "import numpy as np\n",
        "import matplotlib.pyplot as plt\n",
        "%matplotlib inline\n",
        "from IPython import display\n",
        "import pandas as pd\n",
        "from Bio import SeqIO\n",
        "import scipy\n",
        "import keras as kr\n",
        "import re\n",
        "from sklearn.model_selection import train_test_split\n",
        "from tensorflow import feature_column\n",
        "from tensorflow.keras import layers\n",
        "import os\n",
        "import seaborn as sns\n",
        "from scipy.spatial.distance import pdist, squareform"
      ],
      "execution_count": null,
      "outputs": []
    },
    {
      "cell_type": "code",
      "metadata": {
        "ExecuteTime": {
          "end_time": "2019-05-12T22:52:58.547455Z",
          "start_time": "2019-05-12T22:52:58.543973Z"
        },
        "id": "afLlwrbqTScQ",
        "colab": {
          "base_uri": "https://localhost:8080/",
          "height": 33
        },
        "outputId": "73a8b24f-e621-429a-e62d-0f9ef739bbdc"
      },
      "source": [
        "print(tf.__version__)"
      ],
      "execution_count": null,
      "outputs": [
        {
          "output_type": "stream",
          "text": [
            "2.3.0\n"
          ],
          "name": "stdout"
        }
      ]
    },
    {
      "cell_type": "code",
      "metadata": {
        "id": "Ffb2yzb-ZL_j"
      },
      "source": [
        "# to do: run simulation with just 300K strains"
      ],
      "execution_count": null,
      "outputs": []
    },
    {
      "cell_type": "code",
      "metadata": {
        "id": "79mzBGG6kbYH"
      },
      "source": [
        "del strains\n",
        "del genomes"
      ],
      "execution_count": null,
      "outputs": []
    },
    {
      "cell_type": "code",
      "metadata": {
        "id": "EKuZJmI6FxwR"
      },
      "source": [
        "random_list = random.sample(range(3000000), 250000)"
      ],
      "execution_count": null,
      "outputs": []
    },
    {
      "cell_type": "code",
      "metadata": {
        "id": "iqHNFpKiULFb"
      },
      "source": [
        "strains = []\n",
        "genomes = []\n",
        "i = 0\n",
        "for record in SeqIO.parse('./simulated_HA_sequences_2.fasta', \"fasta\"):\n",
        "  if(i < 120000):\n",
        "    if(len(record.seq) == 1701):\n",
        "      strains.append(str(record.id))\n",
        "      genomes.append(str(record.seq))\n",
        "  i = i + 1"
      ],
      "execution_count": null,
      "outputs": []
    },
    {
      "cell_type": "code",
      "metadata": {
        "id": "KXNYyE-3PL2C",
        "colab": {
          "base_uri": "https://localhost:8080/",
          "height": 33
        },
        "outputId": "fc49d95a-6f7c-4942-f8dd-50774291a0a9"
      },
      "source": [
        "genomes"
      ],
      "execution_count": null,
      "outputs": [
        {
          "output_type": "execute_result",
          "data": {
            "text/plain": [
              "[]"
            ]
          },
          "metadata": {
            "tags": []
          },
          "execution_count": 224
        }
      ]
    },
    {
      "cell_type": "code",
      "metadata": {
        "id": "00fBxDQHI-7l"
      },
      "source": [
        "genomes = np.take(np.array(genomes), random_list)"
      ],
      "execution_count": null,
      "outputs": []
    },
    {
      "cell_type": "code",
      "metadata": {
        "id": "A_pLASqpKGfE"
      },
      "source": [
        "strains = np.take(np.array(strains), random_list)"
      ],
      "execution_count": null,
      "outputs": []
    },
    {
      "cell_type": "code",
      "metadata": {
        "id": "yWQgQ59J3HdZ",
        "colab": {
          "base_uri": "https://localhost:8080/",
          "height": 70
        },
        "outputId": "67d5a939-4d7d-4f1f-975a-87ccb4136095"
      },
      "source": [
        "metadata = pd.read_csv(\"metadata.tsv\", sep=\"\\t\")"
      ],
      "execution_count": null,
      "outputs": [
        {
          "output_type": "stream",
          "text": [
            "/home/sravani_nanduri_sn_gmail_com/.local/lib/python3.8/site-packages/IPython/core/interactiveshell.py:3145: DtypeWarning: Columns (2) have mixed types.Specify dtype option on import or set low_memory=False.\n",
            "  has_raised = await self.run_ast_nodes(code_ast.body, cell_name,\n"
          ],
          "name": "stderr"
        }
      ]
    },
    {
      "cell_type": "code",
      "metadata": {
        "id": "5Oxld1LA67s4"
      },
      "source": [
        "d = {range(1, 100): 1, range(101, 200): 2, range(201, 300): 3}\n",
        "\n",
        "total_df['new_generation'] = total_df['generation'].apply(lambda x: next((v for k, v in d.items() if x in k), 0))"
      ],
      "execution_count": null,
      "outputs": []
    },
    {
      "cell_type": "code",
      "metadata": {
        "id": "9rkWnIMi61OM",
        "colab": {
          "base_uri": "https://localhost:8080/",
          "height": 404
        },
        "outputId": "c31a47fd-92e3-467f-8686-22fd3b345126"
      },
      "source": [
        "total_df"
      ],
      "execution_count": null,
      "outputs": [
        {
          "output_type": "execute_result",
          "data": {
            "text/plain": [
              "                 strains                                            genomes  \\\n",
              "0             sample_4_1  ATGAAGACTATCATTGCTTTGAGCTACATTTTATGTCTGGTTTTCG...   \n",
              "1             sample_4_2  ATGAAGACTATCATTGCTTTGAGCTACATTTTATGTCTGGTTTTCG...   \n",
              "2             sample_4_3  ATGAAGACTATCATTGCTTTGAGCTACATTTTATGTCTGGTTTTCG...   \n",
              "3             sample_4_4  ATGAAGACTATCATTGCTTTGAGCTACATTTTATGTCTGGTTTTCG...   \n",
              "4             sample_4_5  ATGAAGACTATCATTGCTTTGAGCTACATTTTATGTCTGGTTTTCG...   \n",
              "...                  ...                                                ...   \n",
              "249995   sample_10000_96  ATGAAGACCATCATCGCCTTGAGCTATATTTTATGCCTCGTTTTTG...   \n",
              "249996   sample_10000_97  ATGAAGACCATTATCGCATTGAGCTATATTTTATGTCTCGTTTTTG...   \n",
              "249997   sample_10000_98  ATGAAGACCATTATCGCATTGAGCTATATTTTATGTCTCGTTTTTG...   \n",
              "249998   sample_10000_99  ATGAAGACCATCATCGCATTGAGCTATATTTTATGTCTCGTTTTTG...   \n",
              "249999  sample_10000_100  ATGAAGACCATCATCGCATTGAGCTATATTTTATGTCTCGTTTTTG...   \n",
              "\n",
              "        generation  new_generation  \n",
              "0                4               1  \n",
              "1                4               1  \n",
              "2                4               1  \n",
              "3                4               1  \n",
              "4                4               1  \n",
              "...            ...             ...  \n",
              "249995       10000               0  \n",
              "249996       10000               0  \n",
              "249997       10000               0  \n",
              "249998       10000               0  \n",
              "249999       10000               0  \n",
              "\n",
              "[250000 rows x 4 columns]"
            ],
            "text/html": [
              "<div>\n",
              "<style scoped>\n",
              "    .dataframe tbody tr th:only-of-type {\n",
              "        vertical-align: middle;\n",
              "    }\n",
              "\n",
              "    .dataframe tbody tr th {\n",
              "        vertical-align: top;\n",
              "    }\n",
              "\n",
              "    .dataframe thead th {\n",
              "        text-align: right;\n",
              "    }\n",
              "</style>\n",
              "<table border=\"1\" class=\"dataframe\">\n",
              "  <thead>\n",
              "    <tr style=\"text-align: right;\">\n",
              "      <th></th>\n",
              "      <th>strains</th>\n",
              "      <th>genomes</th>\n",
              "      <th>generation</th>\n",
              "      <th>new_generation</th>\n",
              "    </tr>\n",
              "  </thead>\n",
              "  <tbody>\n",
              "    <tr>\n",
              "      <th>0</th>\n",
              "      <td>sample_4_1</td>\n",
              "      <td>ATGAAGACTATCATTGCTTTGAGCTACATTTTATGTCTGGTTTTCG...</td>\n",
              "      <td>4</td>\n",
              "      <td>1</td>\n",
              "    </tr>\n",
              "    <tr>\n",
              "      <th>1</th>\n",
              "      <td>sample_4_2</td>\n",
              "      <td>ATGAAGACTATCATTGCTTTGAGCTACATTTTATGTCTGGTTTTCG...</td>\n",
              "      <td>4</td>\n",
              "      <td>1</td>\n",
              "    </tr>\n",
              "    <tr>\n",
              "      <th>2</th>\n",
              "      <td>sample_4_3</td>\n",
              "      <td>ATGAAGACTATCATTGCTTTGAGCTACATTTTATGTCTGGTTTTCG...</td>\n",
              "      <td>4</td>\n",
              "      <td>1</td>\n",
              "    </tr>\n",
              "    <tr>\n",
              "      <th>3</th>\n",
              "      <td>sample_4_4</td>\n",
              "      <td>ATGAAGACTATCATTGCTTTGAGCTACATTTTATGTCTGGTTTTCG...</td>\n",
              "      <td>4</td>\n",
              "      <td>1</td>\n",
              "    </tr>\n",
              "    <tr>\n",
              "      <th>4</th>\n",
              "      <td>sample_4_5</td>\n",
              "      <td>ATGAAGACTATCATTGCTTTGAGCTACATTTTATGTCTGGTTTTCG...</td>\n",
              "      <td>4</td>\n",
              "      <td>1</td>\n",
              "    </tr>\n",
              "    <tr>\n",
              "      <th>...</th>\n",
              "      <td>...</td>\n",
              "      <td>...</td>\n",
              "      <td>...</td>\n",
              "      <td>...</td>\n",
              "    </tr>\n",
              "    <tr>\n",
              "      <th>249995</th>\n",
              "      <td>sample_10000_96</td>\n",
              "      <td>ATGAAGACCATCATCGCCTTGAGCTATATTTTATGCCTCGTTTTTG...</td>\n",
              "      <td>10000</td>\n",
              "      <td>0</td>\n",
              "    </tr>\n",
              "    <tr>\n",
              "      <th>249996</th>\n",
              "      <td>sample_10000_97</td>\n",
              "      <td>ATGAAGACCATTATCGCATTGAGCTATATTTTATGTCTCGTTTTTG...</td>\n",
              "      <td>10000</td>\n",
              "      <td>0</td>\n",
              "    </tr>\n",
              "    <tr>\n",
              "      <th>249997</th>\n",
              "      <td>sample_10000_98</td>\n",
              "      <td>ATGAAGACCATTATCGCATTGAGCTATATTTTATGTCTCGTTTTTG...</td>\n",
              "      <td>10000</td>\n",
              "      <td>0</td>\n",
              "    </tr>\n",
              "    <tr>\n",
              "      <th>249998</th>\n",
              "      <td>sample_10000_99</td>\n",
              "      <td>ATGAAGACCATCATCGCATTGAGCTATATTTTATGTCTCGTTTTTG...</td>\n",
              "      <td>10000</td>\n",
              "      <td>0</td>\n",
              "    </tr>\n",
              "    <tr>\n",
              "      <th>249999</th>\n",
              "      <td>sample_10000_100</td>\n",
              "      <td>ATGAAGACCATCATCGCATTGAGCTATATTTTATGTCTCGTTTTTG...</td>\n",
              "      <td>10000</td>\n",
              "      <td>0</td>\n",
              "    </tr>\n",
              "  </tbody>\n",
              "</table>\n",
              "<p>250000 rows × 4 columns</p>\n",
              "</div>"
            ]
          },
          "metadata": {
            "tags": []
          },
          "execution_count": 172
        }
      ]
    },
    {
      "cell_type": "code",
      "metadata": {
        "id": "-kyQh7qo5yOe",
        "colab": {
          "base_uri": "https://localhost:8080/",
          "height": 217
        },
        "outputId": "4ee1dfb2-526b-4bb9-9f8e-7efa9d5518f4"
      },
      "source": [
        "total_df[\"generation\"].value_counts()"
      ],
      "execution_count": null,
      "outputs": [
        {
          "output_type": "execute_result",
          "data": {
            "text/plain": [
              "8188    100\n",
              "4008    100\n",
              "4904    100\n",
              "4776    100\n",
              "4648    100\n",
              "       ... \n",
              "9808    100\n",
              "1492    100\n",
              "9680    100\n",
              "1364    100\n",
              "8196    100\n",
              "Name: generation, Length: 2500, dtype: int64"
            ]
          },
          "metadata": {
            "tags": []
          },
          "execution_count": 149
        }
      ]
    },
    {
      "cell_type": "code",
      "metadata": {
        "id": "6M3SPgFg4Kmz"
      },
      "source": [
        "sampled_df = total_df.where(total_df['new_generation'] > 0).dropna()\n",
        "#.sample(n=1000, random_state=1)"
      ],
      "execution_count": null,
      "outputs": []
    },
    {
      "cell_type": "code",
      "metadata": {
        "id": "leVQSDb48HlP"
      },
      "source": [
        "sampled_df_upgma = sampled_df.sample(n=1000, random_state=1)"
      ],
      "execution_count": null,
      "outputs": []
    },
    {
      "cell_type": "code",
      "metadata": {
        "id": "O_3KQ0TJ5s28",
        "colab": {
          "base_uri": "https://localhost:8080/",
          "height": 404
        },
        "outputId": "97f32c3b-eb7a-4ae3-ab34-f6af08241dbc"
      },
      "source": [
        "sampled_df"
      ],
      "execution_count": null,
      "outputs": [
        {
          "output_type": "execute_result",
          "data": {
            "text/plain": [
              "             strains                                            genomes  \\\n",
              "0         sample_4_1  ATGAAGACTATCATTGCTTTGAGCTACATTTTATGTCTGGTTTTCG...   \n",
              "1         sample_4_2  ATGAAGACTATCATTGCTTTGAGCTACATTTTATGTCTGGTTTTCG...   \n",
              "2         sample_4_3  ATGAAGACTATCATTGCTTTGAGCTACATTTTATGTCTGGTTTTCG...   \n",
              "3         sample_4_4  ATGAAGACTATCATTGCTTTGAGCTACATTTTATGTCTGGTTTTCG...   \n",
              "4         sample_4_5  ATGAAGACTATCATTGCTTTGAGCTACATTTTATGTCTGGTTTTCG...   \n",
              "...              ...                                                ...   \n",
              "7395   sample_296_96  ATGAAGACTATCATTGCTTTGAGCTACATTTTATGTCTGGTTTTCG...   \n",
              "7396   sample_296_97  ATGAAGACTATCATTGCTTTGAGCTACATTTTATGTCTGGTTTTTG...   \n",
              "7397   sample_296_98  ATGAAGACTATCATTGCTTTGAGCTACATTTTATGTCTGGTTTTCG...   \n",
              "7398   sample_296_99  ATGAAGACTATCATTGCTTTGAGCTACATTTTATGTCTGGTTTTCG...   \n",
              "7399  sample_296_100  ATGAAGACTATCATTGCTTTGAGCTACATTTTATGTCTGGTTTTCG...   \n",
              "\n",
              "      generation  new_generation  \n",
              "0            4.0             1.0  \n",
              "1            4.0             1.0  \n",
              "2            4.0             1.0  \n",
              "3            4.0             1.0  \n",
              "4            4.0             1.0  \n",
              "...          ...             ...  \n",
              "7395       296.0             3.0  \n",
              "7396       296.0             3.0  \n",
              "7397       296.0             3.0  \n",
              "7398       296.0             3.0  \n",
              "7399       296.0             3.0  \n",
              "\n",
              "[7200 rows x 4 columns]"
            ],
            "text/html": [
              "<div>\n",
              "<style scoped>\n",
              "    .dataframe tbody tr th:only-of-type {\n",
              "        vertical-align: middle;\n",
              "    }\n",
              "\n",
              "    .dataframe tbody tr th {\n",
              "        vertical-align: top;\n",
              "    }\n",
              "\n",
              "    .dataframe thead th {\n",
              "        text-align: right;\n",
              "    }\n",
              "</style>\n",
              "<table border=\"1\" class=\"dataframe\">\n",
              "  <thead>\n",
              "    <tr style=\"text-align: right;\">\n",
              "      <th></th>\n",
              "      <th>strains</th>\n",
              "      <th>genomes</th>\n",
              "      <th>generation</th>\n",
              "      <th>new_generation</th>\n",
              "    </tr>\n",
              "  </thead>\n",
              "  <tbody>\n",
              "    <tr>\n",
              "      <th>0</th>\n",
              "      <td>sample_4_1</td>\n",
              "      <td>ATGAAGACTATCATTGCTTTGAGCTACATTTTATGTCTGGTTTTCG...</td>\n",
              "      <td>4.0</td>\n",
              "      <td>1.0</td>\n",
              "    </tr>\n",
              "    <tr>\n",
              "      <th>1</th>\n",
              "      <td>sample_4_2</td>\n",
              "      <td>ATGAAGACTATCATTGCTTTGAGCTACATTTTATGTCTGGTTTTCG...</td>\n",
              "      <td>4.0</td>\n",
              "      <td>1.0</td>\n",
              "    </tr>\n",
              "    <tr>\n",
              "      <th>2</th>\n",
              "      <td>sample_4_3</td>\n",
              "      <td>ATGAAGACTATCATTGCTTTGAGCTACATTTTATGTCTGGTTTTCG...</td>\n",
              "      <td>4.0</td>\n",
              "      <td>1.0</td>\n",
              "    </tr>\n",
              "    <tr>\n",
              "      <th>3</th>\n",
              "      <td>sample_4_4</td>\n",
              "      <td>ATGAAGACTATCATTGCTTTGAGCTACATTTTATGTCTGGTTTTCG...</td>\n",
              "      <td>4.0</td>\n",
              "      <td>1.0</td>\n",
              "    </tr>\n",
              "    <tr>\n",
              "      <th>4</th>\n",
              "      <td>sample_4_5</td>\n",
              "      <td>ATGAAGACTATCATTGCTTTGAGCTACATTTTATGTCTGGTTTTCG...</td>\n",
              "      <td>4.0</td>\n",
              "      <td>1.0</td>\n",
              "    </tr>\n",
              "    <tr>\n",
              "      <th>...</th>\n",
              "      <td>...</td>\n",
              "      <td>...</td>\n",
              "      <td>...</td>\n",
              "      <td>...</td>\n",
              "    </tr>\n",
              "    <tr>\n",
              "      <th>7395</th>\n",
              "      <td>sample_296_96</td>\n",
              "      <td>ATGAAGACTATCATTGCTTTGAGCTACATTTTATGTCTGGTTTTCG...</td>\n",
              "      <td>296.0</td>\n",
              "      <td>3.0</td>\n",
              "    </tr>\n",
              "    <tr>\n",
              "      <th>7396</th>\n",
              "      <td>sample_296_97</td>\n",
              "      <td>ATGAAGACTATCATTGCTTTGAGCTACATTTTATGTCTGGTTTTTG...</td>\n",
              "      <td>296.0</td>\n",
              "      <td>3.0</td>\n",
              "    </tr>\n",
              "    <tr>\n",
              "      <th>7397</th>\n",
              "      <td>sample_296_98</td>\n",
              "      <td>ATGAAGACTATCATTGCTTTGAGCTACATTTTATGTCTGGTTTTCG...</td>\n",
              "      <td>296.0</td>\n",
              "      <td>3.0</td>\n",
              "    </tr>\n",
              "    <tr>\n",
              "      <th>7398</th>\n",
              "      <td>sample_296_99</td>\n",
              "      <td>ATGAAGACTATCATTGCTTTGAGCTACATTTTATGTCTGGTTTTCG...</td>\n",
              "      <td>296.0</td>\n",
              "      <td>3.0</td>\n",
              "    </tr>\n",
              "    <tr>\n",
              "      <th>7399</th>\n",
              "      <td>sample_296_100</td>\n",
              "      <td>ATGAAGACTATCATTGCTTTGAGCTACATTTTATGTCTGGTTTTCG...</td>\n",
              "      <td>296.0</td>\n",
              "      <td>3.0</td>\n",
              "    </tr>\n",
              "  </tbody>\n",
              "</table>\n",
              "<p>7200 rows × 4 columns</p>\n",
              "</div>"
            ]
          },
          "metadata": {
            "tags": []
          },
          "execution_count": 174
        }
      ]
    },
    {
      "cell_type": "code",
      "metadata": {
        "id": "S5VLQtTxaRy1"
      },
      "source": [
        "del i "
      ],
      "execution_count": null,
      "outputs": []
    },
    {
      "cell_type": "code",
      "metadata": {
        "id": "JmlTJb7Fso-Y",
        "colab": {
          "base_uri": "https://localhost:8080/",
          "height": 34
        },
        "outputId": "7d36acd5-d5a1-40c2-b5f8-500c5ea2280d"
      },
      "source": [
        "len(genomes)"
      ],
      "execution_count": null,
      "outputs": [
        {
          "output_type": "execute_result",
          "data": {
            "text/plain": [
              "10001"
            ]
          },
          "metadata": {
            "tags": []
          },
          "execution_count": 7
        }
      ]
    },
    {
      "cell_type": "code",
      "metadata": {
        "id": "tKdrOwSHIQ4P"
      },
      "source": [
        "#!pip3 install numpy\n",
        "import numpy as np"
      ],
      "execution_count": null,
      "outputs": []
    },
    {
      "cell_type": "code",
      "metadata": {
        "id": "txqYMnKZjU2w"
      },
      "source": [
        "!sudo apt-get install openjdk-8-jdk-headless -qq > /dev/null\n",
        "!wget -q https://downloads.apache.org/spark/spark-3.0.1/spark-3.0.1-bin-hadoop3.2.tgz\n",
        "!tar xf spark-3.0.1-bin-hadoop3.2.tgz\n",
        "!pip3 install -q findspark"
      ],
      "execution_count": null,
      "outputs": []
    },
    {
      "cell_type": "code",
      "metadata": {
        "id": "xEvv7D2wp5oA"
      },
      "source": [
        "import os\n",
        "os.environ[\"JAVA_HOME\"] = \"/usr/lib/jvm/java-8-openjdk-amd64\"\n",
        "os.environ[\"SPARK_HOME\"] = \"spark-3.0.1-bin-hadoop3.2\""
      ],
      "execution_count": null,
      "outputs": []
    },
    {
      "cell_type": "code",
      "metadata": {
        "id": "aPkhHe7ap-Hx"
      },
      "source": [
        "import findspark\n",
        "findspark.init()"
      ],
      "execution_count": null,
      "outputs": []
    },
    {
      "cell_type": "code",
      "metadata": {
        "id": "QoEGPBDBnkHt"
      },
      "source": [
        "from pyspark.sql import SparkSession\n",
        "\n",
        "spark = SparkSession.builder \\\n",
        "    .master('local[*]') \\\n",
        "    .config(\"spark.driver.memory\", \"60g\") \\\n",
        "    .appName('Test App') \\\n",
        "    .getOrCreate()"
      ],
      "execution_count": null,
      "outputs": []
    },
    {
      "cell_type": "code",
      "metadata": {
        "id": "WuTtvi0oe0XF",
        "colab": {
          "base_uri": "https://localhost:8080/",
          "height": 34
        },
        "outputId": "7fc41f72-8551-49a8-d381-780add55b1b2"
      },
      "source": [
        "spark.sparkContext.defaultParallelism"
      ],
      "execution_count": null,
      "outputs": [
        {
          "output_type": "execute_result",
          "data": {
            "text/plain": [
              "8"
            ]
          },
          "metadata": {
            "tags": []
          },
          "execution_count": 13
        }
      ]
    },
    {
      "cell_type": "code",
      "metadata": {
        "id": "u7SQIGytW1ko",
        "cellView": "form"
      },
      "source": [
        "#@title Kimura Distance Code - old\n",
        "def get_kimura2p_distances(genomes, length):\n",
        "    \"\"\"Calculate pairwise Kimura distances between the given list of genomes\n",
        "    and return the nonredundant array of values for use with scipy's squareform function.\n",
        "    Bases other than standard nucleotides (A, T, C, G) are ignored.\n",
        "    Parameters\n",
        "    ----------\n",
        "    genomes : list\n",
        "        a list of strings corresponding to genomes that should be compared\n",
        "    Returns\n",
        "    -------\n",
        "    list\n",
        "        a list of distinct Hamming distances as a vector-form distance vector\n",
        "    >>> genomes = [\"ATGCT\", \"ATGCT\", \"ACGCT\"]\n",
        "    >>> get_hamming_distances(genomes)\n",
        "    [0, 1, 1]\n",
        "    >>> genomes = [\"AT-GCT\", \"AT--CT\", \"AC--CT\"]\n",
        "    >>> get_hamming_distances(genomes)\n",
        "    [0, 1, 1]\n",
        "    \"\"\"\n",
        "    # Define an array of valid nucleotides to use in pairwise distance calculations.\n",
        "    # Using a numpy array of byte strings allows us to apply numpy.isin later.\n",
        "    nucleotides = np.array([b'A', b'T', b'C', b'G'])\n",
        "    bases = {b'A':0, b'G':0, b'C':1, b'T':1, b'N':-1}\n",
        "    # Convert genome strings into numpy arrays to enable vectorized comparisons.\n",
        "    genome_arrays = [\n",
        "        np.frombuffer(genome.encode(), dtype=\"S1\")\n",
        "        for genome in genomes\n",
        "    ]\n",
        "\n",
        "    # Precalculate positions of valid bases (A, T, C, and G) in each genome to speed up later comparisons.\n",
        "    valid_bases = [\n",
        "        np.isin(genome_array, nucleotides)\n",
        "        for genome_array in genome_arrays\n",
        "    ]\n",
        "\n",
        "    kimura_distances = []\n",
        "    for i in range(len(genomes)):\n",
        "      # Only compare the current genome, i, with all later genomes.\n",
        "      # This avoids repeating comparisons or comparing each genome to itself.\n",
        "      for j in range(i + 1, len(genomes)):\n",
        "          # Find all mismatches between these two genomes.\n",
        "\n",
        "          mismatches = list(np.nonzero(genome_arrays[i] != genome_arrays[j])[0])\n",
        "\n",
        "          base_values_i = np.array([bases.get(genome_arrays[i][k]) for k in mismatches])\n",
        "          base_values_j = np.array([bases.get(genome_arrays[j][k]) for k in mismatches])\n",
        "\n",
        "          transversions = (base_values_i != base_values_j).sum() / float(length)\n",
        "          transitions = (base_values_i == base_values_j).sum() / float(length)\n",
        "\n",
        "          kimura_distance = -.5 * np.log((1 - 2 * transitions - transversions) * math.sqrt(1 - 2 * transversions))\n",
        "\n",
        "          kimura_distances.append(kimura_distance)\n",
        "\n",
        "    return kimura_distances"
      ],
      "execution_count": null,
      "outputs": []
    },
    {
      "cell_type": "code",
      "metadata": {
        "id": "IqrG_2v6_2E_",
        "cellView": "form"
      },
      "source": [
        "#@title dad code\n",
        "def get_distance(i):\n",
        "  hamming_d=[]\n",
        "  for j in range(i+1, len(genomes)):\n",
        "    mismatches = genome_arrays[i] != genome_arrays[j]\n",
        "\n",
        "    valid_bases = [\n",
        "      np.isin(genome_arrays[i], nucleotides),\n",
        "      np.isin(genome_arrays[j], nucleotides)\n",
        "    ]\n",
        "    hamming_d.append((mismatches & valid_bases[0] & valid_bases[1]).sum())\n",
        "  return hamming_d\n",
        "\n",
        "\n",
        "length = 1701\n",
        "nucleotides = np.array([b'A', b'T', b'C', b'G'])\n",
        "\n",
        "# Convert genome strings into numpy arrays to enable vectorized comparisons.\n",
        "genome_arrays = [\n",
        "    np.frombuffer(genome.encode(), dtype=\"S1\")\n",
        "    for genome in genomes\n",
        "]\n",
        "\n",
        "count = spark.sparkContext.parallelize(range(0, len(genomes)),1000).map(get_distance).collect()\n",
        "\n",
        "\n",
        "hamming_distances.append(count)\n",
        "\n",
        "#print(len(count))\n"
      ],
      "execution_count": null,
      "outputs": []
    },
    {
      "cell_type": "code",
      "metadata": {
        "id": "ZpWOT7N9m6eZ",
        "cellView": "both"
      },
      "source": [
        "def get_hamming_distances(genomes):\n",
        "    \"\"\"Calculate pairwise Hamming distances between the given list of genomes\n",
        "    and return the nonredundant array of values for use with scipy's squareform function.\n",
        "    Bases other than standard nucleotides (A, T, C, G) are ignored.\n",
        "    Parameters\n",
        "    ----------\n",
        "    genomes : list\n",
        "        a list of strings corresponding to genomes that should be compared\n",
        "    Returns\n",
        "    -------\n",
        "    list\n",
        "        a list of distinct Hamming distances as a vector-form distance vector\n",
        "    >>> genomes = [\"ATGCT\", \"ATGCT\", \"ACGCT\"]\n",
        "    >>> get_hamming_distances(genomes)\n",
        "    [0, 1, 1]\n",
        "    >>> genomes = [\"AT-GCT\", \"AT--CT\", \"AC--CT\"]\n",
        "    >>> get_hamming_distances(genomes)\n",
        "    [0, 1, 1]\n",
        "    \"\"\"\n",
        "    # Define an array of valid nucleotides to use in pairwise distance calculations.\n",
        "    # Using a numpy array of byte strings allows us to apply numpy.isin later.\n",
        "    nucleotides = np.array([b'A', b'T', b'C', b'G'])\n",
        "\n",
        "    # Convert genome strings into numpy arrays to enable vectorized comparisons.\n",
        "    genome_arrays = [\n",
        "        np.frombuffer(genome.encode(), dtype=\"S1\")\n",
        "        for genome in genomes\n",
        "    ]\n",
        "\n",
        "    # Precalculate positions of valid bases (A, T, C, and G) in each genome to speed up later comparisons.\n",
        "    valid_bases = [\n",
        "        np.isin(genome_array, nucleotides)\n",
        "        for genome_array in genome_arrays\n",
        "    ]\n",
        "\n",
        "    # Calculate Hamming distance between all distinct pairs of genomes at valid bases.\n",
        "    # The resulting list is a reduced representation of a symmetric matrix that can be\n",
        "    # converted to a square matrix with scipy's squareform function:\n",
        "    # https://docs.scipy.org/doc/scipy/reference/generated/scipy.spatial.distance.squareform.html\n",
        "    hamming_distances = []\n",
        "    for i in range(len(genomes)):\n",
        "        # Only compare the current genome, i, with all later genomes.\n",
        "        # This avoids repeating comparisons or comparing each genome to itself.\n",
        "        if(i % 100 == 0):\n",
        "          print(i)\n",
        "        for j in range(i + 1, len(genomes)):\n",
        "            # Find all mismatches between these two genomes.\n",
        "            mismatches = genome_arrays[i] != genome_arrays[j]\n",
        "\n",
        "            # Count the number of mismatches where both genomes have valid bases.\n",
        "            hamming_distances.append((mismatches & valid_bases[i] & valid_bases[j]).sum())\n",
        "\n",
        "    return hamming_distances"
      ],
      "execution_count": null,
      "outputs": []
    },
    {
      "cell_type": "code",
      "metadata": {
        "cellView": "both",
        "id": "BOhbSS8Y4fg7",
        "colab": {
          "base_uri": "https://localhost:8080/",
          "height": 184
        },
        "outputId": "8f46a87d-c204-432d-f790-b9d85c9cdd0b"
      },
      "source": [
        "hamming_distance = get_hamming_distances(\n",
        "    sampled_df_upgma[\"genomes\"].values.tolist()\n",
        ")\n",
        "distance_matrix_upgma = squareform(hamming_distance)"
      ],
      "execution_count": null,
      "outputs": [
        {
          "output_type": "stream",
          "text": [
            "0\n",
            "100\n",
            "200\n",
            "300\n",
            "400\n",
            "500\n",
            "600\n",
            "700\n",
            "800\n",
            "900\n"
          ],
          "name": "stdout"
        }
      ]
    },
    {
      "cell_type": "code",
      "metadata": {
        "id": "YSh0sv9GnH0l",
        "cellView": "both",
        "colab": {
          "base_uri": "https://localhost:8080/",
          "height": 217
        },
        "outputId": "36b10a73-54ee-4902-f39b-6b43b2f8139c"
      },
      "source": [
        "hamming_distance = get_hamming_distances(\n",
        "    genomes_test\n",
        ")\n",
        "distance_matrix = squareform(hamming_distance)"
      ],
      "execution_count": null,
      "outputs": [
        {
          "output_type": "stream",
          "text": [
            "0\n",
            "100\n",
            "200\n",
            "300\n",
            "400\n",
            "500\n",
            "600\n",
            "700\n",
            "800\n",
            "900\n",
            "1000\n",
            "1100\n"
          ],
          "name": "stdout"
        }
      ]
    },
    {
      "cell_type": "code",
      "metadata": {
        "id": "e2AfZ1bEzcrn"
      },
      "source": [
        "distance_matrix_df = pd.DataFrame(distance_matrix)\n",
        "distance_matrix_df.to_csv(\"distance_matrix_least_recombinant.csv\")"
      ],
      "execution_count": null,
      "outputs": []
    },
    {
      "cell_type": "code",
      "metadata": {
        "id": "NQXUPhTlerU7"
      },
      "source": [
        "distance_matrix = pd.read_csv(\"distance_matrix_least_recombinant.csv\")"
      ],
      "execution_count": null,
      "outputs": []
    },
    {
      "cell_type": "code",
      "metadata": {
        "id": "ZwxK-AFTfU47"
      },
      "source": [
        "distance_matrix = distance_matrix.values[:,1:]"
      ],
      "execution_count": null,
      "outputs": []
    },
    {
      "cell_type": "code",
      "metadata": {
        "id": "xW6mMaUZDf_f"
      },
      "source": [
        "distance_matrix = similarity_matrix.values.tolist()"
      ],
      "execution_count": null,
      "outputs": []
    },
    {
      "cell_type": "code",
      "metadata": {
        "id": "A5NnicaOfpa1"
      },
      "source": [
        "distance_lower_triangle = np.tril(np.array(distance_matrix), k=0)"
      ],
      "execution_count": null,
      "outputs": []
    },
    {
      "cell_type": "code",
      "metadata": {
        "id": "mY_088UXDzTC",
        "colab": {
          "base_uri": "https://localhost:8080/",
          "height": 33
        },
        "outputId": "8d8f706b-e894-472e-afe4-84e8d5d611d2"
      },
      "source": [
        "type(distance_lower_triangle[0])"
      ],
      "execution_count": null,
      "outputs": [
        {
          "output_type": "execute_result",
          "data": {
            "text/plain": [
              "numpy.ndarray"
            ]
          },
          "metadata": {
            "tags": []
          },
          "execution_count": 172
        }
      ]
    },
    {
      "cell_type": "code",
      "metadata": {
        "id": "yFe3XY2Dfpa3"
      },
      "source": [
        "#@title Not used anymore:lower triangular matrix code\n",
        "def create_lower_triangular_matrix(distance_lower_triangle, distance_matrix):\n",
        "  distance_lower_triangle = distance_lower_triangle[distance_lower_triangle != 0]\n",
        "\n",
        "  distance_lower_triangle_2 = []\n",
        "\n",
        "  for i in range(0, len(distance_matrix)): \n",
        "      what_to_append = []\n",
        "      for j in range(0, len(distance_matrix)):\n",
        "          if(i > j): \n",
        "            what_to_append.append(distance_matrix[i][j]) \n",
        "      distance_lower_triangle_2.append(what_to_append) \n",
        "  return distance_lower_triangle_2    \n",
        "      "
      ],
      "execution_count": null,
      "outputs": []
    },
    {
      "cell_type": "code",
      "metadata": {
        "id": "cuEUTND14Xjy"
      },
      "source": [
        "lower_triangle = create_lower_triangular_matrix(distance_lower_triangle, distance_matrix)"
      ],
      "execution_count": null,
      "outputs": []
    },
    {
      "cell_type": "code",
      "metadata": {
        "id": "eWbWyX-nfpa7"
      },
      "source": [
        "#@title UPGMA\n",
        "def lowest_cell(table):\n",
        "    # Set default to infinity\n",
        "    min_cell = float(\"inf\")\n",
        "    x, y = -1, -1\n",
        "\n",
        "    # Go through every cell, looking for the lowest\n",
        "    for i in range(len(table)):\n",
        "        for j in range(len(table[i])):\n",
        "            if table[i][j] < min_cell:\n",
        "                min_cell = table[i][j]\n",
        "                x, y = i, j\n",
        "\n",
        "    # Return the x, y co-ordinate of cell\n",
        "    return x, y\n",
        "\n",
        "\n",
        "# join_labels:\n",
        "#   Combines two labels in a list of labels\n",
        "def join_labels(labels, a, b):\n",
        "    # Swap if the indices are not ordered\n",
        "    if b < a:\n",
        "        a, b = b, a\n",
        "\n",
        "    # Join the labels in the first index\n",
        "    labels[a] = \"(\" + labels[a] + \",\" + labels[b] + \")\"\n",
        "\n",
        "    # Remove the (now redundant) label in the second index\n",
        "    del labels[b]\n",
        "\n",
        "\n",
        "# join_table:\n",
        "#   Joins the entries of a table on the cell (a, b) by averaging their data entries\n",
        "def join_table(table, a, b):\n",
        "    # Swap if the indices are not ordered\n",
        "    if b < a:\n",
        "        a, b = b, a\n",
        "\n",
        "    # For the lower index, reconstruct the entire row (A, i), where i < A\n",
        "    row = []\n",
        "    for i in range(0, a):\n",
        "        row.append((table[a][i] + table[b][i])/2)\n",
        "    table[a] = row\n",
        "    \n",
        "    # Then, reconstruct the entire column (i, A), where i > A\n",
        "    #   Note: Since the matrix is lower triangular, row b only contains values for indices < b\n",
        "    for i in range(a+1, b):\n",
        "        table[i][a] = (table[i][a]+table[b][i])/2\n",
        "        \n",
        "    #   We get the rest of the values from row i\n",
        "    for i in range(b+1, len(table)):\n",
        "        table[i][a] = (table[i][a]+table[i][b])/2\n",
        "        # Remove the (now redundant) second index column entry\n",
        "        del table[i][b]\n",
        "\n",
        "    # Remove the (now redundant) second index row\n",
        "    del table[b]\n",
        "\n",
        "\n",
        "# UPGMA:\n",
        "#   Runs the UPGMA algorithm on a labelled table\n",
        "def UPGMA(table, labels):\n",
        "    # Until all labels have been joined...\n",
        "    while len(labels) > 1:\n",
        "        # Locate lowest cell in the table\n",
        "        x, y = lowest_cell(table)\n",
        "\n",
        "        # Join the table on the cell co-ordinates\n",
        "        join_table(table, x, y)\n",
        "\n",
        "        # Update the labels accordingly\n",
        "        join_labels(labels, x, y)\n",
        "\n",
        "    # Return the final label\n",
        "    return labels[0]\n",
        "\n"
      ],
      "execution_count": null,
      "outputs": []
    },
    {
      "cell_type": "code",
      "metadata": {
        "id": "D74xUDm04gAi"
      },
      "source": [
        "UPGMA_output = UPGMA(lower_triangle, genomes_df[\"strain\"].values.tolist())"
      ],
      "execution_count": null,
      "outputs": []
    },
    {
      "cell_type": "code",
      "metadata": {
        "id": "WR0C1pgxBrWF"
      },
      "source": [
        "import matplotlib\n",
        "%matplotlib inline"
      ],
      "execution_count": null,
      "outputs": []
    },
    {
      "cell_type": "code",
      "metadata": {
        "id": "xPy5ACO4wU06"
      },
      "source": [
        "from Bio import Phylo\n",
        "\n",
        "tree = Phylo.read(\"tree.nwk\", \"newick\")\n",
        "matplotlib.rc('font', size=6)\n",
        "# set the size of the figure\n",
        "fig = plt.figure(figsize=(50, 100), dpi=100)\n",
        "# alternatively\n",
        "# fig.set_size_inches(10, 20)\n",
        "axes = fig.add_subplot(1, 1, 1)\n",
        "Phylo.draw(tree, axes=axes)"
      ],
      "execution_count": null,
      "outputs": []
    },
    {
      "cell_type": "code",
      "metadata": {
        "id": "KH85qJZMCWlk",
        "colab": {
          "base_uri": "https://localhost:8080/",
          "height": 33
        },
        "outputId": "4cbc16d3-4260-48f4-848b-c909761636b8"
      },
      "source": [
        "plt.savefig(\"newick.png\", dpi=100)"
      ],
      "execution_count": null,
      "outputs": [
        {
          "output_type": "display_data",
          "data": {
            "text/plain": [
              "<Figure size 432x288 with 0 Axes>"
            ]
          },
          "metadata": {
            "tags": []
          }
        }
      ]
    },
    {
      "cell_type": "code",
      "metadata": {
        "id": "G_DL_4S2XzaS"
      },
      "source": [
        "# Sum branch lengths from root to tips using preorder traversal.\n",
        "tree.root.total_branch_length = 0.0\n",
        "for node in tree.find_clades():\n",
        "    for child in node.clades:\n",
        "        child.total_branch_length = node.total_branch_length + child.branch_length\n",
        "# Map total branch lengths to tip names.\n",
        "branch_lengths = {\n",
        "    tip.name: int((tip.total_branch_length * 1000))\n",
        "    for tip in tree.find_clades(terminal=True)\n",
        "}"
      ],
      "execution_count": null,
      "outputs": []
    },
    {
      "cell_type": "code",
      "metadata": {
        "id": "lLRwa2zXYE2E"
      },
      "source": [
        "branch_lengths = pd.DataFrame.from_dict(branch_lengths, orient='index')"
      ],
      "execution_count": null,
      "outputs": []
    },
    {
      "cell_type": "code",
      "metadata": {
        "id": "Q4JANe2PZZVH"
      },
      "source": [
        "branch_lengths.columns=[\"generation\"]"
      ],
      "execution_count": null,
      "outputs": []
    },
    {
      "cell_type": "code",
      "metadata": {
        "id": "nTB5bvuWErtT",
        "colab": {
          "base_uri": "https://localhost:8080/",
          "height": 53
        },
        "outputId": "f705a85d-a1d5-4464-d6fb-ade970920443"
      },
      "source": [
        "UPGMA_output[:200]"
      ],
      "execution_count": null,
      "outputs": [
        {
          "output_type": "execute_result",
          "data": {
            "text/plain": [
              "'((((((A/Alabama/13/2016,((((A/Missouri/16/2016,A/Texas/166/2016),A/Texas/176/2016),A/Texas/174/2016),A/Texas/173/2016)),((((((A/Colorado/11/2016,A/Oregon/02/2016),A/Texas/85/2016),(A/Texas/11/2016,A/Q'"
            ]
          },
          "metadata": {
            "tags": []
          },
          "execution_count": 177
        }
      ]
    },
    {
      "cell_type": "code",
      "metadata": {
        "id": "AV5URP9gfpbO"
      },
      "source": [
        "def create_time_series_data(output_from_UPGMA, strains):\n",
        "    count_parenthesis = 0\n",
        "    strain_index = []\n",
        "    parenthesis_list = []\n",
        "    keep_count = []\n",
        "    for i in range(0, len(strains)):\n",
        "        strain_index.append(output_from_UPGMA.find(strains[i]))\n",
        "    for i in strain_index:\n",
        "        substring = output_from_UPGMA[0:i]\n",
        "        keep_count.append(strains[strain_index.index(i)])\n",
        "        parenthesis_list.append(substring.count(\"(\") - substring.count(\")\"))\n",
        "    return parenthesis_list, keep_count"
      ],
      "execution_count": null,
      "outputs": []
    },
    {
      "cell_type": "code",
      "metadata": {
        "id": "7a0Gh1gS2hfe"
      },
      "source": [
        "values, indices = create_time_series_data(UPGMA_output, genomes_df[\"strain\"].values.tolist())"
      ],
      "execution_count": null,
      "outputs": []
    },
    {
      "cell_type": "code",
      "metadata": {
        "id": "Jw7obKjBEz6s"
      },
      "source": [
        "values = np.array(values)"
      ],
      "execution_count": null,
      "outputs": []
    },
    {
      "cell_type": "code",
      "metadata": {
        "id": "pKf9jY4yd6T_",
        "colab": {
          "base_uri": "https://localhost:8080/",
          "height": 67
        },
        "outputId": "1bb05e20-c57c-4792-d69d-b01caf0735e0"
      },
      "source": [
        "!gsutil cp gs://pioneer-project-bucket/distance_matrix_least_recombinant.csv ."
      ],
      "execution_count": null,
      "outputs": [
        {
          "output_type": "stream",
          "text": [
            "Copying gs://pioneer-project-bucket/distance_matrix_least_recombinant.csv...\n",
            "/ [1 files][190.9 MiB/190.9 MiB]                                                \n",
            "Operation completed over 1 objects/190.9 MiB.                                    \n"
          ],
          "name": "stdout"
        }
      ]
    },
    {
      "cell_type": "code",
      "metadata": {
        "id": "3URv5_AoeHKW"
      },
      "source": [
        "distance_matrix = pd.read_csv(\"distance_matrix_least_recombinant.csv\")\n"
      ],
      "execution_count": null,
      "outputs": []
    },
    {
      "cell_type": "code",
      "metadata": {
        "id": "5fIsPN8ctABt"
      },
      "source": [
        "distance_matrix = np.array(distance_matrix)[:,1:]"
      ],
      "execution_count": null,
      "outputs": []
    },
    {
      "cell_type": "code",
      "metadata": {
        "id": "0uQPUX47sbkx"
      },
      "source": [
        "distance_matrix_mean = distance_matrix_sampled.mean(axis=0)"
      ],
      "execution_count": null,
      "outputs": []
    },
    {
      "cell_type": "code",
      "metadata": {
        "id": "wzrhtcF-yAxT"
      },
      "source": [
        "import pandas as pd\n",
        "import multiprocessing as mp\n",
        "import re"
      ],
      "execution_count": null,
      "outputs": []
    },
    {
      "cell_type": "code",
      "metadata": {
        "id": "mfm9LVYxYW30"
      },
      "source": [
        "genomes[:10]"
      ],
      "execution_count": null,
      "outputs": []
    },
    {
      "cell_type": "code",
      "metadata": {
        "id": "YHIxu9AzcuxH"
      },
      "source": [
        "def pool_code(string_val):\n",
        "  string_val = re.sub(r'[^AGCT]', '5', string_val)\n",
        "  string_val = list((string_val.replace('A','1').replace('G','2').replace('C', '3').replace('T','4')))\n",
        "  string_val = list(map(int, string_val)) \n",
        "  return string_val"
      ],
      "execution_count": null,
      "outputs": []
    },
    {
      "cell_type": "code",
      "metadata": {
        "id": "Lg2HZvcMyDIQ",
        "colab": {
          "base_uri": "https://localhost:8080/",
          "height": 33
        },
        "outputId": "714727a1-0d4a-4fc7-8b96-9f23e4cdf663"
      },
      "source": [
        "len(genomes)"
      ],
      "execution_count": null,
      "outputs": [
        {
          "output_type": "execute_result",
          "data": {
            "text/plain": [
              "9999"
            ]
          },
          "metadata": {
            "tags": []
          },
          "execution_count": 77
        }
      ]
    },
    {
      "cell_type": "code",
      "metadata": {
        "id": "EMZBNulgMy2N"
      },
      "source": [
        "numbers = genomes[:]\n",
        "for i in range(0,len(genomes)):\n",
        "    numbers[i] = re.sub(r'[^AGCT]', '5', numbers[i])\n",
        "    numbers[i] = list(numbers[i].replace('A','1').replace('G','2').replace('C', '3').replace('T','4'))\n",
        "    numbers[i] = list(map(int, numbers[i]))\n",
        "\n",
        "genomes_df = pd.DataFrame(numbers)"
      ],
      "execution_count": null,
      "outputs": []
    },
    {
      "cell_type": "code",
      "metadata": {
        "id": "JwY8UbokNQOH"
      },
      "source": [
        "genomes_df[\"strain\"] = strains_test\n",
        "branch_lengths[\"strain\"] = branch_lengths.index"
      ],
      "execution_count": null,
      "outputs": []
    },
    {
      "cell_type": "code",
      "metadata": {
        "id": "EItkpUSZpEKZ"
      },
      "source": [
        "genomes_df = genomes_df.merge(branch_lengths, on=\"strain\")"
      ],
      "execution_count": null,
      "outputs": []
    },
    {
      "cell_type": "code",
      "metadata": {
        "id": "3OaE7nivp6qD",
        "colab": {
          "base_uri": "https://localhost:8080/",
          "height": 225
        },
        "outputId": "20c5ee1b-905e-4ba7-c3c1-9f768f288a15"
      },
      "source": [
        "genomes_df.head()"
      ],
      "execution_count": null,
      "outputs": [
        {
          "output_type": "execute_result",
          "data": {
            "text/plain": [
              "   0     1     2     3     4     5     6     7     8     9     ...  1691  \\\n",
              "0     1     4     2     1     1     2     1     3     4     1  ...     4   \n",
              "1     1     4     2     1     1     2     1     3     4     1  ...     4   \n",
              "2     1     4     2     1     1     2     1     3     4     1  ...     4   \n",
              "3     1     4     2     1     1     2     1     3     4     1  ...     4   \n",
              "4     1     4     2     1     1     2     1     3     4     1  ...     4   \n",
              "\n",
              "   1692  1693  1694  1695  1696  1697  1698  1699  1700  \n",
              "0     4     2     3     1     4     4     4     2     1  \n",
              "1     4     2     3     1     4     4     4     2     1  \n",
              "2     4     2     3     1     4     4     4     2     1  \n",
              "3     4     2     3     1     4     4     4     2     1  \n",
              "4     4     2     3     1     4     4     4     2     1  \n",
              "\n",
              "[5 rows x 1701 columns]"
            ],
            "text/html": [
              "<div>\n",
              "<style scoped>\n",
              "    .dataframe tbody tr th:only-of-type {\n",
              "        vertical-align: middle;\n",
              "    }\n",
              "\n",
              "    .dataframe tbody tr th {\n",
              "        vertical-align: top;\n",
              "    }\n",
              "\n",
              "    .dataframe thead th {\n",
              "        text-align: right;\n",
              "    }\n",
              "</style>\n",
              "<table border=\"1\" class=\"dataframe\">\n",
              "  <thead>\n",
              "    <tr style=\"text-align: right;\">\n",
              "      <th></th>\n",
              "      <th>0</th>\n",
              "      <th>1</th>\n",
              "      <th>2</th>\n",
              "      <th>3</th>\n",
              "      <th>4</th>\n",
              "      <th>5</th>\n",
              "      <th>6</th>\n",
              "      <th>7</th>\n",
              "      <th>8</th>\n",
              "      <th>9</th>\n",
              "      <th>...</th>\n",
              "      <th>1691</th>\n",
              "      <th>1692</th>\n",
              "      <th>1693</th>\n",
              "      <th>1694</th>\n",
              "      <th>1695</th>\n",
              "      <th>1696</th>\n",
              "      <th>1697</th>\n",
              "      <th>1698</th>\n",
              "      <th>1699</th>\n",
              "      <th>1700</th>\n",
              "    </tr>\n",
              "  </thead>\n",
              "  <tbody>\n",
              "    <tr>\n",
              "      <th>0</th>\n",
              "      <td>1</td>\n",
              "      <td>4</td>\n",
              "      <td>2</td>\n",
              "      <td>1</td>\n",
              "      <td>1</td>\n",
              "      <td>2</td>\n",
              "      <td>1</td>\n",
              "      <td>3</td>\n",
              "      <td>4</td>\n",
              "      <td>1</td>\n",
              "      <td>...</td>\n",
              "      <td>4</td>\n",
              "      <td>4</td>\n",
              "      <td>2</td>\n",
              "      <td>3</td>\n",
              "      <td>1</td>\n",
              "      <td>4</td>\n",
              "      <td>4</td>\n",
              "      <td>4</td>\n",
              "      <td>2</td>\n",
              "      <td>1</td>\n",
              "    </tr>\n",
              "    <tr>\n",
              "      <th>1</th>\n",
              "      <td>1</td>\n",
              "      <td>4</td>\n",
              "      <td>2</td>\n",
              "      <td>1</td>\n",
              "      <td>1</td>\n",
              "      <td>2</td>\n",
              "      <td>1</td>\n",
              "      <td>3</td>\n",
              "      <td>4</td>\n",
              "      <td>1</td>\n",
              "      <td>...</td>\n",
              "      <td>4</td>\n",
              "      <td>4</td>\n",
              "      <td>2</td>\n",
              "      <td>3</td>\n",
              "      <td>1</td>\n",
              "      <td>4</td>\n",
              "      <td>4</td>\n",
              "      <td>4</td>\n",
              "      <td>2</td>\n",
              "      <td>1</td>\n",
              "    </tr>\n",
              "    <tr>\n",
              "      <th>2</th>\n",
              "      <td>1</td>\n",
              "      <td>4</td>\n",
              "      <td>2</td>\n",
              "      <td>1</td>\n",
              "      <td>1</td>\n",
              "      <td>2</td>\n",
              "      <td>1</td>\n",
              "      <td>3</td>\n",
              "      <td>4</td>\n",
              "      <td>1</td>\n",
              "      <td>...</td>\n",
              "      <td>4</td>\n",
              "      <td>4</td>\n",
              "      <td>2</td>\n",
              "      <td>3</td>\n",
              "      <td>1</td>\n",
              "      <td>4</td>\n",
              "      <td>4</td>\n",
              "      <td>4</td>\n",
              "      <td>2</td>\n",
              "      <td>1</td>\n",
              "    </tr>\n",
              "    <tr>\n",
              "      <th>3</th>\n",
              "      <td>1</td>\n",
              "      <td>4</td>\n",
              "      <td>2</td>\n",
              "      <td>1</td>\n",
              "      <td>1</td>\n",
              "      <td>2</td>\n",
              "      <td>1</td>\n",
              "      <td>3</td>\n",
              "      <td>4</td>\n",
              "      <td>1</td>\n",
              "      <td>...</td>\n",
              "      <td>4</td>\n",
              "      <td>4</td>\n",
              "      <td>2</td>\n",
              "      <td>3</td>\n",
              "      <td>1</td>\n",
              "      <td>4</td>\n",
              "      <td>4</td>\n",
              "      <td>4</td>\n",
              "      <td>2</td>\n",
              "      <td>1</td>\n",
              "    </tr>\n",
              "    <tr>\n",
              "      <th>4</th>\n",
              "      <td>1</td>\n",
              "      <td>4</td>\n",
              "      <td>2</td>\n",
              "      <td>1</td>\n",
              "      <td>1</td>\n",
              "      <td>2</td>\n",
              "      <td>1</td>\n",
              "      <td>3</td>\n",
              "      <td>4</td>\n",
              "      <td>1</td>\n",
              "      <td>...</td>\n",
              "      <td>4</td>\n",
              "      <td>4</td>\n",
              "      <td>2</td>\n",
              "      <td>3</td>\n",
              "      <td>1</td>\n",
              "      <td>4</td>\n",
              "      <td>4</td>\n",
              "      <td>4</td>\n",
              "      <td>2</td>\n",
              "      <td>1</td>\n",
              "    </tr>\n",
              "  </tbody>\n",
              "</table>\n",
              "<p>5 rows × 1701 columns</p>\n",
              "</div>"
            ]
          },
          "metadata": {
            "tags": []
          },
          "execution_count": 227
        }
      ]
    },
    {
      "cell_type": "code",
      "metadata": {
        "id": "8yFt4fe8fpbb"
      },
      "source": [
        "#create a thread pool 10\n",
        "pool = mp.Pool(10)\n",
        "\n",
        "results = pool.map(pool_code,genomes)\n",
        "print(results[0])\n",
        "print(results[301])\n",
        "print(results[601])"
      ],
      "execution_count": null,
      "outputs": []
    },
    {
      "cell_type": "code",
      "metadata": {
        "id": "HLNJcGE4UWuI"
      },
      "source": [
        "p=mp.Pool(4)\n",
        "\n",
        "results = p.map(create_genome_df,genomes[:100])"
      ],
      "execution_count": null,
      "outputs": []
    },
    {
      "cell_type": "code",
      "metadata": {
        "id": "n-Vk6zOEDy9B"
      },
      "source": [
        "genomes_df = pd.DataFrame(genomes)"
      ],
      "execution_count": null,
      "outputs": []
    },
    {
      "cell_type": "code",
      "metadata": {
        "id": "8QUa0w1Bfpbe",
        "colab": {
          "base_uri": "https://localhost:8080/",
          "height": 404
        },
        "outputId": "f4b3ef3a-00ab-487a-9e43-04dac83650ab"
      },
      "source": [
        "genomes_df"
      ],
      "execution_count": null,
      "outputs": [
        {
          "output_type": "execute_result",
          "data": {
            "text/plain": [
              "        0     1     2     3     4     5     6     7     8     9     ...  1691  \\\n",
              "0          1     4     2     1     1     2     1     3     4     1  ...     4   \n",
              "1          1     4     2     1     1     2     1     3     4     1  ...     4   \n",
              "2          1     4     2     1     1     2     1     3     4     1  ...     4   \n",
              "3          1     4     2     1     1     2     1     3     4     1  ...     4   \n",
              "4          1     4     2     1     1     2     1     3     4     1  ...     4   \n",
              "...      ...   ...   ...   ...   ...   ...   ...   ...   ...   ...  ...   ...   \n",
              "119995     1     4     2     1     1     2     1     3     4     1  ...     4   \n",
              "119996     1     4     2     1     1     2     1     3     4     1  ...     4   \n",
              "119997     1     4     2     1     1     2     1     3     4     1  ...     4   \n",
              "119998     1     4     2     1     1     2     1     3     4     1  ...     4   \n",
              "119999     1     4     2     1     1     2     1     3     4     1  ...     4   \n",
              "\n",
              "        1692  1693  1694  1695  1696  1697  1698  1699  1700  \n",
              "0          4     2     3     1     4     4     4     2     1  \n",
              "1          4     2     3     1     4     4     4     2     1  \n",
              "2          4     2     3     1     4     4     4     2     1  \n",
              "3          4     2     3     1     4     4     4     2     1  \n",
              "4          4     2     3     1     4     4     4     2     1  \n",
              "...      ...   ...   ...   ...   ...   ...   ...   ...   ...  \n",
              "119995     4     2     3     1     4     4     4     2     1  \n",
              "119996     4     2     3     1     4     4     4     2     1  \n",
              "119997     4     2     3     1     4     4     4     2     1  \n",
              "119998     4     2     3     1     4     4     4     2     1  \n",
              "119999     4     2     3     1     4     4     4     2     1  \n",
              "\n",
              "[120000 rows x 1701 columns]"
            ],
            "text/html": [
              "<div>\n",
              "<style scoped>\n",
              "    .dataframe tbody tr th:only-of-type {\n",
              "        vertical-align: middle;\n",
              "    }\n",
              "\n",
              "    .dataframe tbody tr th {\n",
              "        vertical-align: top;\n",
              "    }\n",
              "\n",
              "    .dataframe thead th {\n",
              "        text-align: right;\n",
              "    }\n",
              "</style>\n",
              "<table border=\"1\" class=\"dataframe\">\n",
              "  <thead>\n",
              "    <tr style=\"text-align: right;\">\n",
              "      <th></th>\n",
              "      <th>0</th>\n",
              "      <th>1</th>\n",
              "      <th>2</th>\n",
              "      <th>3</th>\n",
              "      <th>4</th>\n",
              "      <th>5</th>\n",
              "      <th>6</th>\n",
              "      <th>7</th>\n",
              "      <th>8</th>\n",
              "      <th>9</th>\n",
              "      <th>...</th>\n",
              "      <th>1691</th>\n",
              "      <th>1692</th>\n",
              "      <th>1693</th>\n",
              "      <th>1694</th>\n",
              "      <th>1695</th>\n",
              "      <th>1696</th>\n",
              "      <th>1697</th>\n",
              "      <th>1698</th>\n",
              "      <th>1699</th>\n",
              "      <th>1700</th>\n",
              "    </tr>\n",
              "  </thead>\n",
              "  <tbody>\n",
              "    <tr>\n",
              "      <th>0</th>\n",
              "      <td>1</td>\n",
              "      <td>4</td>\n",
              "      <td>2</td>\n",
              "      <td>1</td>\n",
              "      <td>1</td>\n",
              "      <td>2</td>\n",
              "      <td>1</td>\n",
              "      <td>3</td>\n",
              "      <td>4</td>\n",
              "      <td>1</td>\n",
              "      <td>...</td>\n",
              "      <td>4</td>\n",
              "      <td>4</td>\n",
              "      <td>2</td>\n",
              "      <td>3</td>\n",
              "      <td>1</td>\n",
              "      <td>4</td>\n",
              "      <td>4</td>\n",
              "      <td>4</td>\n",
              "      <td>2</td>\n",
              "      <td>1</td>\n",
              "    </tr>\n",
              "    <tr>\n",
              "      <th>1</th>\n",
              "      <td>1</td>\n",
              "      <td>4</td>\n",
              "      <td>2</td>\n",
              "      <td>1</td>\n",
              "      <td>1</td>\n",
              "      <td>2</td>\n",
              "      <td>1</td>\n",
              "      <td>3</td>\n",
              "      <td>4</td>\n",
              "      <td>1</td>\n",
              "      <td>...</td>\n",
              "      <td>4</td>\n",
              "      <td>4</td>\n",
              "      <td>2</td>\n",
              "      <td>3</td>\n",
              "      <td>1</td>\n",
              "      <td>4</td>\n",
              "      <td>4</td>\n",
              "      <td>4</td>\n",
              "      <td>2</td>\n",
              "      <td>1</td>\n",
              "    </tr>\n",
              "    <tr>\n",
              "      <th>2</th>\n",
              "      <td>1</td>\n",
              "      <td>4</td>\n",
              "      <td>2</td>\n",
              "      <td>1</td>\n",
              "      <td>1</td>\n",
              "      <td>2</td>\n",
              "      <td>1</td>\n",
              "      <td>3</td>\n",
              "      <td>4</td>\n",
              "      <td>1</td>\n",
              "      <td>...</td>\n",
              "      <td>4</td>\n",
              "      <td>4</td>\n",
              "      <td>2</td>\n",
              "      <td>3</td>\n",
              "      <td>1</td>\n",
              "      <td>4</td>\n",
              "      <td>4</td>\n",
              "      <td>4</td>\n",
              "      <td>2</td>\n",
              "      <td>1</td>\n",
              "    </tr>\n",
              "    <tr>\n",
              "      <th>3</th>\n",
              "      <td>1</td>\n",
              "      <td>4</td>\n",
              "      <td>2</td>\n",
              "      <td>1</td>\n",
              "      <td>1</td>\n",
              "      <td>2</td>\n",
              "      <td>1</td>\n",
              "      <td>3</td>\n",
              "      <td>4</td>\n",
              "      <td>1</td>\n",
              "      <td>...</td>\n",
              "      <td>4</td>\n",
              "      <td>4</td>\n",
              "      <td>2</td>\n",
              "      <td>3</td>\n",
              "      <td>1</td>\n",
              "      <td>4</td>\n",
              "      <td>4</td>\n",
              "      <td>4</td>\n",
              "      <td>2</td>\n",
              "      <td>1</td>\n",
              "    </tr>\n",
              "    <tr>\n",
              "      <th>4</th>\n",
              "      <td>1</td>\n",
              "      <td>4</td>\n",
              "      <td>2</td>\n",
              "      <td>1</td>\n",
              "      <td>1</td>\n",
              "      <td>2</td>\n",
              "      <td>1</td>\n",
              "      <td>3</td>\n",
              "      <td>4</td>\n",
              "      <td>1</td>\n",
              "      <td>...</td>\n",
              "      <td>4</td>\n",
              "      <td>4</td>\n",
              "      <td>2</td>\n",
              "      <td>3</td>\n",
              "      <td>1</td>\n",
              "      <td>4</td>\n",
              "      <td>4</td>\n",
              "      <td>4</td>\n",
              "      <td>2</td>\n",
              "      <td>1</td>\n",
              "    </tr>\n",
              "    <tr>\n",
              "      <th>...</th>\n",
              "      <td>...</td>\n",
              "      <td>...</td>\n",
              "      <td>...</td>\n",
              "      <td>...</td>\n",
              "      <td>...</td>\n",
              "      <td>...</td>\n",
              "      <td>...</td>\n",
              "      <td>...</td>\n",
              "      <td>...</td>\n",
              "      <td>...</td>\n",
              "      <td>...</td>\n",
              "      <td>...</td>\n",
              "      <td>...</td>\n",
              "      <td>...</td>\n",
              "      <td>...</td>\n",
              "      <td>...</td>\n",
              "      <td>...</td>\n",
              "      <td>...</td>\n",
              "      <td>...</td>\n",
              "      <td>...</td>\n",
              "      <td>...</td>\n",
              "    </tr>\n",
              "    <tr>\n",
              "      <th>119995</th>\n",
              "      <td>1</td>\n",
              "      <td>4</td>\n",
              "      <td>2</td>\n",
              "      <td>1</td>\n",
              "      <td>1</td>\n",
              "      <td>2</td>\n",
              "      <td>1</td>\n",
              "      <td>3</td>\n",
              "      <td>4</td>\n",
              "      <td>1</td>\n",
              "      <td>...</td>\n",
              "      <td>4</td>\n",
              "      <td>4</td>\n",
              "      <td>2</td>\n",
              "      <td>3</td>\n",
              "      <td>1</td>\n",
              "      <td>4</td>\n",
              "      <td>4</td>\n",
              "      <td>4</td>\n",
              "      <td>2</td>\n",
              "      <td>1</td>\n",
              "    </tr>\n",
              "    <tr>\n",
              "      <th>119996</th>\n",
              "      <td>1</td>\n",
              "      <td>4</td>\n",
              "      <td>2</td>\n",
              "      <td>1</td>\n",
              "      <td>1</td>\n",
              "      <td>2</td>\n",
              "      <td>1</td>\n",
              "      <td>3</td>\n",
              "      <td>4</td>\n",
              "      <td>1</td>\n",
              "      <td>...</td>\n",
              "      <td>4</td>\n",
              "      <td>4</td>\n",
              "      <td>2</td>\n",
              "      <td>3</td>\n",
              "      <td>1</td>\n",
              "      <td>4</td>\n",
              "      <td>4</td>\n",
              "      <td>4</td>\n",
              "      <td>2</td>\n",
              "      <td>1</td>\n",
              "    </tr>\n",
              "    <tr>\n",
              "      <th>119997</th>\n",
              "      <td>1</td>\n",
              "      <td>4</td>\n",
              "      <td>2</td>\n",
              "      <td>1</td>\n",
              "      <td>1</td>\n",
              "      <td>2</td>\n",
              "      <td>1</td>\n",
              "      <td>3</td>\n",
              "      <td>4</td>\n",
              "      <td>1</td>\n",
              "      <td>...</td>\n",
              "      <td>4</td>\n",
              "      <td>4</td>\n",
              "      <td>2</td>\n",
              "      <td>3</td>\n",
              "      <td>1</td>\n",
              "      <td>4</td>\n",
              "      <td>4</td>\n",
              "      <td>4</td>\n",
              "      <td>2</td>\n",
              "      <td>1</td>\n",
              "    </tr>\n",
              "    <tr>\n",
              "      <th>119998</th>\n",
              "      <td>1</td>\n",
              "      <td>4</td>\n",
              "      <td>2</td>\n",
              "      <td>1</td>\n",
              "      <td>1</td>\n",
              "      <td>2</td>\n",
              "      <td>1</td>\n",
              "      <td>3</td>\n",
              "      <td>4</td>\n",
              "      <td>1</td>\n",
              "      <td>...</td>\n",
              "      <td>4</td>\n",
              "      <td>4</td>\n",
              "      <td>2</td>\n",
              "      <td>3</td>\n",
              "      <td>1</td>\n",
              "      <td>4</td>\n",
              "      <td>4</td>\n",
              "      <td>4</td>\n",
              "      <td>2</td>\n",
              "      <td>1</td>\n",
              "    </tr>\n",
              "    <tr>\n",
              "      <th>119999</th>\n",
              "      <td>1</td>\n",
              "      <td>4</td>\n",
              "      <td>2</td>\n",
              "      <td>1</td>\n",
              "      <td>1</td>\n",
              "      <td>2</td>\n",
              "      <td>1</td>\n",
              "      <td>3</td>\n",
              "      <td>4</td>\n",
              "      <td>1</td>\n",
              "      <td>...</td>\n",
              "      <td>4</td>\n",
              "      <td>4</td>\n",
              "      <td>2</td>\n",
              "      <td>3</td>\n",
              "      <td>1</td>\n",
              "      <td>4</td>\n",
              "      <td>4</td>\n",
              "      <td>4</td>\n",
              "      <td>2</td>\n",
              "      <td>1</td>\n",
              "    </tr>\n",
              "  </tbody>\n",
              "</table>\n",
              "<p>120000 rows × 1701 columns</p>\n",
              "</div>"
            ]
          },
          "metadata": {
            "tags": []
          },
          "execution_count": 233
        }
      ]
    },
    {
      "cell_type": "code",
      "metadata": {
        "id": "l9dGrsMYMNEP",
        "colab": {
          "base_uri": "https://localhost:8080/",
          "height": 404
        },
        "outputId": "cb963269-b818-4d1d-d51c-8a7fa474c24e"
      },
      "source": [
        "validation_df = pd.DataFrame(metadata[\"generation\"].values.tolist())\n",
        "validation_df"
      ],
      "execution_count": null,
      "outputs": [
        {
          "output_type": "execute_result",
          "data": {
            "text/plain": [
              "            0\n",
              "0           4\n",
              "1           4\n",
              "2           4\n",
              "3           4\n",
              "4           4\n",
              "...       ...\n",
              "3011078  7672\n",
              "3011079  7672\n",
              "3011080  7672\n",
              "3011081  7672\n",
              "3011082  7672\n",
              "\n",
              "[3011083 rows x 1 columns]"
            ],
            "text/html": [
              "<div>\n",
              "<style scoped>\n",
              "    .dataframe tbody tr th:only-of-type {\n",
              "        vertical-align: middle;\n",
              "    }\n",
              "\n",
              "    .dataframe tbody tr th {\n",
              "        vertical-align: top;\n",
              "    }\n",
              "\n",
              "    .dataframe thead th {\n",
              "        text-align: right;\n",
              "    }\n",
              "</style>\n",
              "<table border=\"1\" class=\"dataframe\">\n",
              "  <thead>\n",
              "    <tr style=\"text-align: right;\">\n",
              "      <th></th>\n",
              "      <th>0</th>\n",
              "    </tr>\n",
              "  </thead>\n",
              "  <tbody>\n",
              "    <tr>\n",
              "      <th>0</th>\n",
              "      <td>4</td>\n",
              "    </tr>\n",
              "    <tr>\n",
              "      <th>1</th>\n",
              "      <td>4</td>\n",
              "    </tr>\n",
              "    <tr>\n",
              "      <th>2</th>\n",
              "      <td>4</td>\n",
              "    </tr>\n",
              "    <tr>\n",
              "      <th>3</th>\n",
              "      <td>4</td>\n",
              "    </tr>\n",
              "    <tr>\n",
              "      <th>4</th>\n",
              "      <td>4</td>\n",
              "    </tr>\n",
              "    <tr>\n",
              "      <th>...</th>\n",
              "      <td>...</td>\n",
              "    </tr>\n",
              "    <tr>\n",
              "      <th>3011078</th>\n",
              "      <td>7672</td>\n",
              "    </tr>\n",
              "    <tr>\n",
              "      <th>3011079</th>\n",
              "      <td>7672</td>\n",
              "    </tr>\n",
              "    <tr>\n",
              "      <th>3011080</th>\n",
              "      <td>7672</td>\n",
              "    </tr>\n",
              "    <tr>\n",
              "      <th>3011081</th>\n",
              "      <td>7672</td>\n",
              "    </tr>\n",
              "    <tr>\n",
              "      <th>3011082</th>\n",
              "      <td>7672</td>\n",
              "    </tr>\n",
              "  </tbody>\n",
              "</table>\n",
              "<p>3011083 rows × 1 columns</p>\n",
              "</div>"
            ]
          },
          "metadata": {
            "tags": []
          },
          "execution_count": 256
        }
      ]
    },
    {
      "cell_type": "code",
      "metadata": {
        "id": "GENd-7AmtawE"
      },
      "source": [
        "#!pip3 install hdbscan\n",
        "#!pip3 uninstall umap -y\n",
        "!pip3 uninstall seaborn -y\n",
        "!pip3 install seaborn\n",
        "!pip3 install 'umap-learn==0.4.6'"
      ],
      "execution_count": null,
      "outputs": []
    },
    {
      "cell_type": "code",
      "metadata": {
        "id": "5q1EsWGDUOXq",
        "colab": {
          "base_uri": "https://localhost:8080/",
          "height": 458
        },
        "outputId": "eb421646-f133-4a5c-c252-1e1be75f7474"
      },
      "source": [
        "len(distance_matrix)\n",
        "similarity_matrix = pd.DataFrame(distance_matrix, index=strains_test, columns=strains_test)\n",
        "indices_to_drop = similarity_matrix[~similarity_matrix.index.isin(genomes_df[\"strain\"])].dropna(how = 'all')\n",
        "similarity_matrix = similarity_matrix[similarity_matrix.index.isin(genomes_df[\"strain\"])].dropna(how = 'all')\n",
        "similarity_matrix = similarity_matrix.drop(indices_to_drop.index, axis=1)\n",
        "similarity_matrix"
      ],
      "execution_count": null,
      "outputs": [
        {
          "output_type": "execute_result",
          "data": {
            "text/plain": [
              "                         A/Alabama/13/2016  A/Missouri/16/2016  \\\n",
              "A/Alabama/13/2016                        0                   4   \n",
              "A/Missouri/16/2016                       4                   0   \n",
              "A/Texas/166/2016                         6                   2   \n",
              "A/Texas/176/2016                         6                   2   \n",
              "A/Texas/174/2016                         7                   3   \n",
              "...                                    ...                 ...   \n",
              "A/Keelung/0023/2016                     49                  45   \n",
              "A/India/1733862/2017                    63                  60   \n",
              "A/India/1733873/2017                    57                  54   \n",
              "A/HongKong/3391/2017                    39                  37   \n",
              "A/MUWRP-Uganda/579/2016                 37                  35   \n",
              "\n",
              "                         A/Texas/166/2016  A/Texas/176/2016  A/Texas/174/2016  \\\n",
              "A/Alabama/13/2016                       6                 6                 7   \n",
              "A/Missouri/16/2016                      2                 2                 3   \n",
              "A/Texas/166/2016                        0                 4                 3   \n",
              "A/Texas/176/2016                        4                 0                 5   \n",
              "A/Texas/174/2016                        3                 5                 0   \n",
              "...                                   ...               ...               ...   \n",
              "A/Keelung/0023/2016                    45                47                46   \n",
              "A/India/1733862/2017                   60                62                59   \n",
              "A/India/1733873/2017                   54                56                53   \n",
              "A/HongKong/3391/2017                   39                39                40   \n",
              "A/MUWRP-Uganda/579/2016                35                37                36   \n",
              "\n",
              "                         A/Texas/173/2016  A/Colorado/11/2016  \\\n",
              "A/Alabama/13/2016                       7                  16   \n",
              "A/Missouri/16/2016                      3                  12   \n",
              "A/Texas/166/2016                        3                  12   \n",
              "A/Texas/176/2016                        5                  14   \n",
              "A/Texas/174/2016                        4                  13   \n",
              "...                                   ...                 ...   \n",
              "A/Keelung/0023/2016                    46                  41   \n",
              "A/India/1733862/2017                   61                  56   \n",
              "A/India/1733873/2017                   55                  50   \n",
              "A/HongKong/3391/2017                   38                  35   \n",
              "A/MUWRP-Uganda/579/2016                36                  29   \n",
              "\n",
              "                         A/Oregon/02/2016  A/Texas/85/2016  A/Texas/11/2016  \\\n",
              "A/Alabama/13/2016                      14               12               17   \n",
              "A/Missouri/16/2016                     10               10               13   \n",
              "A/Texas/166/2016                       10               10               13   \n",
              "A/Texas/176/2016                       12               12               15   \n",
              "A/Texas/174/2016                       11               11               14   \n",
              "...                                   ...              ...              ...   \n",
              "A/Keelung/0023/2016                    41               41               40   \n",
              "A/India/1733862/2017                   56               56               52   \n",
              "A/India/1733873/2017                   50               50               46   \n",
              "A/HongKong/3391/2017                   35               35               34   \n",
              "A/MUWRP-Uganda/579/2016                29               27               28   \n",
              "\n",
              "                         ...  A/Thailand/CU-B20791/2017  \\\n",
              "A/Alabama/13/2016        ...                         42   \n",
              "A/Missouri/16/2016       ...                         38   \n",
              "A/Texas/166/2016         ...                         38   \n",
              "A/Texas/176/2016         ...                         40   \n",
              "A/Texas/174/2016         ...                         39   \n",
              "...                      ...                        ...   \n",
              "A/Keelung/0023/2016      ...                         31   \n",
              "A/India/1733862/2017     ...                         45   \n",
              "A/India/1733873/2017     ...                         41   \n",
              "A/HongKong/3391/2017     ...                         31   \n",
              "A/MUWRP-Uganda/579/2016  ...                         41   \n",
              "\n",
              "                         A/Thailand/CU-B21378/2017  A/Japan/5983/2017  \\\n",
              "A/Alabama/13/2016                               44                 52   \n",
              "A/Missouri/16/2016                              40                 48   \n",
              "A/Texas/166/2016                                40                 48   \n",
              "A/Texas/176/2016                                42                 50   \n",
              "A/Texas/174/2016                                41                 47   \n",
              "...                                            ...                ...   \n",
              "A/Keelung/0023/2016                             29                 31   \n",
              "A/India/1733862/2017                            38                 38   \n",
              "A/India/1733873/2017                            34                 34   \n",
              "A/HongKong/3391/2017                            29                 37   \n",
              "A/MUWRP-Uganda/579/2016                         45                 52   \n",
              "\n",
              "                         A/Victoria/603/2017  A/Victoria/692/2017  \\\n",
              "A/Alabama/13/2016                         64                   60   \n",
              "A/Missouri/16/2016                        60                   56   \n",
              "A/Texas/166/2016                          60                   56   \n",
              "A/Texas/176/2016                          60                   56   \n",
              "A/Texas/174/2016                          59                   55   \n",
              "...                                      ...                  ...   \n",
              "A/Keelung/0023/2016                       40                   36   \n",
              "A/India/1733862/2017                      42                   38   \n",
              "A/India/1733873/2017                      38                   34   \n",
              "A/HongKong/3391/2017                      45                   41   \n",
              "A/MUWRP-Uganda/579/2016                   58                   54   \n",
              "\n",
              "                         A/Keelung/0023/2016  A/India/1733862/2017  \\\n",
              "A/Alabama/13/2016                         49                    63   \n",
              "A/Missouri/16/2016                        45                    60   \n",
              "A/Texas/166/2016                          45                    60   \n",
              "A/Texas/176/2016                          47                    62   \n",
              "A/Texas/174/2016                          46                    59   \n",
              "...                                      ...                   ...   \n",
              "A/Keelung/0023/2016                        0                    45   \n",
              "A/India/1733862/2017                      45                     0   \n",
              "A/India/1733873/2017                      41                    16   \n",
              "A/HongKong/3391/2017                      32                    47   \n",
              "A/MUWRP-Uganda/579/2016                   46                    60   \n",
              "\n",
              "                         A/India/1733873/2017  A/HongKong/3391/2017  \\\n",
              "A/Alabama/13/2016                          57                    39   \n",
              "A/Missouri/16/2016                         54                    37   \n",
              "A/Texas/166/2016                           54                    39   \n",
              "A/Texas/176/2016                           56                    39   \n",
              "A/Texas/174/2016                           53                    40   \n",
              "...                                       ...                   ...   \n",
              "A/Keelung/0023/2016                        41                    32   \n",
              "A/India/1733862/2017                       16                    47   \n",
              "A/India/1733873/2017                        0                    43   \n",
              "A/HongKong/3391/2017                       43                     0   \n",
              "A/MUWRP-Uganda/579/2016                    56                    41   \n",
              "\n",
              "                         A/MUWRP-Uganda/579/2016  \n",
              "A/Alabama/13/2016                             37  \n",
              "A/Missouri/16/2016                            35  \n",
              "A/Texas/166/2016                              35  \n",
              "A/Texas/176/2016                              37  \n",
              "A/Texas/174/2016                              36  \n",
              "...                                          ...  \n",
              "A/Keelung/0023/2016                           46  \n",
              "A/India/1733862/2017                          60  \n",
              "A/India/1733873/2017                          56  \n",
              "A/HongKong/3391/2017                          41  \n",
              "A/MUWRP-Uganda/579/2016                        0  \n",
              "\n",
              "[1147 rows x 1147 columns]"
            ],
            "text/html": [
              "<div>\n",
              "<style scoped>\n",
              "    .dataframe tbody tr th:only-of-type {\n",
              "        vertical-align: middle;\n",
              "    }\n",
              "\n",
              "    .dataframe tbody tr th {\n",
              "        vertical-align: top;\n",
              "    }\n",
              "\n",
              "    .dataframe thead th {\n",
              "        text-align: right;\n",
              "    }\n",
              "</style>\n",
              "<table border=\"1\" class=\"dataframe\">\n",
              "  <thead>\n",
              "    <tr style=\"text-align: right;\">\n",
              "      <th></th>\n",
              "      <th>A/Alabama/13/2016</th>\n",
              "      <th>A/Missouri/16/2016</th>\n",
              "      <th>A/Texas/166/2016</th>\n",
              "      <th>A/Texas/176/2016</th>\n",
              "      <th>A/Texas/174/2016</th>\n",
              "      <th>A/Texas/173/2016</th>\n",
              "      <th>A/Colorado/11/2016</th>\n",
              "      <th>A/Oregon/02/2016</th>\n",
              "      <th>A/Texas/85/2016</th>\n",
              "      <th>A/Texas/11/2016</th>\n",
              "      <th>...</th>\n",
              "      <th>A/Thailand/CU-B20791/2017</th>\n",
              "      <th>A/Thailand/CU-B21378/2017</th>\n",
              "      <th>A/Japan/5983/2017</th>\n",
              "      <th>A/Victoria/603/2017</th>\n",
              "      <th>A/Victoria/692/2017</th>\n",
              "      <th>A/Keelung/0023/2016</th>\n",
              "      <th>A/India/1733862/2017</th>\n",
              "      <th>A/India/1733873/2017</th>\n",
              "      <th>A/HongKong/3391/2017</th>\n",
              "      <th>A/MUWRP-Uganda/579/2016</th>\n",
              "    </tr>\n",
              "  </thead>\n",
              "  <tbody>\n",
              "    <tr>\n",
              "      <th>A/Alabama/13/2016</th>\n",
              "      <td>0</td>\n",
              "      <td>4</td>\n",
              "      <td>6</td>\n",
              "      <td>6</td>\n",
              "      <td>7</td>\n",
              "      <td>7</td>\n",
              "      <td>16</td>\n",
              "      <td>14</td>\n",
              "      <td>12</td>\n",
              "      <td>17</td>\n",
              "      <td>...</td>\n",
              "      <td>42</td>\n",
              "      <td>44</td>\n",
              "      <td>52</td>\n",
              "      <td>64</td>\n",
              "      <td>60</td>\n",
              "      <td>49</td>\n",
              "      <td>63</td>\n",
              "      <td>57</td>\n",
              "      <td>39</td>\n",
              "      <td>37</td>\n",
              "    </tr>\n",
              "    <tr>\n",
              "      <th>A/Missouri/16/2016</th>\n",
              "      <td>4</td>\n",
              "      <td>0</td>\n",
              "      <td>2</td>\n",
              "      <td>2</td>\n",
              "      <td>3</td>\n",
              "      <td>3</td>\n",
              "      <td>12</td>\n",
              "      <td>10</td>\n",
              "      <td>10</td>\n",
              "      <td>13</td>\n",
              "      <td>...</td>\n",
              "      <td>38</td>\n",
              "      <td>40</td>\n",
              "      <td>48</td>\n",
              "      <td>60</td>\n",
              "      <td>56</td>\n",
              "      <td>45</td>\n",
              "      <td>60</td>\n",
              "      <td>54</td>\n",
              "      <td>37</td>\n",
              "      <td>35</td>\n",
              "    </tr>\n",
              "    <tr>\n",
              "      <th>A/Texas/166/2016</th>\n",
              "      <td>6</td>\n",
              "      <td>2</td>\n",
              "      <td>0</td>\n",
              "      <td>4</td>\n",
              "      <td>3</td>\n",
              "      <td>3</td>\n",
              "      <td>12</td>\n",
              "      <td>10</td>\n",
              "      <td>10</td>\n",
              "      <td>13</td>\n",
              "      <td>...</td>\n",
              "      <td>38</td>\n",
              "      <td>40</td>\n",
              "      <td>48</td>\n",
              "      <td>60</td>\n",
              "      <td>56</td>\n",
              "      <td>45</td>\n",
              "      <td>60</td>\n",
              "      <td>54</td>\n",
              "      <td>39</td>\n",
              "      <td>35</td>\n",
              "    </tr>\n",
              "    <tr>\n",
              "      <th>A/Texas/176/2016</th>\n",
              "      <td>6</td>\n",
              "      <td>2</td>\n",
              "      <td>4</td>\n",
              "      <td>0</td>\n",
              "      <td>5</td>\n",
              "      <td>5</td>\n",
              "      <td>14</td>\n",
              "      <td>12</td>\n",
              "      <td>12</td>\n",
              "      <td>15</td>\n",
              "      <td>...</td>\n",
              "      <td>40</td>\n",
              "      <td>42</td>\n",
              "      <td>50</td>\n",
              "      <td>60</td>\n",
              "      <td>56</td>\n",
              "      <td>47</td>\n",
              "      <td>62</td>\n",
              "      <td>56</td>\n",
              "      <td>39</td>\n",
              "      <td>37</td>\n",
              "    </tr>\n",
              "    <tr>\n",
              "      <th>A/Texas/174/2016</th>\n",
              "      <td>7</td>\n",
              "      <td>3</td>\n",
              "      <td>3</td>\n",
              "      <td>5</td>\n",
              "      <td>0</td>\n",
              "      <td>4</td>\n",
              "      <td>13</td>\n",
              "      <td>11</td>\n",
              "      <td>11</td>\n",
              "      <td>14</td>\n",
              "      <td>...</td>\n",
              "      <td>39</td>\n",
              "      <td>41</td>\n",
              "      <td>47</td>\n",
              "      <td>59</td>\n",
              "      <td>55</td>\n",
              "      <td>46</td>\n",
              "      <td>59</td>\n",
              "      <td>53</td>\n",
              "      <td>40</td>\n",
              "      <td>36</td>\n",
              "    </tr>\n",
              "    <tr>\n",
              "      <th>...</th>\n",
              "      <td>...</td>\n",
              "      <td>...</td>\n",
              "      <td>...</td>\n",
              "      <td>...</td>\n",
              "      <td>...</td>\n",
              "      <td>...</td>\n",
              "      <td>...</td>\n",
              "      <td>...</td>\n",
              "      <td>...</td>\n",
              "      <td>...</td>\n",
              "      <td>...</td>\n",
              "      <td>...</td>\n",
              "      <td>...</td>\n",
              "      <td>...</td>\n",
              "      <td>...</td>\n",
              "      <td>...</td>\n",
              "      <td>...</td>\n",
              "      <td>...</td>\n",
              "      <td>...</td>\n",
              "      <td>...</td>\n",
              "      <td>...</td>\n",
              "    </tr>\n",
              "    <tr>\n",
              "      <th>A/Keelung/0023/2016</th>\n",
              "      <td>49</td>\n",
              "      <td>45</td>\n",
              "      <td>45</td>\n",
              "      <td>47</td>\n",
              "      <td>46</td>\n",
              "      <td>46</td>\n",
              "      <td>41</td>\n",
              "      <td>41</td>\n",
              "      <td>41</td>\n",
              "      <td>40</td>\n",
              "      <td>...</td>\n",
              "      <td>31</td>\n",
              "      <td>29</td>\n",
              "      <td>31</td>\n",
              "      <td>40</td>\n",
              "      <td>36</td>\n",
              "      <td>0</td>\n",
              "      <td>45</td>\n",
              "      <td>41</td>\n",
              "      <td>32</td>\n",
              "      <td>46</td>\n",
              "    </tr>\n",
              "    <tr>\n",
              "      <th>A/India/1733862/2017</th>\n",
              "      <td>63</td>\n",
              "      <td>60</td>\n",
              "      <td>60</td>\n",
              "      <td>62</td>\n",
              "      <td>59</td>\n",
              "      <td>61</td>\n",
              "      <td>56</td>\n",
              "      <td>56</td>\n",
              "      <td>56</td>\n",
              "      <td>52</td>\n",
              "      <td>...</td>\n",
              "      <td>45</td>\n",
              "      <td>38</td>\n",
              "      <td>38</td>\n",
              "      <td>42</td>\n",
              "      <td>38</td>\n",
              "      <td>45</td>\n",
              "      <td>0</td>\n",
              "      <td>16</td>\n",
              "      <td>47</td>\n",
              "      <td>60</td>\n",
              "    </tr>\n",
              "    <tr>\n",
              "      <th>A/India/1733873/2017</th>\n",
              "      <td>57</td>\n",
              "      <td>54</td>\n",
              "      <td>54</td>\n",
              "      <td>56</td>\n",
              "      <td>53</td>\n",
              "      <td>55</td>\n",
              "      <td>50</td>\n",
              "      <td>50</td>\n",
              "      <td>50</td>\n",
              "      <td>46</td>\n",
              "      <td>...</td>\n",
              "      <td>41</td>\n",
              "      <td>34</td>\n",
              "      <td>34</td>\n",
              "      <td>38</td>\n",
              "      <td>34</td>\n",
              "      <td>41</td>\n",
              "      <td>16</td>\n",
              "      <td>0</td>\n",
              "      <td>43</td>\n",
              "      <td>56</td>\n",
              "    </tr>\n",
              "    <tr>\n",
              "      <th>A/HongKong/3391/2017</th>\n",
              "      <td>39</td>\n",
              "      <td>37</td>\n",
              "      <td>39</td>\n",
              "      <td>39</td>\n",
              "      <td>40</td>\n",
              "      <td>38</td>\n",
              "      <td>35</td>\n",
              "      <td>35</td>\n",
              "      <td>35</td>\n",
              "      <td>34</td>\n",
              "      <td>...</td>\n",
              "      <td>31</td>\n",
              "      <td>29</td>\n",
              "      <td>37</td>\n",
              "      <td>45</td>\n",
              "      <td>41</td>\n",
              "      <td>32</td>\n",
              "      <td>47</td>\n",
              "      <td>43</td>\n",
              "      <td>0</td>\n",
              "      <td>41</td>\n",
              "    </tr>\n",
              "    <tr>\n",
              "      <th>A/MUWRP-Uganda/579/2016</th>\n",
              "      <td>37</td>\n",
              "      <td>35</td>\n",
              "      <td>35</td>\n",
              "      <td>37</td>\n",
              "      <td>36</td>\n",
              "      <td>36</td>\n",
              "      <td>29</td>\n",
              "      <td>29</td>\n",
              "      <td>27</td>\n",
              "      <td>28</td>\n",
              "      <td>...</td>\n",
              "      <td>41</td>\n",
              "      <td>45</td>\n",
              "      <td>52</td>\n",
              "      <td>58</td>\n",
              "      <td>54</td>\n",
              "      <td>46</td>\n",
              "      <td>60</td>\n",
              "      <td>56</td>\n",
              "      <td>41</td>\n",
              "      <td>0</td>\n",
              "    </tr>\n",
              "  </tbody>\n",
              "</table>\n",
              "<p>1147 rows × 1147 columns</p>\n",
              "</div>"
            ]
          },
          "metadata": {
            "tags": []
          },
          "execution_count": 116
        }
      ]
    },
    {
      "cell_type": "code",
      "metadata": {
        "id": "Cww1dfC9csnZ",
        "colab": {
          "base_uri": "https://localhost:8080/",
          "height": 134
        },
        "outputId": "fc9f8011-6949-4ba9-9057-207a40eda1e4"
      },
      "source": [
        "from sklearn.manifold import TSNE\n",
        "import hdbscan\n",
        "embedding_class = TSNE\n",
        "#embedder = umap.UMAP(metric = \"precomputed\", n_neighbors=200,min_dist=.05,n_components=2)\n",
        "embedding_parameters = {\n",
        "    \"metric\": \"precomputed\",\n",
        "    \"learning_rate\": 100,\n",
        "    \"perplexity\": 15,\n",
        "    \"n_components\" : 2\n",
        "}\n",
        "\n",
        "embedder = embedding_class(**embedding_parameters)\n",
        "embedding = embedder.fit_transform(similarity_matrix)\n",
        "\n",
        "print(embedding)\n",
        "\n",
        "embedding_df = pd.DataFrame(embedding)\n",
        "embedding_df.index = similarity_matrix.index\n"
      ],
      "execution_count": null,
      "outputs": [
        {
          "output_type": "stream",
          "text": [
            "[[ 24.995768   -51.515617  ]\n",
            " [ 25.354292   -51.32378   ]\n",
            " [ 25.464386   -51.259544  ]\n",
            " ...\n",
            " [-44.46171      4.5397816 ]\n",
            " [ 59.847168    -0.16363183]\n",
            " [ 29.881681   -48.05344   ]]\n"
          ],
          "name": "stdout"
        }
      ]
    },
    {
      "cell_type": "code",
      "metadata": {
        "id": "YkU0KES8uFB_"
      },
      "source": [
        "embedding_df.columns = [\"tsne_x\" , \"tsne_y\"]\n",
        "\n",
        "clusterer = hdbscan.HDBSCAN(min_cluster_size=15)\n",
        "clusterer.fit(embedding)\n",
        "embedding_df[\"label\"] = predict\n",
        "embedding_df[\"HD_label\"] = genomes_df[\"generation\"].values.tolist()"
      ],
      "execution_count": null,
      "outputs": []
    },
    {
      "cell_type": "code",
      "metadata": {
        "id": "J0X8SHWR5Fa5",
        "colab": {
          "base_uri": "https://localhost:8080/",
          "height": 33
        },
        "outputId": "0164bcbc-1d04-4b73-deb3-01b379628fc6"
      },
      "source": [
        "embedding_df['label'].unique()"
      ],
      "execution_count": null,
      "outputs": [
        {
          "output_type": "execute_result",
          "data": {
            "text/plain": [
              "array([24])"
            ]
          },
          "metadata": {
            "tags": []
          },
          "execution_count": 125
        }
      ]
    },
    {
      "cell_type": "code",
      "metadata": {
        "id": "8gpq04i6RNpJ",
        "colab": {
          "base_uri": "https://localhost:8080/",
          "height": 33
        },
        "outputId": "a1fcdc59-35f4-4b3c-9606-2fd2e19e2014"
      },
      "source": [
        "len(values)"
      ],
      "execution_count": null,
      "outputs": [
        {
          "output_type": "execute_result",
          "data": {
            "text/plain": [
              "1147"
            ]
          },
          "metadata": {
            "tags": []
          },
          "execution_count": 229
        }
      ]
    },
    {
      "cell_type": "code",
      "metadata": {
        "id": "xuIifskGRI-Y"
      },
      "source": [
        "embedding_df[\"label_UPGMA\"] = values"
      ],
      "execution_count": null,
      "outputs": []
    },
    {
      "cell_type": "code",
      "metadata": {
        "id": "Z2yoG_mguY4_",
        "colab": {
          "base_uri": "https://localhost:8080/",
          "height": 33
        },
        "outputId": "e00a4151-a31c-4d8c-8e3a-53ef85a95bca"
      },
      "source": [
        "alt.data_transformers.disable_max_rows()"
      ],
      "execution_count": null,
      "outputs": [
        {
          "output_type": "execute_result",
          "data": {
            "text/plain": [
              "DataTransformerRegistry.enable('default')"
            ]
          },
          "metadata": {
            "tags": []
          },
          "execution_count": 183
        }
      ]
    },
    {
      "cell_type": "code",
      "metadata": {
        "id": "pUCPZGRqfuaf"
      },
      "source": [
        "#!pip3 install altair\n",
        "import altair as alt\n",
        "selection = alt.selection_multi(fields=[\"HD_label\"])\n",
        "chart = alt.Chart(embedding_df).mark_circle(size=60).encode(\n",
        "    x=alt.X(\"tsne_x\", title=\"t-SNE_x\"),\n",
        "    y=alt.X(\"tsne_y\", title=\"t-SNE_y\"),\n",
        "    color= \"label_UPGMA:N\"\n",
        ")\n",
        "\n",
        "chart2 = alt.Chart(embedding_df).mark_circle(size=60).encode(\n",
        "    x=alt.X(\"tsne_x\", title=\"t-SNE_x\"),\n",
        "    y=alt.X(\"tsne_y\", title=\"t-SNE_y\"),\n",
        "    color= \"HD_label:N\"\n",
        ")\n",
        "#chart2 = alt.Chart(embedding_df).mark_circle(size=60).encode(\n",
        "#    x=alt.X(\"tsne_x\", title=\"TSNE_x\"),\n",
        "#    y=alt.X(\"tsne_y\", title=\"TSNE_y\"),\n",
        "#    color=\"HD_label:N\"\n",
        "#)"
      ],
      "execution_count": null,
      "outputs": []
    },
    {
      "cell_type": "code",
      "metadata": {
        "id": "0xbBF98fuKbf",
        "colab": {
          "base_uri": "https://localhost:8080/",
          "height": 441
        },
        "outputId": "add772c2-6e76-42b6-d451-e16bfb7d657f"
      },
      "source": [
        "chart | chart2"
      ],
      "execution_count": null,
      "outputs": [
        {
          "output_type": "execute_result",
          "data": {
            "text/html": [
              "\n",
              "<div id=\"altair-viz-50cd9094e3a94e3d8577db6a3066d5f0\"></div>\n",
              "<script type=\"text/javascript\">\n",
              "  (function(spec, embedOpt){\n",
              "    let outputDiv = document.currentScript.previousElementSibling;\n",
              "    if (outputDiv.id !== \"altair-viz-50cd9094e3a94e3d8577db6a3066d5f0\") {\n",
              "      outputDiv = document.getElementById(\"altair-viz-50cd9094e3a94e3d8577db6a3066d5f0\");\n",
              "    }\n",
              "    const paths = {\n",
              "      \"vega\": \"https://cdn.jsdelivr.net/npm//vega@5?noext\",\n",
              "      \"vega-lib\": \"https://cdn.jsdelivr.net/npm//vega-lib?noext\",\n",
              "      \"vega-lite\": \"https://cdn.jsdelivr.net/npm//vega-lite@4.8.1?noext\",\n",
              "      \"vega-embed\": \"https://cdn.jsdelivr.net/npm//vega-embed@6?noext\",\n",
              "    };\n",
              "\n",
              "    function loadScript(lib) {\n",
              "      return new Promise(function(resolve, reject) {\n",
              "        var s = document.createElement('script');\n",
              "        s.src = paths[lib];\n",
              "        s.async = true;\n",
              "        s.onload = () => resolve(paths[lib]);\n",
              "        s.onerror = () => reject(`Error loading script: ${paths[lib]}`);\n",
              "        document.getElementsByTagName(\"head\")[0].appendChild(s);\n",
              "      });\n",
              "    }\n",
              "\n",
              "    function showError(err) {\n",
              "      outputDiv.innerHTML = `<div class=\"error\" style=\"color:red;\">${err}</div>`;\n",
              "      throw err;\n",
              "    }\n",
              "\n",
              "    function displayChart(vegaEmbed) {\n",
              "      vegaEmbed(outputDiv, spec, embedOpt)\n",
              "        .catch(err => showError(`Javascript Error: ${err.message}<br>This usually means there's a typo in your chart specification. See the javascript console for the full traceback.`));\n",
              "    }\n",
              "\n",
              "    if(typeof define === \"function\" && define.amd) {\n",
              "      requirejs.config({paths});\n",
              "      require([\"vega-embed\"], displayChart, err => showError(`Error loading script: ${err.message}`));\n",
              "    } else if (typeof vegaEmbed === \"function\") {\n",
              "      displayChart(vegaEmbed);\n",
              "    } else {\n",
              "      loadScript(\"vega\")\n",
              "        .then(() => loadScript(\"vega-lite\"))\n",
              "        .then(() => loadScript(\"vega-embed\"))\n",
              "        .catch(showError)\n",
              "        .then(() => displayChart(vegaEmbed));\n",
              "    }\n",
              "  })({\"config\": {\"view\": {\"continuousWidth\": 400, \"continuousHeight\": 300}}, \"hconcat\": [{\"mark\": {\"type\": \"circle\", \"size\": 60}, \"encoding\": {\"color\": {\"type\": \"nominal\", \"field\": \"label_UPGMA\"}, \"x\": {\"type\": \"quantitative\", \"field\": \"tsne_x\", \"title\": \"t-SNE_x\"}, \"y\": {\"type\": \"quantitative\", \"field\": \"tsne_y\", \"title\": \"t-SNE_y\"}}}, {\"mark\": {\"type\": \"circle\", \"size\": 60}, \"encoding\": {\"color\": {\"type\": \"nominal\", \"field\": \"HD_label\"}, \"x\": {\"type\": \"quantitative\", \"field\": \"tsne_x\", \"title\": \"t-SNE_x\"}, \"y\": {\"type\": \"quantitative\", \"field\": \"tsne_y\", \"title\": \"t-SNE_y\"}}}], \"data\": {\"name\": \"data-dc5be8e1818e4a3fa9e570d3191d4c5e\"}, \"$schema\": \"https://vega.github.io/schema/vega-lite/v4.8.1.json\", \"datasets\": {\"data-dc5be8e1818e4a3fa9e570d3191d4c5e\": [{\"tsne_x\": 24.99576759338379, \"tsne_y\": -51.51561737060547, \"label\": 24, \"HD_label\": 8, \"label_UPGMA\": 6}, {\"tsne_x\": 25.354291915893555, \"tsne_y\": -51.32378005981445, \"label\": 24, \"HD_label\": 7, \"label_UPGMA\": 10}, {\"tsne_x\": 25.464385986328125, \"tsne_y\": -51.259544372558594, \"label\": 24, \"HD_label\": 6, \"label_UPGMA\": 10}, {\"tsne_x\": 25.302528381347656, \"tsne_y\": -51.37342071533203, \"label\": 24, \"HD_label\": 6, \"label_UPGMA\": 9}, {\"tsne_x\": 25.501384735107422, \"tsne_y\": -51.23872375488281, \"label\": 24, \"HD_label\": 6, \"label_UPGMA\": 8}, {\"tsne_x\": 25.502347946166992, \"tsne_y\": -51.23772430419922, \"label\": 24, \"HD_label\": 6, \"label_UPGMA\": 7}, {\"tsne_x\": 28.256620407104492, \"tsne_y\": -49.94145965576172, \"label\": 24, \"HD_label\": 5, \"label_UPGMA\": 11}, {\"tsne_x\": 28.342405319213867, \"tsne_y\": -49.86277389526367, \"label\": 24, \"HD_label\": 5, \"label_UPGMA\": 11}, {\"tsne_x\": 28.386268615722656, \"tsne_y\": -49.83097457885742, \"label\": 24, \"HD_label\": 5, \"label_UPGMA\": 10}, {\"tsne_x\": 29.707666397094727, \"tsne_y\": -50.20358657836914, \"label\": 24, \"HD_label\": 5, \"label_UPGMA\": 10}, {\"tsne_x\": 36.27754211425781, \"tsne_y\": -45.116058349609375, \"label\": 24, \"HD_label\": 7, \"label_UPGMA\": 8}, {\"tsne_x\": 36.629188537597656, \"tsne_y\": -47.151668548583984, \"label\": 24, \"HD_label\": 6, \"label_UPGMA\": 14}, {\"tsne_x\": 36.56847381591797, \"tsne_y\": -46.48886489868164, \"label\": 24, \"HD_label\": 6, \"label_UPGMA\": 18}, {\"tsne_x\": 36.54347229003906, \"tsne_y\": -46.45932388305664, \"label\": 24, \"HD_label\": 6, \"label_UPGMA\": 18}, {\"tsne_x\": 36.56119155883789, \"tsne_y\": -46.48039627075195, \"label\": 24, \"HD_label\": 6, \"label_UPGMA\": 17}, {\"tsne_x\": 36.5684928894043, \"tsne_y\": -46.489070892333984, \"label\": 24, \"HD_label\": 6, \"label_UPGMA\": 16}, {\"tsne_x\": 35.83942794799805, \"tsne_y\": -46.775611877441406, \"label\": 24, \"HD_label\": 5, \"label_UPGMA\": 17}, {\"tsne_x\": 35.99315643310547, \"tsne_y\": -47.46735763549805, \"label\": 24, \"HD_label\": 6, \"label_UPGMA\": 11}, {\"tsne_x\": 37.02981948852539, \"tsne_y\": -46.8124885559082, \"label\": 24, \"HD_label\": 6, \"label_UPGMA\": 13}, {\"tsne_x\": 35.34779357910156, \"tsne_y\": -46.13338088989258, \"label\": 24, \"HD_label\": 8, \"label_UPGMA\": 10}, {\"tsne_x\": 29.249006271362305, \"tsne_y\": -54.26945495605469, \"label\": 24, \"HD_label\": 6, \"label_UPGMA\": 11}, {\"tsne_x\": 29.91884994506836, \"tsne_y\": -54.38652038574219, \"label\": 24, \"HD_label\": 5, \"label_UPGMA\": 16}, {\"tsne_x\": 31.18471908569336, \"tsne_y\": -56.040164947509766, \"label\": 24, \"HD_label\": 8, \"label_UPGMA\": 12}, {\"tsne_x\": 36.38613510131836, \"tsne_y\": -45.86191940307617, \"label\": 24, \"HD_label\": 6, \"label_UPGMA\": 12}, {\"tsne_x\": 36.13460922241211, \"tsne_y\": -46.65646743774414, \"label\": 24, \"HD_label\": 5, \"label_UPGMA\": 17}, {\"tsne_x\": 36.08613586425781, \"tsne_y\": -46.672054290771484, \"label\": 24, \"HD_label\": 5, \"label_UPGMA\": 16}, {\"tsne_x\": 37.26491165161133, \"tsne_y\": -47.69504928588867, \"label\": 24, \"HD_label\": 6, \"label_UPGMA\": 9}, {\"tsne_x\": 29.632097244262695, \"tsne_y\": -55.7617073059082, \"label\": 24, \"HD_label\": 8, \"label_UPGMA\": 16}, {\"tsne_x\": 29.823402404785156, \"tsne_y\": -55.82112121582031, \"label\": 24, \"HD_label\": 8, \"label_UPGMA\": 16}, {\"tsne_x\": 29.942825317382812, \"tsne_y\": -56.5511474609375, \"label\": 24, \"HD_label\": 7, \"label_UPGMA\": 15}, {\"tsne_x\": 30.253541946411133, \"tsne_y\": -54.46165466308594, \"label\": 24, \"HD_label\": 6, \"label_UPGMA\": 15}, {\"tsne_x\": 30.11023712158203, \"tsne_y\": -54.40776443481445, \"label\": 24, \"HD_label\": 5, \"label_UPGMA\": 16}, {\"tsne_x\": 29.9231014251709, \"tsne_y\": -54.44462203979492, \"label\": 24, \"HD_label\": 7, \"label_UPGMA\": 14}, {\"tsne_x\": 30.844953536987305, \"tsne_y\": -54.072261810302734, \"label\": 24, \"HD_label\": 5, \"label_UPGMA\": 10}, {\"tsne_x\": 30.256635665893555, \"tsne_y\": -54.462989807128906, \"label\": 24, \"HD_label\": 6, \"label_UPGMA\": 13}, {\"tsne_x\": 29.91839027404785, \"tsne_y\": -53.66640090942383, \"label\": 24, \"HD_label\": 6, \"label_UPGMA\": 13}, {\"tsne_x\": 29.866186141967773, \"tsne_y\": -53.487030029296875, \"label\": 24, \"HD_label\": 6, \"label_UPGMA\": 13}, {\"tsne_x\": 31.07179069519043, \"tsne_y\": -56.02131652832031, \"label\": 24, \"HD_label\": 7, \"label_UPGMA\": 12}, {\"tsne_x\": 30.295129776000977, \"tsne_y\": -56.78661346435547, \"label\": 24, \"HD_label\": 7, \"label_UPGMA\": 13}, {\"tsne_x\": 29.06007194519043, \"tsne_y\": -56.95363235473633, \"label\": 24, \"HD_label\": 8, \"label_UPGMA\": 16}, {\"tsne_x\": 29.157041549682617, \"tsne_y\": -56.863956451416016, \"label\": 24, \"HD_label\": 8, \"label_UPGMA\": 16}, {\"tsne_x\": 29.060882568359375, \"tsne_y\": -56.623382568359375, \"label\": 24, \"HD_label\": 8, \"label_UPGMA\": 15}, {\"tsne_x\": 28.662641525268555, \"tsne_y\": -57.39616012573242, \"label\": 24, \"HD_label\": 8, \"label_UPGMA\": 9}, {\"tsne_x\": 30.276798248291016, \"tsne_y\": -57.346710205078125, \"label\": 24, \"HD_label\": 7, \"label_UPGMA\": 10}, {\"tsne_x\": 29.950725555419922, \"tsne_y\": -56.57374572753906, \"label\": 24, \"HD_label\": 7, \"label_UPGMA\": 12}, {\"tsne_x\": 31.365379333496094, \"tsne_y\": -53.96949005126953, \"label\": 24, \"HD_label\": 6, \"label_UPGMA\": 9}, {\"tsne_x\": 29.305335998535156, \"tsne_y\": -48.04526901245117, \"label\": 24, \"HD_label\": 5, \"label_UPGMA\": 9}, {\"tsne_x\": 28.797748565673828, \"tsne_y\": -48.78422927856445, \"label\": 24, \"HD_label\": 4, \"label_UPGMA\": 10}, {\"tsne_x\": 28.78028678894043, \"tsne_y\": -48.88853073120117, \"label\": 24, \"HD_label\": 5, \"label_UPGMA\": 10}, {\"tsne_x\": 30.15205955505371, \"tsne_y\": -46.83253860473633, \"label\": 24, \"HD_label\": 5, \"label_UPGMA\": 6}, {\"tsne_x\": 30.129440307617188, \"tsne_y\": -46.86897277832031, \"label\": 24, \"HD_label\": 5, \"label_UPGMA\": 6}, {\"tsne_x\": 29.786930084228516, \"tsne_y\": -50.268310546875, \"label\": 24, \"HD_label\": 5, \"label_UPGMA\": 10}, {\"tsne_x\": 26.54762077331543, \"tsne_y\": -46.956260681152344, \"label\": 24, \"HD_label\": 5, \"label_UPGMA\": 6}, {\"tsne_x\": 26.518199920654297, \"tsne_y\": -46.93751525878906, \"label\": 24, \"HD_label\": 5, \"label_UPGMA\": 5}, {\"tsne_x\": 26.547805786132812, \"tsne_y\": -46.955379486083984, \"label\": 24, \"HD_label\": 5, \"label_UPGMA\": 6}, {\"tsne_x\": 30.187023162841797, \"tsne_y\": -46.757240295410156, \"label\": 24, \"HD_label\": 4, \"label_UPGMA\": 5}, {\"tsne_x\": 28.439716339111328, \"tsne_y\": -47.761993408203125, \"label\": 24, \"HD_label\": 5, \"label_UPGMA\": 8}, {\"tsne_x\": -7.140305995941162, \"tsne_y\": 9.782979011535645, \"label\": 24, \"HD_label\": 4, \"label_UPGMA\": 8}, {\"tsne_x\": 37.998783111572266, \"tsne_y\": -45.86268615722656, \"label\": 24, \"HD_label\": 11, \"label_UPGMA\": 8}, {\"tsne_x\": 37.56808090209961, \"tsne_y\": -46.047607421875, \"label\": 24, \"HD_label\": 7, \"label_UPGMA\": 8}, {\"tsne_x\": 14.190644264221191, \"tsne_y\": -62.99842834472656, \"label\": 24, \"HD_label\": 10, \"label_UPGMA\": 5}, {\"tsne_x\": 14.000268936157227, \"tsne_y\": -62.80571365356445, \"label\": 24, \"HD_label\": 10, \"label_UPGMA\": 5}, {\"tsne_x\": 14.376028060913086, \"tsne_y\": -63.67845153808594, \"label\": 24, \"HD_label\": 8, \"label_UPGMA\": 10}, {\"tsne_x\": 14.375946044921875, \"tsne_y\": -63.67870330810547, \"label\": 24, \"HD_label\": 10, \"label_UPGMA\": 10}, {\"tsne_x\": 14.07144832611084, \"tsne_y\": -63.87712478637695, \"label\": 24, \"HD_label\": 7, \"label_UPGMA\": 9}, {\"tsne_x\": 13.963104248046875, \"tsne_y\": -63.93624496459961, \"label\": 24, \"HD_label\": 7, \"label_UPGMA\": 9}, {\"tsne_x\": 14.782408714294434, \"tsne_y\": -63.0555419921875, \"label\": 24, \"HD_label\": 9, \"label_UPGMA\": 7}, {\"tsne_x\": 14.913433074951172, \"tsne_y\": -63.25365447998047, \"label\": 24, \"HD_label\": 10, \"label_UPGMA\": 6}, {\"tsne_x\": 14.910836219787598, \"tsne_y\": -63.24595642089844, \"label\": 24, \"HD_label\": 10, \"label_UPGMA\": 5}, {\"tsne_x\": 15.221817970275879, \"tsne_y\": -64.58126068115234, \"label\": 24, \"HD_label\": 13, \"label_UPGMA\": 5}, {\"tsne_x\": 15.756549835205078, \"tsne_y\": -64.66947937011719, \"label\": 24, \"HD_label\": 13, \"label_UPGMA\": 7}, {\"tsne_x\": 14.64659595489502, \"tsne_y\": -63.502464294433594, \"label\": 24, \"HD_label\": 10, \"label_UPGMA\": 9}, {\"tsne_x\": 15.397839546203613, \"tsne_y\": -64.97025299072266, \"label\": 24, \"HD_label\": 13, \"label_UPGMA\": 5}, {\"tsne_x\": 16.010141372680664, \"tsne_y\": -64.53509521484375, \"label\": 24, \"HD_label\": 13, \"label_UPGMA\": 7}, {\"tsne_x\": 16.14189338684082, \"tsne_y\": -64.49742126464844, \"label\": 24, \"HD_label\": 13, \"label_UPGMA\": 6}, {\"tsne_x\": 15.895983695983887, \"tsne_y\": -64.68940734863281, \"label\": 24, \"HD_label\": 13, \"label_UPGMA\": 5}, {\"tsne_x\": 5.057828903198242, \"tsne_y\": 5.698042392730713, \"label\": 24, \"HD_label\": 5, \"label_UPGMA\": 7}, {\"tsne_x\": 28.759008407592773, \"tsne_y\": -18.524328231811523, \"label\": 24, \"HD_label\": 10, \"label_UPGMA\": 14}, {\"tsne_x\": 28.35947036743164, \"tsne_y\": -19.010347366333008, \"label\": 24, \"HD_label\": 8, \"label_UPGMA\": 16}, {\"tsne_x\": 28.349285125732422, \"tsne_y\": -18.90843391418457, \"label\": 24, \"HD_label\": 8, \"label_UPGMA\": 16}, {\"tsne_x\": 28.1595516204834, \"tsne_y\": -20.05718421936035, \"label\": 24, \"HD_label\": 9, \"label_UPGMA\": 13}, {\"tsne_x\": 30.861713409423828, \"tsne_y\": -21.81302833557129, \"label\": 24, \"HD_label\": 10, \"label_UPGMA\": 14}, {\"tsne_x\": 30.827377319335938, \"tsne_y\": -20.760438919067383, \"label\": 24, \"HD_label\": 10, \"label_UPGMA\": 16}, {\"tsne_x\": 30.954015731811523, \"tsne_y\": -21.056949615478516, \"label\": 24, \"HD_label\": 9, \"label_UPGMA\": 15}, {\"tsne_x\": 31.398305892944336, \"tsne_y\": -21.307336807250977, \"label\": 24, \"HD_label\": 10, \"label_UPGMA\": 15}, {\"tsne_x\": 30.39815330505371, \"tsne_y\": -21.43462371826172, \"label\": 24, \"HD_label\": 10, \"label_UPGMA\": 14}, {\"tsne_x\": 31.678192138671875, \"tsne_y\": -21.865446090698242, \"label\": 24, \"HD_label\": 9, \"label_UPGMA\": 12}, {\"tsne_x\": 15.922296524047852, \"tsne_y\": 3.807499647140503, \"label\": 24, \"HD_label\": 7, \"label_UPGMA\": 46}, {\"tsne_x\": 16.188623428344727, \"tsne_y\": 3.959709882736206, \"label\": 24, \"HD_label\": 7, \"label_UPGMA\": 46}, {\"tsne_x\": 21.79330062866211, \"tsne_y\": -3.8021788597106934, \"label\": 24, \"HD_label\": 7, \"label_UPGMA\": 28}, {\"tsne_x\": 21.23005485534668, \"tsne_y\": -2.503533124923706, \"label\": 24, \"HD_label\": 8, \"label_UPGMA\": 29}, {\"tsne_x\": 20.93357276916504, \"tsne_y\": -3.0159075260162354, \"label\": 24, \"HD_label\": 8, \"label_UPGMA\": 26}, {\"tsne_x\": 17.816335678100586, \"tsne_y\": 2.5514588356018066, \"label\": 24, \"HD_label\": 7, \"label_UPGMA\": 49}, {\"tsne_x\": 14.04794979095459, \"tsne_y\": 5.938868522644043, \"label\": 24, \"HD_label\": 6, \"label_UPGMA\": 49}, {\"tsne_x\": 15.877976417541504, \"tsne_y\": 2.174529790878296, \"label\": 24, \"HD_label\": 6, \"label_UPGMA\": 49}, {\"tsne_x\": 14.92670726776123, \"tsne_y\": 1.3060460090637207, \"label\": 24, \"HD_label\": 7, \"label_UPGMA\": 32}, {\"tsne_x\": 16.214759826660156, \"tsne_y\": 1.5828921794891357, \"label\": 24, \"HD_label\": 7, \"label_UPGMA\": 49}, {\"tsne_x\": 15.984506607055664, \"tsne_y\": 1.6261062622070312, \"label\": 24, \"HD_label\": 7, \"label_UPGMA\": 32}, {\"tsne_x\": 21.442607879638672, \"tsne_y\": 2.713303804397583, \"label\": 24, \"HD_label\": 5, \"label_UPGMA\": 44}, {\"tsne_x\": 20.156171798706055, \"tsne_y\": 2.430663585662842, \"label\": 24, \"HD_label\": 5, \"label_UPGMA\": 43}, {\"tsne_x\": 22.699508666992188, \"tsne_y\": 0.372297078371048, \"label\": 24, \"HD_label\": 6, \"label_UPGMA\": 27}, {\"tsne_x\": 22.505558013916016, \"tsne_y\": 0.36529526114463806, \"label\": 24, \"HD_label\": 5, \"label_UPGMA\": 27}, {\"tsne_x\": 20.795724868774414, \"tsne_y\": 5.643648147583008, \"label\": 24, \"HD_label\": 7, \"label_UPGMA\": 43}, {\"tsne_x\": 20.16267967224121, \"tsne_y\": 6.265872478485107, \"label\": 24, \"HD_label\": 9, \"label_UPGMA\": 42}, {\"tsne_x\": 14.41324234008789, \"tsne_y\": 7.007991313934326, \"label\": 24, \"HD_label\": 7, \"label_UPGMA\": 23}, {\"tsne_x\": 13.529272079467773, \"tsne_y\": 6.243362903594971, \"label\": 24, \"HD_label\": 7, \"label_UPGMA\": 27}, {\"tsne_x\": 12.839093208312988, \"tsne_y\": 7.841024875640869, \"label\": 24, \"HD_label\": 7, \"label_UPGMA\": 22}, {\"tsne_x\": 13.649420738220215, \"tsne_y\": 6.541403770446777, \"label\": 24, \"HD_label\": 8, \"label_UPGMA\": 27}, {\"tsne_x\": 13.23801326751709, \"tsne_y\": 5.536893367767334, \"label\": 24, \"HD_label\": 7, \"label_UPGMA\": 21}, {\"tsne_x\": 13.679130554199219, \"tsne_y\": 6.527716636657715, \"label\": 24, \"HD_label\": 6, \"label_UPGMA\": 26}, {\"tsne_x\": 25.681215286254883, \"tsne_y\": 6.400721073150635, \"label\": 24, \"HD_label\": 5, \"label_UPGMA\": 43}, {\"tsne_x\": 14.62765121459961, \"tsne_y\": 1.2395069599151611, \"label\": 24, \"HD_label\": 7, \"label_UPGMA\": 32}, {\"tsne_x\": 15.933170318603516, \"tsne_y\": 1.0379352569580078, \"label\": 24, \"HD_label\": 7, \"label_UPGMA\": 32}, {\"tsne_x\": 21.95241355895996, \"tsne_y\": -1.6642037630081177, \"label\": 24, \"HD_label\": 10, \"label_UPGMA\": 26}, {\"tsne_x\": 23.7767333984375, \"tsne_y\": -4.810463905334473, \"label\": 24, \"HD_label\": 8, \"label_UPGMA\": 25}, {\"tsne_x\": 23.773542404174805, \"tsne_y\": -4.804570198059082, \"label\": 24, \"HD_label\": 8, \"label_UPGMA\": 25}, {\"tsne_x\": 20.750864028930664, \"tsne_y\": 0.10976219177246094, \"label\": 24, \"HD_label\": 5, \"label_UPGMA\": 41}, {\"tsne_x\": 23.212430953979492, \"tsne_y\": 2.765681743621826, \"label\": 24, \"HD_label\": 5, \"label_UPGMA\": 47}, {\"tsne_x\": 19.378890991210938, \"tsne_y\": 5.70086669921875, \"label\": 24, \"HD_label\": 8, \"label_UPGMA\": 27}, {\"tsne_x\": 28.143712997436523, \"tsne_y\": 3.6012654304504395, \"label\": 24, \"HD_label\": 4, \"label_UPGMA\": 25}, {\"tsne_x\": 13.111958503723145, \"tsne_y\": 7.986326694488525, \"label\": 24, \"HD_label\": 7, \"label_UPGMA\": 20}, {\"tsne_x\": 18.58128547668457, \"tsne_y\": 0.2251359075307846, \"label\": 24, \"HD_label\": 4, \"label_UPGMA\": 25}, {\"tsne_x\": 27.495391845703125, \"tsne_y\": -2.8987607955932617, \"label\": 24, \"HD_label\": 6, \"label_UPGMA\": 29}, {\"tsne_x\": 27.49724006652832, \"tsne_y\": -2.900017023086548, \"label\": 24, \"HD_label\": 7, \"label_UPGMA\": 29}, {\"tsne_x\": 18.5917911529541, \"tsne_y\": -8.17210578918457, \"label\": 24, \"HD_label\": 5, \"label_UPGMA\": 25}, {\"tsne_x\": 18.545000076293945, \"tsne_y\": -8.225789070129395, \"label\": 24, \"HD_label\": 4, \"label_UPGMA\": 25}, {\"tsne_x\": 19.93306541442871, \"tsne_y\": -3.175903081893921, \"label\": 24, \"HD_label\": 7, \"label_UPGMA\": 20}, {\"tsne_x\": 19.038103103637695, \"tsne_y\": 2.8558542728424072, \"label\": 24, \"HD_label\": 5, \"label_UPGMA\": 41}, {\"tsne_x\": 23.790571212768555, \"tsne_y\": 4.699697971343994, \"label\": 24, \"HD_label\": 7, \"label_UPGMA\": 35}, {\"tsne_x\": 15.721704483032227, \"tsne_y\": 6.341904640197754, \"label\": 24, \"HD_label\": 7, \"label_UPGMA\": 18}, {\"tsne_x\": 22.428770065307617, \"tsne_y\": -15.375686645507812, \"label\": 24, \"HD_label\": 8, \"label_UPGMA\": 19}, {\"tsne_x\": 22.353744506835938, \"tsne_y\": -15.409443855285645, \"label\": 24, \"HD_label\": 6, \"label_UPGMA\": 19}, {\"tsne_x\": 18.882436752319336, \"tsne_y\": -16.328369140625, \"label\": 24, \"HD_label\": 5, \"label_UPGMA\": 33}, {\"tsne_x\": 18.84615707397461, \"tsne_y\": -16.323978424072266, \"label\": 24, \"HD_label\": 5, \"label_UPGMA\": 33}, {\"tsne_x\": 19.035816192626953, \"tsne_y\": -16.667638778686523, \"label\": 24, \"HD_label\": 7, \"label_UPGMA\": 32}, {\"tsne_x\": 17.053470611572266, \"tsne_y\": -13.91673469543457, \"label\": 24, \"HD_label\": 7, \"label_UPGMA\": 29}, {\"tsne_x\": 14.777823448181152, \"tsne_y\": -14.853171348571777, \"label\": 24, \"HD_label\": 5, \"label_UPGMA\": 26}, {\"tsne_x\": 14.687520027160645, \"tsne_y\": -14.8859224319458, \"label\": 24, \"HD_label\": 6, \"label_UPGMA\": 26}, {\"tsne_x\": 17.77018928527832, \"tsne_y\": -17.83901596069336, \"label\": 24, \"HD_label\": 8, \"label_UPGMA\": 23}, {\"tsne_x\": 6.372325420379639, \"tsne_y\": -28.433637619018555, \"label\": 24, \"HD_label\": 5, \"label_UPGMA\": 23}, {\"tsne_x\": 6.051678657531738, \"tsne_y\": -28.16459846496582, \"label\": 24, \"HD_label\": 6, \"label_UPGMA\": 18}, {\"tsne_x\": 6.804201602935791, \"tsne_y\": -29.75366973876953, \"label\": 24, \"HD_label\": 7, \"label_UPGMA\": 20}, {\"tsne_x\": 19.006149291992188, \"tsne_y\": -13.283217430114746, \"label\": 24, \"HD_label\": 7, \"label_UPGMA\": 20}, {\"tsne_x\": -2.793409824371338, \"tsne_y\": -56.8658332824707, \"label\": 24, \"HD_label\": 8, \"label_UPGMA\": 27}, {\"tsne_x\": -2.9044556617736816, \"tsne_y\": -56.518550872802734, \"label\": 24, \"HD_label\": 8, \"label_UPGMA\": 27}, {\"tsne_x\": -2.7649643421173096, \"tsne_y\": -56.249080657958984, \"label\": 24, \"HD_label\": 8, \"label_UPGMA\": 26}, {\"tsne_x\": -2.7929298877716064, \"tsne_y\": -56.865299224853516, \"label\": 24, \"HD_label\": 8, \"label_UPGMA\": 25}, {\"tsne_x\": -2.764155149459839, \"tsne_y\": -56.248416900634766, \"label\": 24, \"HD_label\": 8, \"label_UPGMA\": 24}, {\"tsne_x\": -2.922614336013794, \"tsne_y\": -55.68832778930664, \"label\": 24, \"HD_label\": 8, \"label_UPGMA\": 23}, {\"tsne_x\": -1.594454288482666, \"tsne_y\": -56.641082763671875, \"label\": 24, \"HD_label\": 8, \"label_UPGMA\": 24}, {\"tsne_x\": -1.3505065441131592, \"tsne_y\": -56.39030075073242, \"label\": 24, \"HD_label\": 8, \"label_UPGMA\": 24}, {\"tsne_x\": -1.3778959512710571, \"tsne_y\": -56.939292907714844, \"label\": 24, \"HD_label\": 8, \"label_UPGMA\": 23}, {\"tsne_x\": -1.3495815992355347, \"tsne_y\": -56.39038848876953, \"label\": 24, \"HD_label\": 8, \"label_UPGMA\": 22}, {\"tsne_x\": -1.378387451171875, \"tsne_y\": -56.940494537353516, \"label\": 24, \"HD_label\": 8, \"label_UPGMA\": 21}, {\"tsne_x\": -2.9435136318206787, \"tsne_y\": -54.978668212890625, \"label\": 24, \"HD_label\": 8, \"label_UPGMA\": 16}, {\"tsne_x\": -4.061374664306641, \"tsne_y\": -56.09135818481445, \"label\": 24, \"HD_label\": 8, \"label_UPGMA\": 19}, {\"tsne_x\": -3.263685464859009, \"tsne_y\": -56.53047180175781, \"label\": 24, \"HD_label\": 8, \"label_UPGMA\": 22}, {\"tsne_x\": -3.261821985244751, \"tsne_y\": -56.461429595947266, \"label\": 24, \"HD_label\": 8, \"label_UPGMA\": 21}, {\"tsne_x\": -3.7071025371551514, \"tsne_y\": -57.78630447387695, \"label\": 24, \"HD_label\": 8, \"label_UPGMA\": 20}, {\"tsne_x\": -3.7071025371551514, \"tsne_y\": -57.78630447387695, \"label\": 24, \"HD_label\": 8, \"label_UPGMA\": 20}, {\"tsne_x\": -3.4633266925811768, \"tsne_y\": -58.27927780151367, \"label\": 24, \"HD_label\": 8, \"label_UPGMA\": 20}, {\"tsne_x\": -3.443108320236206, \"tsne_y\": -58.50639724731445, \"label\": 24, \"HD_label\": 8, \"label_UPGMA\": 20}, {\"tsne_x\": -0.5845566987991333, \"tsne_y\": -56.6848030090332, \"label\": 24, \"HD_label\": 8, \"label_UPGMA\": 17}, {\"tsne_x\": 15.700251579284668, \"tsne_y\": -14.166014671325684, \"label\": 24, \"HD_label\": 5, \"label_UPGMA\": 25}, {\"tsne_x\": 17.738914489746094, \"tsne_y\": -13.046394348144531, \"label\": 24, \"HD_label\": 7, \"label_UPGMA\": 19}, {\"tsne_x\": 15.989408493041992, \"tsne_y\": -13.197501182556152, \"label\": 24, \"HD_label\": 7, \"label_UPGMA\": 24}, {\"tsne_x\": 13.095495223999023, \"tsne_y\": -17.94205093383789, \"label\": 24, \"HD_label\": 6, \"label_UPGMA\": 18}, {\"tsne_x\": 13.162360191345215, \"tsne_y\": -17.976842880249023, \"label\": 24, \"HD_label\": 6, \"label_UPGMA\": 18}, {\"tsne_x\": 13.364355087280273, \"tsne_y\": -17.83087158203125, \"label\": 24, \"HD_label\": 7, \"label_UPGMA\": 17}, {\"tsne_x\": 15.19955825805664, \"tsne_y\": -30.96256446838379, \"label\": 24, \"HD_label\": 9, \"label_UPGMA\": 18}, {\"tsne_x\": 15.174179077148438, \"tsne_y\": -30.6180477142334, \"label\": 24, \"HD_label\": 9, \"label_UPGMA\": 18}, {\"tsne_x\": 8.116395950317383, \"tsne_y\": -29.044727325439453, \"label\": 24, \"HD_label\": 8, \"label_UPGMA\": 14}, {\"tsne_x\": 8.00927734375, \"tsne_y\": -30.1517391204834, \"label\": 24, \"HD_label\": 9, \"label_UPGMA\": 20}, {\"tsne_x\": 18.737178802490234, \"tsne_y\": 9.81773853302002, \"label\": 24, \"HD_label\": 10, \"label_UPGMA\": 16}, {\"tsne_x\": 18.738292694091797, \"tsne_y\": 9.818564414978027, \"label\": 24, \"HD_label\": 11, \"label_UPGMA\": 16}, {\"tsne_x\": 24.651687622070312, \"tsne_y\": 3.533789873123169, \"label\": 24, \"HD_label\": 5, \"label_UPGMA\": 24}, {\"tsne_x\": 17.665212631225586, \"tsne_y\": 0.9190516471862793, \"label\": 24, \"HD_label\": 7, \"label_UPGMA\": 23}, {\"tsne_x\": 15.144365310668945, \"tsne_y\": -1.4858593940734863, \"label\": 24, \"HD_label\": 7, \"label_UPGMA\": 23}, {\"tsne_x\": 14.942610740661621, \"tsne_y\": -1.6633394956588745, \"label\": 24, \"HD_label\": 7, \"label_UPGMA\": 22}, {\"tsne_x\": 22.42620277404785, \"tsne_y\": 14.055652618408203, \"label\": 24, \"HD_label\": 8, \"label_UPGMA\": 14}, {\"tsne_x\": 22.44101905822754, \"tsne_y\": 14.06701946258545, \"label\": 24, \"HD_label\": 8, \"label_UPGMA\": 13}, {\"tsne_x\": 22.46225929260254, \"tsne_y\": 14.090311050415039, \"label\": 24, \"HD_label\": 7, \"label_UPGMA\": 14}, {\"tsne_x\": 23.612112045288086, \"tsne_y\": 15.138768196105957, \"label\": 24, \"HD_label\": 8, \"label_UPGMA\": 13}, {\"tsne_x\": 12.560370445251465, \"tsne_y\": -0.21499940752983093, \"label\": 24, \"HD_label\": 8, \"label_UPGMA\": 18}, {\"tsne_x\": 12.446160316467285, \"tsne_y\": -0.24264299869537354, \"label\": 24, \"HD_label\": 6, \"label_UPGMA\": 18}, {\"tsne_x\": 0.12752953171730042, \"tsne_y\": -22.56683349609375, \"label\": 24, \"HD_label\": 10, \"label_UPGMA\": 13}, {\"tsne_x\": 0.134598970413208, \"tsne_y\": -22.558258056640625, \"label\": 24, \"HD_label\": 10, \"label_UPGMA\": 13}, {\"tsne_x\": -2.368319511413574, \"tsne_y\": -28.62795066833496, \"label\": 24, \"HD_label\": 8, \"label_UPGMA\": 28}, {\"tsne_x\": -1.698997139930725, \"tsne_y\": -28.184274673461914, \"label\": 24, \"HD_label\": 9, \"label_UPGMA\": 27}, {\"tsne_x\": -1.51949942111969, \"tsne_y\": -28.023876190185547, \"label\": 24, \"HD_label\": 9, \"label_UPGMA\": 26}, {\"tsne_x\": -1.762211561203003, \"tsne_y\": -28.119096755981445, \"label\": 24, \"HD_label\": 9, \"label_UPGMA\": 25}, {\"tsne_x\": -3.1821398735046387, \"tsne_y\": -29.187084197998047, \"label\": 24, \"HD_label\": 10, \"label_UPGMA\": 19}, {\"tsne_x\": -3.3878233432769775, \"tsne_y\": -29.370933532714844, \"label\": 24, \"HD_label\": 10, \"label_UPGMA\": 19}, {\"tsne_x\": -1.7066749334335327, \"tsne_y\": -29.567256927490234, \"label\": 24, \"HD_label\": 10, \"label_UPGMA\": 24}, {\"tsne_x\": -2.6360082626342773, \"tsne_y\": -28.047883987426758, \"label\": 24, \"HD_label\": 9, \"label_UPGMA\": 21}, {\"tsne_x\": -1.0971076488494873, \"tsne_y\": -26.592941284179688, \"label\": 24, \"HD_label\": 10, \"label_UPGMA\": 23}, {\"tsne_x\": -1.5743893384933472, \"tsne_y\": -26.58074951171875, \"label\": 24, \"HD_label\": 9, \"label_UPGMA\": 23}, {\"tsne_x\": -3.598022222518921, \"tsne_y\": -26.07378387451172, \"label\": 24, \"HD_label\": 9, \"label_UPGMA\": 22}, {\"tsne_x\": -0.15763677656650543, \"tsne_y\": -28.367839813232422, \"label\": 24, \"HD_label\": 9, \"label_UPGMA\": 19}, {\"tsne_x\": -6.493786334991455, \"tsne_y\": -26.397493362426758, \"label\": 24, \"HD_label\": 10, \"label_UPGMA\": 19}, {\"tsne_x\": -6.7101054191589355, \"tsne_y\": -26.942108154296875, \"label\": 24, \"HD_label\": 10, \"label_UPGMA\": 15}, {\"tsne_x\": -5.443690299987793, \"tsne_y\": -26.292449951171875, \"label\": 24, \"HD_label\": 11, \"label_UPGMA\": 14}, {\"tsne_x\": -4.033981800079346, \"tsne_y\": -37.58232498168945, \"label\": 24, \"HD_label\": 9, \"label_UPGMA\": 14}, {\"tsne_x\": -4.127275466918945, \"tsne_y\": -36.878292083740234, \"label\": 24, \"HD_label\": 8, \"label_UPGMA\": 18}, {\"tsne_x\": -4.127267837524414, \"tsne_y\": -36.8780517578125, \"label\": 24, \"HD_label\": 8, \"label_UPGMA\": 18}, {\"tsne_x\": -4.241021156311035, \"tsne_y\": -37.869606018066406, \"label\": 24, \"HD_label\": 9, \"label_UPGMA\": 14}, {\"tsne_x\": 14.221321105957031, \"tsne_y\": -11.422462463378906, \"label\": 24, \"HD_label\": 7, \"label_UPGMA\": 17}, {\"tsne_x\": 14.215862274169922, \"tsne_y\": -11.414362907409668, \"label\": 24, \"HD_label\": 7, \"label_UPGMA\": 17}, {\"tsne_x\": 9.44263744354248, \"tsne_y\": -38.97004318237305, \"label\": 24, \"HD_label\": 10, \"label_UPGMA\": 19}, {\"tsne_x\": 9.01711368560791, \"tsne_y\": -39.16952133178711, \"label\": 24, \"HD_label\": 7, \"label_UPGMA\": 22}, {\"tsne_x\": 8.346372604370117, \"tsne_y\": -39.878746032714844, \"label\": 24, \"HD_label\": 9, \"label_UPGMA\": 17}, {\"tsne_x\": 19.983863830566406, \"tsne_y\": -14.547402381896973, \"label\": 24, \"HD_label\": 6, \"label_UPGMA\": 13}, {\"tsne_x\": 7.394690990447998, \"tsne_y\": -27.195072174072266, \"label\": 24, \"HD_label\": 6, \"label_UPGMA\": 15}, {\"tsne_x\": 13.63228988647461, \"tsne_y\": 8.640595436096191, \"label\": 24, \"HD_label\": 8, \"label_UPGMA\": 19}, {\"tsne_x\": 12.525781631469727, \"tsne_y\": 4.018669128417969, \"label\": 24, \"HD_label\": 4, \"label_UPGMA\": 23}, {\"tsne_x\": 28.419137954711914, \"tsne_y\": 9.275558471679688, \"label\": 24, \"HD_label\": 6, \"label_UPGMA\": 13}, {\"tsne_x\": 28.77684211730957, \"tsne_y\": 8.064271926879883, \"label\": 24, \"HD_label\": 8, \"label_UPGMA\": 16}, {\"tsne_x\": 12.542427062988281, \"tsne_y\": -17.637975692749023, \"label\": 24, \"HD_label\": 8, \"label_UPGMA\": 15}, {\"tsne_x\": 16.849945068359375, \"tsne_y\": -12.711169242858887, \"label\": 24, \"HD_label\": 7, \"label_UPGMA\": 13}, {\"tsne_x\": -21.0531005859375, \"tsne_y\": 10.466936111450195, \"label\": 24, \"HD_label\": 6, \"label_UPGMA\": 16}, {\"tsne_x\": -20.492162704467773, \"tsne_y\": 10.438990592956543, \"label\": 24, \"HD_label\": 6, \"label_UPGMA\": 17}, {\"tsne_x\": -20.32898712158203, \"tsne_y\": 10.429235458374023, \"label\": 24, \"HD_label\": 6, \"label_UPGMA\": 17}, {\"tsne_x\": -21.279176712036133, \"tsne_y\": 10.091384887695312, \"label\": 24, \"HD_label\": 8, \"label_UPGMA\": 16}, {\"tsne_x\": -19.252506256103516, \"tsne_y\": 10.378153800964355, \"label\": 24, \"HD_label\": 5, \"label_UPGMA\": 20}, {\"tsne_x\": -21.394540786743164, \"tsne_y\": 9.915682792663574, \"label\": 24, \"HD_label\": 7, \"label_UPGMA\": 16}, {\"tsne_x\": -21.78232192993164, \"tsne_y\": 11.161046981811523, \"label\": 24, \"HD_label\": 7, \"label_UPGMA\": 18}, {\"tsne_x\": -21.782381057739258, \"tsne_y\": 11.161046028137207, \"label\": 24, \"HD_label\": 7, \"label_UPGMA\": 17}, {\"tsne_x\": -21.797218322753906, \"tsne_y\": 11.449469566345215, \"label\": 24, \"HD_label\": 8, \"label_UPGMA\": 16}, {\"tsne_x\": -22.33603286743164, \"tsne_y\": 11.172595977783203, \"label\": 24, \"HD_label\": 7, \"label_UPGMA\": 15}, {\"tsne_x\": -17.23157501220703, \"tsne_y\": 9.991442680358887, \"label\": 24, \"HD_label\": 4, \"label_UPGMA\": 20}, {\"tsne_x\": -18.122974395751953, \"tsne_y\": 9.957083702087402, \"label\": 24, \"HD_label\": 5, \"label_UPGMA\": 22}, {\"tsne_x\": -18.122314453125, \"tsne_y\": 9.95742130279541, \"label\": 24, \"HD_label\": 5, \"label_UPGMA\": 22}, {\"tsne_x\": -18.122453689575195, \"tsne_y\": 9.957436561584473, \"label\": 24, \"HD_label\": 5, \"label_UPGMA\": 21}, {\"tsne_x\": -18.609378814697266, \"tsne_y\": 9.909132957458496, \"label\": 24, \"HD_label\": 5, \"label_UPGMA\": 18}, {\"tsne_x\": -18.27335548400879, \"tsne_y\": 10.662606239318848, \"label\": 24, \"HD_label\": 5, \"label_UPGMA\": 17}, {\"tsne_x\": -17.160762786865234, \"tsne_y\": 10.537703514099121, \"label\": 24, \"HD_label\": 4, \"label_UPGMA\": 17}, {\"tsne_x\": -15.889042854309082, \"tsne_y\": 10.436634063720703, \"label\": 24, \"HD_label\": 5, \"label_UPGMA\": 18}, {\"tsne_x\": -15.968554496765137, \"tsne_y\": 10.413187026977539, \"label\": 24, \"HD_label\": 5, \"label_UPGMA\": 18}, {\"tsne_x\": -18.463754653930664, \"tsne_y\": 8.08942985534668, \"label\": 24, \"HD_label\": 8, \"label_UPGMA\": 14}, {\"tsne_x\": -18.42494773864746, \"tsne_y\": 8.37291145324707, \"label\": 24, \"HD_label\": 5, \"label_UPGMA\": 14}, {\"tsne_x\": -18.751771926879883, \"tsne_y\": 9.332327842712402, \"label\": 24, \"HD_label\": 7, \"label_UPGMA\": 15}, {\"tsne_x\": -16.921138763427734, \"tsne_y\": 12.27991771697998, \"label\": 24, \"HD_label\": 5, \"label_UPGMA\": 15}, {\"tsne_x\": -8.743152618408203, \"tsne_y\": 8.308923721313477, \"label\": 24, \"HD_label\": 4, \"label_UPGMA\": 14}, {\"tsne_x\": -9.360977172851562, \"tsne_y\": 9.136197090148926, \"label\": 24, \"HD_label\": 4, \"label_UPGMA\": 21}, {\"tsne_x\": -6.740606307983398, \"tsne_y\": 8.153130531311035, \"label\": 24, \"HD_label\": 4, \"label_UPGMA\": 13}, {\"tsne_x\": -6.857841491699219, \"tsne_y\": 8.27670669555664, \"label\": 24, \"HD_label\": 4, \"label_UPGMA\": 13}, {\"tsne_x\": -6.388212203979492, \"tsne_y\": 8.001976013183594, \"label\": 24, \"HD_label\": 6, \"label_UPGMA\": 12}, {\"tsne_x\": -6.103976726531982, \"tsne_y\": 11.554159164428711, \"label\": 24, \"HD_label\": 4, \"label_UPGMA\": 14}, {\"tsne_x\": -9.596725463867188, \"tsne_y\": 10.956104278564453, \"label\": 24, \"HD_label\": 4, \"label_UPGMA\": 17}, {\"tsne_x\": -12.323267936706543, \"tsne_y\": 4.3390398025512695, \"label\": 24, \"HD_label\": 5, \"label_UPGMA\": 15}, {\"tsne_x\": -12.413130760192871, \"tsne_y\": 4.315037250518799, \"label\": 24, \"HD_label\": 8, \"label_UPGMA\": 15}, {\"tsne_x\": -12.395830154418945, \"tsne_y\": 4.3158955574035645, \"label\": 24, \"HD_label\": 6, \"label_UPGMA\": 14}, {\"tsne_x\": -9.722180366516113, \"tsne_y\": 3.439246416091919, \"label\": 24, \"HD_label\": 4, \"label_UPGMA\": 16}, {\"tsne_x\": -9.127854347229004, \"tsne_y\": 3.709510326385498, \"label\": 24, \"HD_label\": 4, \"label_UPGMA\": 18}, {\"tsne_x\": -9.243188858032227, \"tsne_y\": 3.866950035095215, \"label\": 24, \"HD_label\": 4, \"label_UPGMA\": 18}, {\"tsne_x\": -9.349428176879883, \"tsne_y\": 4.00445556640625, \"label\": 24, \"HD_label\": 4, \"label_UPGMA\": 17}, {\"tsne_x\": -7.65409517288208, \"tsne_y\": 2.3881044387817383, \"label\": 24, \"HD_label\": 5, \"label_UPGMA\": 10}, {\"tsne_x\": -10.452107429504395, \"tsne_y\": 5.106079578399658, \"label\": 24, \"HD_label\": 7, \"label_UPGMA\": 18}, {\"tsne_x\": -8.302701950073242, \"tsne_y\": 4.664244651794434, \"label\": 24, \"HD_label\": 4, \"label_UPGMA\": 15}, {\"tsne_x\": 3.6620821952819824, \"tsne_y\": 19.49102020263672, \"label\": 24, \"HD_label\": 6, \"label_UPGMA\": 13}, {\"tsne_x\": 3.7201590538024902, \"tsne_y\": 19.584041595458984, \"label\": 24, \"HD_label\": 6, \"label_UPGMA\": 13}, {\"tsne_x\": 3.785947561264038, \"tsne_y\": 19.689987182617188, \"label\": 24, \"HD_label\": 7, \"label_UPGMA\": 12}, {\"tsne_x\": 2.6090452671051025, \"tsne_y\": 17.75138282775879, \"label\": 24, \"HD_label\": 5, \"label_UPGMA\": 19}, {\"tsne_x\": 2.0430028438568115, \"tsne_y\": 18.293861389160156, \"label\": 24, \"HD_label\": 8, \"label_UPGMA\": 15}, {\"tsne_x\": 2.588648557662964, \"tsne_y\": 17.471336364746094, \"label\": 24, \"HD_label\": 7, \"label_UPGMA\": 18}, {\"tsne_x\": 2.6858456134796143, \"tsne_y\": 17.96712875366211, \"label\": 24, \"HD_label\": 5, \"label_UPGMA\": 17}, {\"tsne_x\": -0.0475846491754055, \"tsne_y\": 15.361286163330078, \"label\": 24, \"HD_label\": 4, \"label_UPGMA\": 18}, {\"tsne_x\": -0.06316732615232468, \"tsne_y\": 10.189180374145508, \"label\": 24, \"HD_label\": 7, \"label_UPGMA\": 16}, {\"tsne_x\": 0.10497374087572098, \"tsne_y\": 10.118242263793945, \"label\": 24, \"HD_label\": 7, \"label_UPGMA\": 16}, {\"tsne_x\": 0.20647133886814117, \"tsne_y\": 10.084742546081543, \"label\": 24, \"HD_label\": 7, \"label_UPGMA\": 15}, {\"tsne_x\": -0.27783432602882385, \"tsne_y\": 10.258859634399414, \"label\": 24, \"HD_label\": 7, \"label_UPGMA\": 16}, {\"tsne_x\": 3.493527412414551, \"tsne_y\": 16.889516830444336, \"label\": 24, \"HD_label\": 6, \"label_UPGMA\": 12}, {\"tsne_x\": 0.24109849333763123, \"tsne_y\": 14.403882026672363, \"label\": 24, \"HD_label\": 4, \"label_UPGMA\": 15}, {\"tsne_x\": 0.5228186249732971, \"tsne_y\": 14.305423736572266, \"label\": 24, \"HD_label\": 4, \"label_UPGMA\": 15}, {\"tsne_x\": -7.446228504180908, \"tsne_y\": 17.660663604736328, \"label\": 24, \"HD_label\": 4, \"label_UPGMA\": 19}, {\"tsne_x\": -7.442960262298584, \"tsne_y\": 17.329998016357422, \"label\": 24, \"HD_label\": 4, \"label_UPGMA\": 20}, {\"tsne_x\": -7.825256824493408, \"tsne_y\": 18.055967330932617, \"label\": 24, \"HD_label\": 4, \"label_UPGMA\": 17}, {\"tsne_x\": -7.4386887550354, \"tsne_y\": 17.654260635375977, \"label\": 24, \"HD_label\": 5, \"label_UPGMA\": 18}, {\"tsne_x\": -8.340005874633789, \"tsne_y\": 16.36096954345703, \"label\": 24, \"HD_label\": 5, \"label_UPGMA\": 15}, {\"tsne_x\": -8.566960334777832, \"tsne_y\": 15.375083923339844, \"label\": 24, \"HD_label\": 4, \"label_UPGMA\": 11}, {\"tsne_x\": -7.456313133239746, \"tsne_y\": 15.281856536865234, \"label\": 24, \"HD_label\": 7, \"label_UPGMA\": 12}, {\"tsne_x\": -0.8186243176460266, \"tsne_y\": 15.909024238586426, \"label\": 24, \"HD_label\": 6, \"label_UPGMA\": 13}, {\"tsne_x\": 0.821685791015625, \"tsne_y\": 16.703277587890625, \"label\": 24, \"HD_label\": 4, \"label_UPGMA\": 12}, {\"tsne_x\": -9.871930122375488, \"tsne_y\": 17.230934143066406, \"label\": 24, \"HD_label\": 4, \"label_UPGMA\": 15}, {\"tsne_x\": -9.920875549316406, \"tsne_y\": 17.288116455078125, \"label\": 24, \"HD_label\": 4, \"label_UPGMA\": 15}, {\"tsne_x\": -10.176021575927734, \"tsne_y\": 17.57572364807129, \"label\": 24, \"HD_label\": 5, \"label_UPGMA\": 9}, {\"tsne_x\": -19.24699592590332, \"tsne_y\": -12.046916961669922, \"label\": 24, \"HD_label\": 10, \"label_UPGMA\": 17}, {\"tsne_x\": -19.24716567993164, \"tsne_y\": -12.047884941101074, \"label\": 24, \"HD_label\": 10, \"label_UPGMA\": 17}, {\"tsne_x\": -20.072362899780273, \"tsne_y\": -12.695992469787598, \"label\": 24, \"HD_label\": 11, \"label_UPGMA\": 19}, {\"tsne_x\": -19.909494400024414, \"tsne_y\": -12.479966163635254, \"label\": 24, \"HD_label\": 10, \"label_UPGMA\": 19}, {\"tsne_x\": -20.07232093811035, \"tsne_y\": -12.698899269104004, \"label\": 24, \"HD_label\": 10, \"label_UPGMA\": 18}, {\"tsne_x\": -20.07237434387207, \"tsne_y\": -12.696927070617676, \"label\": 24, \"HD_label\": 11, \"label_UPGMA\": 17}, {\"tsne_x\": -20.897262573242188, \"tsne_y\": -12.251413345336914, \"label\": 24, \"HD_label\": 11, \"label_UPGMA\": 15}, {\"tsne_x\": -20.09366226196289, \"tsne_y\": -12.653448104858398, \"label\": 24, \"HD_label\": 11, \"label_UPGMA\": 16}, {\"tsne_x\": -19.4558162689209, \"tsne_y\": -11.218902587890625, \"label\": 24, \"HD_label\": 8, \"label_UPGMA\": 13}, {\"tsne_x\": -18.029632568359375, \"tsne_y\": -11.355636596679688, \"label\": 24, \"HD_label\": 11, \"label_UPGMA\": 15}, {\"tsne_x\": -18.031354904174805, \"tsne_y\": -11.356226921081543, \"label\": 24, \"HD_label\": 11, \"label_UPGMA\": 15}, {\"tsne_x\": -17.637916564941406, \"tsne_y\": -12.215813636779785, \"label\": 24, \"HD_label\": 10, \"label_UPGMA\": 15}, {\"tsne_x\": -17.930959701538086, \"tsne_y\": -12.17612361907959, \"label\": 24, \"HD_label\": 11, \"label_UPGMA\": 15}, {\"tsne_x\": -18.495075225830078, \"tsne_y\": -11.774068832397461, \"label\": 24, \"HD_label\": 11, \"label_UPGMA\": 16}, {\"tsne_x\": -18.3167724609375, \"tsne_y\": -10.697548866271973, \"label\": 24, \"HD_label\": 11, \"label_UPGMA\": 13}, {\"tsne_x\": -29.692333221435547, \"tsne_y\": -21.956270217895508, \"label\": 24, \"HD_label\": 13, \"label_UPGMA\": 10}, {\"tsne_x\": -29.190593719482422, \"tsne_y\": -20.996135711669922, \"label\": 24, \"HD_label\": 10, \"label_UPGMA\": 16}, {\"tsne_x\": -28.76337432861328, \"tsne_y\": -20.920164108276367, \"label\": 24, \"HD_label\": 10, \"label_UPGMA\": 13}, {\"tsne_x\": -29.191390991210938, \"tsne_y\": -20.995826721191406, \"label\": 24, \"HD_label\": 11, \"label_UPGMA\": 16}, {\"tsne_x\": -29.57166290283203, \"tsne_y\": -20.244293212890625, \"label\": 24, \"HD_label\": 8, \"label_UPGMA\": 18}, {\"tsne_x\": -29.640380859375, \"tsne_y\": -20.1246395111084, \"label\": 24, \"HD_label\": 9, \"label_UPGMA\": 18}, {\"tsne_x\": -30.042116165161133, \"tsne_y\": -20.036094665527344, \"label\": 24, \"HD_label\": 10, \"label_UPGMA\": 17}, {\"tsne_x\": -29.28114891052246, \"tsne_y\": -19.255029678344727, \"label\": 24, \"HD_label\": 8, \"label_UPGMA\": 12}, {\"tsne_x\": -29.64044952392578, \"tsne_y\": -20.12505340576172, \"label\": 24, \"HD_label\": 9, \"label_UPGMA\": 16}, {\"tsne_x\": -30.596500396728516, \"tsne_y\": -19.742727279663086, \"label\": 24, \"HD_label\": 10, \"label_UPGMA\": 12}, {\"tsne_x\": -28.479955673217773, \"tsne_y\": -21.831762313842773, \"label\": 24, \"HD_label\": 10, \"label_UPGMA\": 8}, {\"tsne_x\": -29.826425552368164, \"tsne_y\": -22.265199661254883, \"label\": 24, \"HD_label\": 13, \"label_UPGMA\": 10}, {\"tsne_x\": -46.95761489868164, \"tsne_y\": -20.18257713317871, \"label\": 24, \"HD_label\": 10, \"label_UPGMA\": 19}, {\"tsne_x\": -47.883819580078125, \"tsne_y\": -17.37298011779785, \"label\": 24, \"HD_label\": 11, \"label_UPGMA\": 16}, {\"tsne_x\": -48.73482894897461, \"tsne_y\": -18.95738983154297, \"label\": 24, \"HD_label\": 11, \"label_UPGMA\": 17}, {\"tsne_x\": -47.619510650634766, \"tsne_y\": -19.06265640258789, \"label\": 24, \"HD_label\": 11, \"label_UPGMA\": 21}, {\"tsne_x\": -48.5686149597168, \"tsne_y\": -18.989566802978516, \"label\": 24, \"HD_label\": 11, \"label_UPGMA\": 17}, {\"tsne_x\": -47.264678955078125, \"tsne_y\": -18.91090202331543, \"label\": 24, \"HD_label\": 11, \"label_UPGMA\": 17}, {\"tsne_x\": -47.281246185302734, \"tsne_y\": -21.369178771972656, \"label\": 24, \"HD_label\": 10, \"label_UPGMA\": 15}, {\"tsne_x\": -45.89047622680664, \"tsne_y\": -19.644838333129883, \"label\": 24, \"HD_label\": 11, \"label_UPGMA\": 16}, {\"tsne_x\": -43.043434143066406, \"tsne_y\": -22.344528198242188, \"label\": 24, \"HD_label\": 12, \"label_UPGMA\": 21}, {\"tsne_x\": -43.006595611572266, \"tsne_y\": -22.34485626220703, \"label\": 24, \"HD_label\": 12, \"label_UPGMA\": 21}, {\"tsne_x\": -34.65268325805664, \"tsne_y\": -12.716835021972656, \"label\": 24, \"HD_label\": 10, \"label_UPGMA\": 17}, {\"tsne_x\": -34.79961013793945, \"tsne_y\": -12.459519386291504, \"label\": 24, \"HD_label\": 9, \"label_UPGMA\": 17}, {\"tsne_x\": -36.08651351928711, \"tsne_y\": -10.798440933227539, \"label\": 24, \"HD_label\": 8, \"label_UPGMA\": 27}, {\"tsne_x\": -35.827598571777344, \"tsne_y\": -10.76634407043457, \"label\": 24, \"HD_label\": 8, \"label_UPGMA\": 28}, {\"tsne_x\": -36.05211639404297, \"tsne_y\": -10.541053771972656, \"label\": 24, \"HD_label\": 8, \"label_UPGMA\": 26}, {\"tsne_x\": -35.59640121459961, \"tsne_y\": -11.168814659118652, \"label\": 24, \"HD_label\": 7, \"label_UPGMA\": 25}, {\"tsne_x\": -33.51852035522461, \"tsne_y\": -10.318002700805664, \"label\": 24, \"HD_label\": 9, \"label_UPGMA\": 20}, {\"tsne_x\": -34.061187744140625, \"tsne_y\": -10.554481506347656, \"label\": 24, \"HD_label\": 9, \"label_UPGMA\": 19}, {\"tsne_x\": -33.328712463378906, \"tsne_y\": -10.219283103942871, \"label\": 24, \"HD_label\": 9, \"label_UPGMA\": 20}, {\"tsne_x\": -33.519222259521484, \"tsne_y\": -11.064172744750977, \"label\": 24, \"HD_label\": 10, \"label_UPGMA\": 18}, {\"tsne_x\": -37.496910095214844, \"tsne_y\": -9.503080368041992, \"label\": 24, \"HD_label\": 9, \"label_UPGMA\": 16}, {\"tsne_x\": -37.54212188720703, \"tsne_y\": -13.008201599121094, \"label\": 24, \"HD_label\": 12, \"label_UPGMA\": 14}, {\"tsne_x\": -37.22542190551758, \"tsne_y\": -11.525306701660156, \"label\": 24, \"HD_label\": 9, \"label_UPGMA\": 13}, {\"tsne_x\": -46.26530838012695, \"tsne_y\": -20.894330978393555, \"label\": 24, \"HD_label\": 10, \"label_UPGMA\": 18}, {\"tsne_x\": -45.9350700378418, \"tsne_y\": -21.10576057434082, \"label\": 24, \"HD_label\": 10, \"label_UPGMA\": 18}, {\"tsne_x\": -33.71112060546875, \"tsne_y\": -16.354467391967773, \"label\": 24, \"HD_label\": 10, \"label_UPGMA\": 10}, {\"tsne_x\": -33.678001403808594, \"tsne_y\": -16.354047775268555, \"label\": 24, \"HD_label\": 10, \"label_UPGMA\": 10}, {\"tsne_x\": -33.21300506591797, \"tsne_y\": -16.326696395874023, \"label\": 24, \"HD_label\": 8, \"label_UPGMA\": 11}, {\"tsne_x\": -45.8667106628418, \"tsne_y\": -26.97725486755371, \"label\": 24, \"HD_label\": 11, \"label_UPGMA\": 33}, {\"tsne_x\": -48.4017333984375, \"tsne_y\": -27.251054763793945, \"label\": 24, \"HD_label\": 11, \"label_UPGMA\": 27}, {\"tsne_x\": -48.35307312011719, \"tsne_y\": -27.183313369750977, \"label\": 24, \"HD_label\": 11, \"label_UPGMA\": 27}, {\"tsne_x\": -46.4659538269043, \"tsne_y\": -27.98335075378418, \"label\": 24, \"HD_label\": 10, \"label_UPGMA\": 33}, {\"tsne_x\": -46.55345916748047, \"tsne_y\": -27.735239028930664, \"label\": 24, \"HD_label\": 12, \"label_UPGMA\": 31}, {\"tsne_x\": -46.89318084716797, \"tsne_y\": -27.145246505737305, \"label\": 24, \"HD_label\": 11, \"label_UPGMA\": 30}, {\"tsne_x\": -47.391788482666016, \"tsne_y\": -27.729995727539062, \"label\": 24, \"HD_label\": 10, \"label_UPGMA\": 25}, {\"tsne_x\": -47.98814392089844, \"tsne_y\": -31.343727111816406, \"label\": 24, \"HD_label\": 12, \"label_UPGMA\": 25}, {\"tsne_x\": -46.11488723754883, \"tsne_y\": -28.730247497558594, \"label\": 24, \"HD_label\": 11, \"label_UPGMA\": 24}, {\"tsne_x\": -45.20871353149414, \"tsne_y\": -27.952388763427734, \"label\": 24, \"HD_label\": 11, \"label_UPGMA\": 22}, {\"tsne_x\": -47.218467712402344, \"tsne_y\": -26.536706924438477, \"label\": 24, \"HD_label\": 12, \"label_UPGMA\": 25}, {\"tsne_x\": -47.98944091796875, \"tsne_y\": -31.34782600402832, \"label\": 24, \"HD_label\": 13, \"label_UPGMA\": 25}, {\"tsne_x\": -48.61208724975586, \"tsne_y\": -29.029033660888672, \"label\": 24, \"HD_label\": 10, \"label_UPGMA\": 25}, {\"tsne_x\": -44.77204513549805, \"tsne_y\": -26.487407684326172, \"label\": 24, \"HD_label\": 13, \"label_UPGMA\": 25}, {\"tsne_x\": -45.447784423828125, \"tsne_y\": -29.061676025390625, \"label\": 24, \"HD_label\": 11, \"label_UPGMA\": 23}, {\"tsne_x\": -46.99943161010742, \"tsne_y\": -28.746992111206055, \"label\": 24, \"HD_label\": 11, \"label_UPGMA\": 23}, {\"tsne_x\": -44.50571060180664, \"tsne_y\": -29.33135986328125, \"label\": 24, \"HD_label\": 11, \"label_UPGMA\": 22}, {\"tsne_x\": -46.16431427001953, \"tsne_y\": -29.78111457824707, \"label\": 24, \"HD_label\": 10, \"label_UPGMA\": 21}, {\"tsne_x\": -42.95299530029297, \"tsne_y\": -31.276779174804688, \"label\": 24, \"HD_label\": 13, \"label_UPGMA\": 22}, {\"tsne_x\": -44.772682189941406, \"tsne_y\": -27.986248016357422, \"label\": 24, \"HD_label\": 13, \"label_UPGMA\": 22}, {\"tsne_x\": -42.36506652832031, \"tsne_y\": -27.062938690185547, \"label\": 24, \"HD_label\": 13, \"label_UPGMA\": 17}, {\"tsne_x\": -41.87116622924805, \"tsne_y\": -26.626754760742188, \"label\": 24, \"HD_label\": 13, \"label_UPGMA\": 18}, {\"tsne_x\": -41.821231842041016, \"tsne_y\": -26.54446792602539, \"label\": 24, \"HD_label\": 13, \"label_UPGMA\": 18}, {\"tsne_x\": -48.02021408081055, \"tsne_y\": -32.951194763183594, \"label\": 24, \"HD_label\": 13, \"label_UPGMA\": 19}, {\"tsne_x\": -46.56944274902344, \"tsne_y\": -23.05113983154297, \"label\": 24, \"HD_label\": 11, \"label_UPGMA\": 20}, {\"tsne_x\": -49.39821243286133, \"tsne_y\": -28.635101318359375, \"label\": 24, \"HD_label\": 12, \"label_UPGMA\": 13}, {\"tsne_x\": -36.3981819152832, \"tsne_y\": -8.941154479980469, \"label\": 24, \"HD_label\": 10, \"label_UPGMA\": 10}, {\"tsne_x\": -49.48112869262695, \"tsne_y\": -18.96080207824707, \"label\": 24, \"HD_label\": 11, \"label_UPGMA\": 11}, {\"tsne_x\": -48.89409255981445, \"tsne_y\": -1.7693201303482056, \"label\": 24, \"HD_label\": 13, \"label_UPGMA\": 14}, {\"tsne_x\": -48.33321762084961, \"tsne_y\": -1.254549264907837, \"label\": 24, \"HD_label\": 11, \"label_UPGMA\": 20}, {\"tsne_x\": -48.95785903930664, \"tsne_y\": 0.6479290127754211, \"label\": 24, \"HD_label\": 11, \"label_UPGMA\": 21}, {\"tsne_x\": -47.28384017944336, \"tsne_y\": -0.23431776463985443, \"label\": 24, \"HD_label\": 10, \"label_UPGMA\": 19}, {\"tsne_x\": -47.7800407409668, \"tsne_y\": 0.5678800940513611, \"label\": 24, \"HD_label\": 11, \"label_UPGMA\": 16}, {\"tsne_x\": -50.369544982910156, \"tsne_y\": 0.9358152747154236, \"label\": 24, \"HD_label\": 12, \"label_UPGMA\": 13}, {\"tsne_x\": -48.90808868408203, \"tsne_y\": -2.333590030670166, \"label\": 24, \"HD_label\": 13, \"label_UPGMA\": 14}, {\"tsne_x\": -46.13279342651367, \"tsne_y\": -0.5419855713844299, \"label\": 24, \"HD_label\": 13, \"label_UPGMA\": 11}, {\"tsne_x\": -49.441261291503906, \"tsne_y\": -1.7872432470321655, \"label\": 24, \"HD_label\": 13, \"label_UPGMA\": 13}, {\"tsne_x\": -45.04328918457031, \"tsne_y\": 3.7109923362731934, \"label\": 24, \"HD_label\": 11, \"label_UPGMA\": 11}, {\"tsne_x\": -43.59559631347656, \"tsne_y\": -28.624664306640625, \"label\": 24, \"HD_label\": 12, \"label_UPGMA\": 12}, {\"tsne_x\": -46.88686752319336, \"tsne_y\": -25.39263153076172, \"label\": 24, \"HD_label\": 10, \"label_UPGMA\": 10}, {\"tsne_x\": -39.098968505859375, \"tsne_y\": -10.796351432800293, \"label\": 24, \"HD_label\": 9, \"label_UPGMA\": 10}, {\"tsne_x\": -48.43754577636719, \"tsne_y\": -21.016477584838867, \"label\": 24, \"HD_label\": 11, \"label_UPGMA\": 13}, {\"tsne_x\": -45.11058807373047, \"tsne_y\": -23.076457977294922, \"label\": 24, \"HD_label\": 11, \"label_UPGMA\": 7}, {\"tsne_x\": -28.267719268798828, \"tsne_y\": -19.807064056396484, \"label\": 24, \"HD_label\": 11, \"label_UPGMA\": 10}, {\"tsne_x\": -48.29194259643555, \"tsne_y\": -23.196414947509766, \"label\": 24, \"HD_label\": 13, \"label_UPGMA\": 9}, {\"tsne_x\": -45.429039001464844, \"tsne_y\": 2.9704294204711914, \"label\": 24, \"HD_label\": 11, \"label_UPGMA\": 13}, {\"tsne_x\": -46.27928924560547, \"tsne_y\": -19.95826530456543, \"label\": 24, \"HD_label\": 9, \"label_UPGMA\": 20}, {\"tsne_x\": -46.95463180541992, \"tsne_y\": -20.419452667236328, \"label\": 24, \"HD_label\": 9, \"label_UPGMA\": 22}, {\"tsne_x\": -45.09450912475586, \"tsne_y\": -19.675474166870117, \"label\": 24, \"HD_label\": 11, \"label_UPGMA\": 10}, {\"tsne_x\": -34.642333984375, \"tsne_y\": -8.283884048461914, \"label\": 24, \"HD_label\": 10, \"label_UPGMA\": 13}, {\"tsne_x\": -34.51853561401367, \"tsne_y\": -7.974197864532471, \"label\": 24, \"HD_label\": 10, \"label_UPGMA\": 12}, {\"tsne_x\": -35.61959457397461, \"tsne_y\": -10.504730224609375, \"label\": 24, \"HD_label\": 10, \"label_UPGMA\": 24}, {\"tsne_x\": -35.82776641845703, \"tsne_y\": -10.766107559204102, \"label\": 24, \"HD_label\": 10, \"label_UPGMA\": 28}, {\"tsne_x\": -36.22148895263672, \"tsne_y\": -11.558748245239258, \"label\": 24, \"HD_label\": 10, \"label_UPGMA\": 22}, {\"tsne_x\": -34.95676803588867, \"tsne_y\": -11.302834510803223, \"label\": 24, \"HD_label\": 10, \"label_UPGMA\": 21}, {\"tsne_x\": -47.43553161621094, \"tsne_y\": -17.937801361083984, \"label\": 24, \"HD_label\": 10, \"label_UPGMA\": 17}, {\"tsne_x\": -47.436279296875, \"tsne_y\": -17.93330955505371, \"label\": 24, \"HD_label\": 10, \"label_UPGMA\": 17}, {\"tsne_x\": -47.72918701171875, \"tsne_y\": -19.12874984741211, \"label\": 24, \"HD_label\": 11, \"label_UPGMA\": 17}, {\"tsne_x\": -46.71961975097656, \"tsne_y\": -17.4373836517334, \"label\": 24, \"HD_label\": 10, \"label_UPGMA\": 12}, {\"tsne_x\": -19.29180145263672, \"tsne_y\": -13.759605407714844, \"label\": 24, \"HD_label\": 9, \"label_UPGMA\": 11}, {\"tsne_x\": -23.598094940185547, \"tsne_y\": -7.6523895263671875, \"label\": 24, \"HD_label\": 9, \"label_UPGMA\": 13}, {\"tsne_x\": -23.845029830932617, \"tsne_y\": -7.841585159301758, \"label\": 24, \"HD_label\": 9, \"label_UPGMA\": 12}, {\"tsne_x\": -22.898700714111328, \"tsne_y\": -6.982706546783447, \"label\": 24, \"HD_label\": 9, \"label_UPGMA\": 14}, {\"tsne_x\": -22.804935455322266, \"tsne_y\": -7.084713935852051, \"label\": 24, \"HD_label\": 9, \"label_UPGMA\": 14}, {\"tsne_x\": -22.477243423461914, \"tsne_y\": -7.118599891662598, \"label\": 24, \"HD_label\": 9, \"label_UPGMA\": 12}, {\"tsne_x\": -22.943357467651367, \"tsne_y\": -6.561398506164551, \"label\": 24, \"HD_label\": 10, \"label_UPGMA\": 15}, {\"tsne_x\": -22.958072662353516, \"tsne_y\": -6.25157356262207, \"label\": 24, \"HD_label\": 10, \"label_UPGMA\": 15}, {\"tsne_x\": -22.970304489135742, \"tsne_y\": -6.449553966522217, \"label\": 24, \"HD_label\": 10, \"label_UPGMA\": 14}, {\"tsne_x\": -20.751811981201172, \"tsne_y\": -11.2040376663208, \"label\": 24, \"HD_label\": 9, \"label_UPGMA\": 16}, {\"tsne_x\": -21.178707122802734, \"tsne_y\": -10.839794158935547, \"label\": 24, \"HD_label\": 9, \"label_UPGMA\": 17}, {\"tsne_x\": -21.45772933959961, \"tsne_y\": -10.591052055358887, \"label\": 24, \"HD_label\": 9, \"label_UPGMA\": 18}, {\"tsne_x\": -21.81186866760254, \"tsne_y\": -10.287684440612793, \"label\": 24, \"HD_label\": 10, \"label_UPGMA\": 9}, {\"tsne_x\": -21.458112716674805, \"tsne_y\": -10.590938568115234, \"label\": 24, \"HD_label\": 9, \"label_UPGMA\": 18}, {\"tsne_x\": -24.67797088623047, \"tsne_y\": -11.340598106384277, \"label\": 24, \"HD_label\": 9, \"label_UPGMA\": 11}, {\"tsne_x\": -24.673046112060547, \"tsne_y\": -11.340300559997559, \"label\": 24, \"HD_label\": 10, \"label_UPGMA\": 10}, {\"tsne_x\": -24.681835174560547, \"tsne_y\": -11.343618392944336, \"label\": 24, \"HD_label\": 9, \"label_UPGMA\": 11}, {\"tsne_x\": -22.966064453125, \"tsne_y\": -5.880683422088623, \"label\": 24, \"HD_label\": 10, \"label_UPGMA\": 10}, {\"tsne_x\": -23.757570266723633, \"tsne_y\": -7.7781267166137695, \"label\": 24, \"HD_label\": 11, \"label_UPGMA\": 13}, {\"tsne_x\": -35.16603088378906, \"tsne_y\": -9.926527976989746, \"label\": 24, \"HD_label\": 8, \"label_UPGMA\": 20}, {\"tsne_x\": -35.49092483520508, \"tsne_y\": -10.675456047058105, \"label\": 24, \"HD_label\": 9, \"label_UPGMA\": 23}, {\"tsne_x\": -36.122371673583984, \"tsne_y\": -9.631830215454102, \"label\": 24, \"HD_label\": 9, \"label_UPGMA\": 19}, {\"tsne_x\": -36.98639678955078, \"tsne_y\": -10.594820022583008, \"label\": 24, \"HD_label\": 8, \"label_UPGMA\": 18}, {\"tsne_x\": -39.00769805908203, \"tsne_y\": -10.79013442993164, \"label\": 24, \"HD_label\": 8, \"label_UPGMA\": 10}, {\"tsne_x\": -34.77121353149414, \"tsne_y\": -8.586142539978027, \"label\": 24, \"HD_label\": 8, \"label_UPGMA\": 13}, {\"tsne_x\": -50.223602294921875, \"tsne_y\": -27.124149322509766, \"label\": 24, \"HD_label\": 11, \"label_UPGMA\": 23}, {\"tsne_x\": -48.29800796508789, \"tsne_y\": -28.649839401245117, \"label\": 24, \"HD_label\": 10, \"label_UPGMA\": 28}, {\"tsne_x\": -48.11511993408203, \"tsne_y\": -28.58289337158203, \"label\": 24, \"HD_label\": 10, \"label_UPGMA\": 28}, {\"tsne_x\": -46.19100570678711, \"tsne_y\": -27.926136016845703, \"label\": 24, \"HD_label\": 11, \"label_UPGMA\": 29}, {\"tsne_x\": -46.71015167236328, \"tsne_y\": -28.089017868041992, \"label\": 24, \"HD_label\": 10, \"label_UPGMA\": 28}, {\"tsne_x\": -47.989646911621094, \"tsne_y\": -31.348405838012695, \"label\": 24, \"HD_label\": 12, \"label_UPGMA\": 24}, {\"tsne_x\": -47.99028396606445, \"tsne_y\": -31.358564376831055, \"label\": 24, \"HD_label\": 13, \"label_UPGMA\": 23}, {\"tsne_x\": -49.04502868652344, \"tsne_y\": -31.010826110839844, \"label\": 24, \"HD_label\": 12, \"label_UPGMA\": 21}, {\"tsne_x\": -47.185577392578125, \"tsne_y\": -31.964630126953125, \"label\": 24, \"HD_label\": 13, \"label_UPGMA\": 20}, {\"tsne_x\": -50.37301254272461, \"tsne_y\": -25.0040225982666, \"label\": 24, \"HD_label\": 10, \"label_UPGMA\": 22}, {\"tsne_x\": -50.45887756347656, \"tsne_y\": -25.109458923339844, \"label\": 24, \"HD_label\": 11, \"label_UPGMA\": 22}, {\"tsne_x\": -50.373966217041016, \"tsne_y\": -24.80665397644043, \"label\": 24, \"HD_label\": 10, \"label_UPGMA\": 21}, {\"tsne_x\": -46.95438766479492, \"tsne_y\": -20.419206619262695, \"label\": 24, \"HD_label\": 9, \"label_UPGMA\": 22}, {\"tsne_x\": -47.50352478027344, \"tsne_y\": -20.531457901000977, \"label\": 24, \"HD_label\": 10, \"label_UPGMA\": 18}, {\"tsne_x\": -48.91298294067383, \"tsne_y\": -32.13587188720703, \"label\": 24, \"HD_label\": 13, \"label_UPGMA\": 23}, {\"tsne_x\": -48.647064208984375, \"tsne_y\": -31.928987503051758, \"label\": 24, \"HD_label\": 13, \"label_UPGMA\": 23}, {\"tsne_x\": -44.274471282958984, \"tsne_y\": -26.913236618041992, \"label\": 24, \"HD_label\": 10, \"label_UPGMA\": 25}, {\"tsne_x\": -43.074459075927734, \"tsne_y\": -31.785825729370117, \"label\": 24, \"HD_label\": 13, \"label_UPGMA\": 20}, {\"tsne_x\": -42.953861236572266, \"tsne_y\": -31.278247833251953, \"label\": 24, \"HD_label\": 12, \"label_UPGMA\": 22}, {\"tsne_x\": -42.96746063232422, \"tsne_y\": -31.253843307495117, \"label\": 24, \"HD_label\": 13, \"label_UPGMA\": 21}, {\"tsne_x\": -38.485755920410156, \"tsne_y\": -7.056921482086182, \"label\": 24, \"HD_label\": 9, \"label_UPGMA\": 17}, {\"tsne_x\": -38.49919509887695, \"tsne_y\": -7.039846897125244, \"label\": 24, \"HD_label\": 9, \"label_UPGMA\": 17}, {\"tsne_x\": -47.11328125, \"tsne_y\": -29.511411666870117, \"label\": 24, \"HD_label\": 12, \"label_UPGMA\": 20}, {\"tsne_x\": -42.11317825317383, \"tsne_y\": -31.249677658081055, \"label\": 24, \"HD_label\": 13, \"label_UPGMA\": 10}, {\"tsne_x\": -48.04350662231445, \"tsne_y\": -25.83075714111328, \"label\": 24, \"HD_label\": 13, \"label_UPGMA\": 15}, {\"tsne_x\": -45.30833435058594, \"tsne_y\": -34.57697296142578, \"label\": 24, \"HD_label\": 12, \"label_UPGMA\": 15}, {\"tsne_x\": -45.308528900146484, \"tsne_y\": -34.57066345214844, \"label\": 24, \"HD_label\": 12, \"label_UPGMA\": 15}, {\"tsne_x\": -33.16574478149414, \"tsne_y\": -16.3280086517334, \"label\": 24, \"HD_label\": 8, \"label_UPGMA\": 11}, {\"tsne_x\": -33.08543014526367, \"tsne_y\": -16.317035675048828, \"label\": 24, \"HD_label\": 9, \"label_UPGMA\": 10}, {\"tsne_x\": -29.19048309326172, \"tsne_y\": -20.99608612060547, \"label\": 24, \"HD_label\": 9, \"label_UPGMA\": 15}, {\"tsne_x\": -29.64044189453125, \"tsne_y\": -20.124780654907227, \"label\": 24, \"HD_label\": 9, \"label_UPGMA\": 15}, {\"tsne_x\": -29.23344612121582, \"tsne_y\": -18.734804153442383, \"label\": 24, \"HD_label\": 9, \"label_UPGMA\": 12}, {\"tsne_x\": -47.54352951049805, \"tsne_y\": -4.518152713775635, \"label\": 24, \"HD_label\": 13, \"label_UPGMA\": 12}, {\"tsne_x\": -47.55083465576172, \"tsne_y\": -4.5012125968933105, \"label\": 24, \"HD_label\": 12, \"label_UPGMA\": 11}, {\"tsne_x\": -47.52619171142578, \"tsne_y\": -4.539913177490234, \"label\": 24, \"HD_label\": 13, \"label_UPGMA\": 12}, {\"tsne_x\": -47.43559646606445, \"tsne_y\": -4.7495903968811035, \"label\": 24, \"HD_label\": 13, \"label_UPGMA\": 11}, {\"tsne_x\": -47.37074661254883, \"tsne_y\": -4.8869404792785645, \"label\": 24, \"HD_label\": 13, \"label_UPGMA\": 11}, {\"tsne_x\": -47.955780029296875, \"tsne_y\": -0.054330576211214066, \"label\": 24, \"HD_label\": 10, \"label_UPGMA\": 18}, {\"tsne_x\": -47.970943450927734, \"tsne_y\": -0.07585786283016205, \"label\": 24, \"HD_label\": 11, \"label_UPGMA\": 20}, {\"tsne_x\": -48.240360260009766, \"tsne_y\": -0.35041967034339905, \"label\": 24, \"HD_label\": 11, \"label_UPGMA\": 15}, {\"tsne_x\": -48.22665023803711, \"tsne_y\": -1.4491381645202637, \"label\": 24, \"HD_label\": 12, \"label_UPGMA\": 13}, {\"tsne_x\": -49.793052673339844, \"tsne_y\": 0.24734050035476685, \"label\": 24, \"HD_label\": 11, \"label_UPGMA\": 15}, {\"tsne_x\": -47.106285095214844, \"tsne_y\": 0.8479562997817993, \"label\": 24, \"HD_label\": 13, \"label_UPGMA\": 12}, {\"tsne_x\": -47.580684661865234, \"tsne_y\": -1.8362672328948975, \"label\": 24, \"HD_label\": 11, \"label_UPGMA\": 13}, {\"tsne_x\": -52.180843353271484, \"tsne_y\": -3.3347513675689697, \"label\": 24, \"HD_label\": 11, \"label_UPGMA\": 11}, {\"tsne_x\": -52.188446044921875, \"tsne_y\": -3.344571352005005, \"label\": 24, \"HD_label\": 11, \"label_UPGMA\": 11}, {\"tsne_x\": -52.189510345458984, \"tsne_y\": -3.345179557800293, \"label\": 24, \"HD_label\": 11, \"label_UPGMA\": 10}, {\"tsne_x\": -52.189510345458984, \"tsne_y\": -3.345179557800293, \"label\": 24, \"HD_label\": 11, \"label_UPGMA\": 9}, {\"tsne_x\": -54.781105041503906, \"tsne_y\": -0.42531129717826843, \"label\": 24, \"HD_label\": 10, \"label_UPGMA\": 11}, {\"tsne_x\": -54.76740264892578, \"tsne_y\": -0.4397968649864197, \"label\": 24, \"HD_label\": 11, \"label_UPGMA\": 11}, {\"tsne_x\": -54.76740264892578, \"tsne_y\": -0.4397968649864197, \"label\": 24, \"HD_label\": 11, \"label_UPGMA\": 10}, {\"tsne_x\": -54.823360443115234, \"tsne_y\": -0.3827337920665741, \"label\": 24, \"HD_label\": 11, \"label_UPGMA\": 10}, {\"tsne_x\": -54.86207962036133, \"tsne_y\": -0.341465026140213, \"label\": 24, \"HD_label\": 11, \"label_UPGMA\": 10}, {\"tsne_x\": -36.160560607910156, \"tsne_y\": -12.422197341918945, \"label\": 24, \"HD_label\": 9, \"label_UPGMA\": 12}, {\"tsne_x\": -46.78317642211914, \"tsne_y\": 4.921570301055908, \"label\": 24, \"HD_label\": 13, \"label_UPGMA\": 12}, {\"tsne_x\": -45.715667724609375, \"tsne_y\": 3.2995784282684326, \"label\": 24, \"HD_label\": 11, \"label_UPGMA\": 14}, {\"tsne_x\": -45.83860778808594, \"tsne_y\": 3.557997465133667, \"label\": 24, \"HD_label\": 11, \"label_UPGMA\": 14}, {\"tsne_x\": -46.65510940551758, \"tsne_y\": 4.726099014282227, \"label\": 24, \"HD_label\": 11, \"label_UPGMA\": 13}, {\"tsne_x\": -46.623844146728516, \"tsne_y\": 4.426519870758057, \"label\": 24, \"HD_label\": 12, \"label_UPGMA\": 13}, {\"tsne_x\": -46.77212142944336, \"tsne_y\": 3.9962146282196045, \"label\": 24, \"HD_label\": 11, \"label_UPGMA\": 11}, {\"tsne_x\": -45.580047607421875, \"tsne_y\": 3.789560079574585, \"label\": 24, \"HD_label\": 11, \"label_UPGMA\": 12}, {\"tsne_x\": -48.77653121948242, \"tsne_y\": 1.519576907157898, \"label\": 24, \"HD_label\": 11, \"label_UPGMA\": 15}, {\"tsne_x\": -49.16157150268555, \"tsne_y\": 0.6922146081924438, \"label\": 24, \"HD_label\": 12, \"label_UPGMA\": 20}, {\"tsne_x\": -48.95803451538086, \"tsne_y\": 0.647953987121582, \"label\": 24, \"HD_label\": 12, \"label_UPGMA\": 21}, {\"tsne_x\": -49.15800094604492, \"tsne_y\": 0.6910147070884705, \"label\": 24, \"HD_label\": 11, \"label_UPGMA\": 19}, {\"tsne_x\": -49.324405670166016, \"tsne_y\": 1.184420108795166, \"label\": 24, \"HD_label\": 12, \"label_UPGMA\": 18}, {\"tsne_x\": -49.74544906616211, \"tsne_y\": 2.0022478103637695, \"label\": 24, \"HD_label\": 12, \"label_UPGMA\": 8}, {\"tsne_x\": -46.848812103271484, \"tsne_y\": -0.35618624091148376, \"label\": 24, \"HD_label\": 11, \"label_UPGMA\": 11}, {\"tsne_x\": -53.22505187988281, \"tsne_y\": -29.827096939086914, \"label\": 24, \"HD_label\": 11, \"label_UPGMA\": 17}, {\"tsne_x\": -53.205440521240234, \"tsne_y\": -29.858882904052734, \"label\": 24, \"HD_label\": 12, \"label_UPGMA\": 17}, {\"tsne_x\": -53.409812927246094, \"tsne_y\": -29.93732452392578, \"label\": 24, \"HD_label\": 12, \"label_UPGMA\": 16}, {\"tsne_x\": -46.46726608276367, \"tsne_y\": -27.98320770263672, \"label\": 24, \"HD_label\": 11, \"label_UPGMA\": 33}, {\"tsne_x\": -45.866416931152344, \"tsne_y\": -26.97654914855957, \"label\": 24, \"HD_label\": 11, \"label_UPGMA\": 33}, {\"tsne_x\": -53.74295425415039, \"tsne_y\": -28.882915496826172, \"label\": 24, \"HD_label\": 12, \"label_UPGMA\": 14}, {\"tsne_x\": -52.96091079711914, \"tsne_y\": -29.752809524536133, \"label\": 24, \"HD_label\": 12, \"label_UPGMA\": 15}, {\"tsne_x\": -44.9558219909668, \"tsne_y\": -25.080772399902344, \"label\": 24, \"HD_label\": 12, \"label_UPGMA\": 18}, {\"tsne_x\": -53.01895523071289, \"tsne_y\": -30.61697769165039, \"label\": 24, \"HD_label\": 12, \"label_UPGMA\": 13}, {\"tsne_x\": -45.43349838256836, \"tsne_y\": -30.660823822021484, \"label\": 24, \"HD_label\": 12, \"label_UPGMA\": 12}, {\"tsne_x\": -45.30211639404297, \"tsne_y\": 4.587564945220947, \"label\": 24, \"HD_label\": 11, \"label_UPGMA\": 9}, {\"tsne_x\": -46.482547760009766, \"tsne_y\": 2.905883550643921, \"label\": 24, \"HD_label\": 12, \"label_UPGMA\": 8}, {\"tsne_x\": -46.00605392456055, \"tsne_y\": -25.953506469726562, \"label\": 24, \"HD_label\": 12, \"label_UPGMA\": 10}, {\"tsne_x\": -30.76717185974121, \"tsne_y\": -21.30046844482422, \"label\": 24, \"HD_label\": 13, \"label_UPGMA\": 7}, {\"tsne_x\": -18.149412155151367, \"tsne_y\": -13.260014533996582, \"label\": 24, \"HD_label\": 12, \"label_UPGMA\": 10}, {\"tsne_x\": -27.63557243347168, \"tsne_y\": -20.925039291381836, \"label\": 24, \"HD_label\": 13, \"label_UPGMA\": 6}, {\"tsne_x\": -7.245220184326172, \"tsne_y\": 18.205711364746094, \"label\": 24, \"HD_label\": 4, \"label_UPGMA\": 16}, {\"tsne_x\": -7.438401222229004, \"tsne_y\": 17.519134521484375, \"label\": 24, \"HD_label\": 4, \"label_UPGMA\": 20}, {\"tsne_x\": -7.605861186981201, \"tsne_y\": 16.150745391845703, \"label\": 24, \"HD_label\": 4, \"label_UPGMA\": 16}, {\"tsne_x\": -7.619503021240234, \"tsne_y\": 15.918976783752441, \"label\": 24, \"HD_label\": 4, \"label_UPGMA\": 16}, {\"tsne_x\": -7.43339204788208, \"tsne_y\": 12.54846477508545, \"label\": 24, \"HD_label\": 5, \"label_UPGMA\": 17}, {\"tsne_x\": -8.374300956726074, \"tsne_y\": 9.454978942871094, \"label\": 24, \"HD_label\": 4, \"label_UPGMA\": 25}, {\"tsne_x\": -8.455266952514648, \"tsne_y\": 9.557483673095703, \"label\": 24, \"HD_label\": 4, \"label_UPGMA\": 25}, {\"tsne_x\": -9.016580581665039, \"tsne_y\": 9.854899406433105, \"label\": 24, \"HD_label\": 8, \"label_UPGMA\": 24}, {\"tsne_x\": -8.290324211120605, \"tsne_y\": 9.400175094604492, \"label\": 24, \"HD_label\": 4, \"label_UPGMA\": 24}, {\"tsne_x\": -8.794153213500977, \"tsne_y\": 9.865503311157227, \"label\": 24, \"HD_label\": 4, \"label_UPGMA\": 24}, {\"tsne_x\": -8.742223739624023, \"tsne_y\": 10.717184066772461, \"label\": 24, \"HD_label\": 5, \"label_UPGMA\": 20}, {\"tsne_x\": -8.993919372558594, \"tsne_y\": 10.0134859085083, \"label\": 24, \"HD_label\": 5, \"label_UPGMA\": 22}, {\"tsne_x\": -9.898232460021973, \"tsne_y\": 9.989009857177734, \"label\": 24, \"HD_label\": 4, \"label_UPGMA\": 18}, {\"tsne_x\": -7.796268939971924, \"tsne_y\": 12.243704795837402, \"label\": 24, \"HD_label\": 5, \"label_UPGMA\": 16}, {\"tsne_x\": -10.036234855651855, \"tsne_y\": 6.9214701652526855, \"label\": 24, \"HD_label\": 4, \"label_UPGMA\": 18}, {\"tsne_x\": -10.034092903137207, \"tsne_y\": 6.912668228149414, \"label\": 24, \"HD_label\": 4, \"label_UPGMA\": 18}, {\"tsne_x\": -9.81874942779541, \"tsne_y\": 5.245681285858154, \"label\": 24, \"HD_label\": 4, \"label_UPGMA\": 20}, {\"tsne_x\": -9.834708213806152, \"tsne_y\": 5.260124206542969, \"label\": 24, \"HD_label\": 4, \"label_UPGMA\": 20}, {\"tsne_x\": -9.804171562194824, \"tsne_y\": 5.253952980041504, \"label\": 24, \"HD_label\": 5, \"label_UPGMA\": 19}, {\"tsne_x\": 0.5624895691871643, \"tsne_y\": 15.292083740234375, \"label\": 24, \"HD_label\": 5, \"label_UPGMA\": 16}, {\"tsne_x\": 2.609478712081909, \"tsne_y\": 17.751436233520508, \"label\": 24, \"HD_label\": 4, \"label_UPGMA\": 19}, {\"tsne_x\": 2.9873547554016113, \"tsne_y\": 18.506052017211914, \"label\": 24, \"HD_label\": 5, \"label_UPGMA\": 14}, {\"tsne_x\": 2.337329149246216, \"tsne_y\": 17.687103271484375, \"label\": 24, \"HD_label\": 5, \"label_UPGMA\": 16}, {\"tsne_x\": 3.3142549991607666, \"tsne_y\": 17.549379348754883, \"label\": 24, \"HD_label\": 6, \"label_UPGMA\": 13}, {\"tsne_x\": -5.102917194366455, \"tsne_y\": 12.36313247680664, \"label\": 24, \"HD_label\": 4, \"label_UPGMA\": 15}, {\"tsne_x\": -5.071883201599121, \"tsne_y\": 12.404027938842773, \"label\": 24, \"HD_label\": 4, \"label_UPGMA\": 15}, {\"tsne_x\": -4.782159805297852, \"tsne_y\": 12.675171852111816, \"label\": 24, \"HD_label\": 5, \"label_UPGMA\": 13}, {\"tsne_x\": -0.5855141878128052, \"tsne_y\": 10.228611946105957, \"label\": 24, \"HD_label\": 6, \"label_UPGMA\": 16}, {\"tsne_x\": -0.5871037840843201, \"tsne_y\": 10.222187995910645, \"label\": 24, \"HD_label\": 6, \"label_UPGMA\": 15}, {\"tsne_x\": -19.398061752319336, \"tsne_y\": 11.19374942779541, \"label\": 24, \"HD_label\": 5, \"label_UPGMA\": 13}, {\"tsne_x\": -16.929162979125977, \"tsne_y\": 12.238236427307129, \"label\": 24, \"HD_label\": 5, \"label_UPGMA\": 15}, {\"tsne_x\": -17.2283935546875, \"tsne_y\": 9.989045143127441, \"label\": 24, \"HD_label\": 4, \"label_UPGMA\": 20}, {\"tsne_x\": -16.793672561645508, \"tsne_y\": 9.07751178741455, \"label\": 24, \"HD_label\": 5, \"label_UPGMA\": 11}, {\"tsne_x\": -11.22457504272461, \"tsne_y\": 10.397012710571289, \"label\": 24, \"HD_label\": 4, \"label_UPGMA\": 15}, {\"tsne_x\": 6.065628528594971, \"tsne_y\": 5.698607921600342, \"label\": 24, \"HD_label\": 8, \"label_UPGMA\": 14}, {\"tsne_x\": 5.997077941894531, \"tsne_y\": 5.7049055099487305, \"label\": 24, \"HD_label\": 7, \"label_UPGMA\": 14}, {\"tsne_x\": -7.933758735656738, \"tsne_y\": 10.45388412475586, \"label\": 24, \"HD_label\": 8, \"label_UPGMA\": 19}, {\"tsne_x\": 11.13147258758545, \"tsne_y\": 40.130043029785156, \"label\": 24, \"HD_label\": 10, \"label_UPGMA\": 9}, {\"tsne_x\": 15.481916427612305, \"tsne_y\": -30.00008773803711, \"label\": 24, \"HD_label\": 8, \"label_UPGMA\": 25}, {\"tsne_x\": 14.803605079650879, \"tsne_y\": -30.034238815307617, \"label\": 24, \"HD_label\": 8, \"label_UPGMA\": 25}, {\"tsne_x\": 14.810997009277344, \"tsne_y\": -30.036907196044922, \"label\": 24, \"HD_label\": 8, \"label_UPGMA\": 24}, {\"tsne_x\": 15.22409439086914, \"tsne_y\": -29.485328674316406, \"label\": 24, \"HD_label\": 8, \"label_UPGMA\": 23}, {\"tsne_x\": 15.461307525634766, \"tsne_y\": -30.001848220825195, \"label\": 24, \"HD_label\": 8, \"label_UPGMA\": 22}, {\"tsne_x\": 14.761703491210938, \"tsne_y\": -29.79378318786621, \"label\": 24, \"HD_label\": 8, \"label_UPGMA\": 21}, {\"tsne_x\": 15.474166870117188, \"tsne_y\": -29.995494842529297, \"label\": 24, \"HD_label\": 8, \"label_UPGMA\": 20}, {\"tsne_x\": 16.131898880004883, \"tsne_y\": -29.46333885192871, \"label\": 24, \"HD_label\": 9, \"label_UPGMA\": 16}, {\"tsne_x\": 14.904054641723633, \"tsne_y\": -29.534399032592773, \"label\": 24, \"HD_label\": 8, \"label_UPGMA\": 19}, {\"tsne_x\": 15.226792335510254, \"tsne_y\": -29.48256492614746, \"label\": 24, \"HD_label\": 8, \"label_UPGMA\": 18}, {\"tsne_x\": 19.12700080871582, \"tsne_y\": -16.281696319580078, \"label\": 24, \"HD_label\": 8, \"label_UPGMA\": 31}, {\"tsne_x\": 17.121950149536133, \"tsne_y\": -13.88530445098877, \"label\": 24, \"HD_label\": 5, \"label_UPGMA\": 29}, {\"tsne_x\": 16.765518188476562, \"tsne_y\": -14.18344783782959, \"label\": 24, \"HD_label\": 5, \"label_UPGMA\": 29}, {\"tsne_x\": 16.765419006347656, \"tsne_y\": -14.183732032775879, \"label\": 24, \"HD_label\": 5, \"label_UPGMA\": 29}, {\"tsne_x\": 19.130603790283203, \"tsne_y\": -16.249832153320312, \"label\": 24, \"HD_label\": 9, \"label_UPGMA\": 30}, {\"tsne_x\": 19.042171478271484, \"tsne_y\": -16.101057052612305, \"label\": 24, \"HD_label\": 8, \"label_UPGMA\": 29}, {\"tsne_x\": 19.159156799316406, \"tsne_y\": -16.24533462524414, \"label\": 24, \"HD_label\": 8, \"label_UPGMA\": 28}, {\"tsne_x\": 7.034250736236572, \"tsne_y\": -29.549819946289062, \"label\": 24, \"HD_label\": 5, \"label_UPGMA\": 22}, {\"tsne_x\": 6.576592922210693, \"tsne_y\": -28.62027931213379, \"label\": 24, \"HD_label\": 6, \"label_UPGMA\": 23}, {\"tsne_x\": 6.666001319885254, \"tsne_y\": -28.601789474487305, \"label\": 24, \"HD_label\": 5, \"label_UPGMA\": 22}, {\"tsne_x\": 7.4552202224731445, \"tsne_y\": -30.000925064086914, \"label\": 24, \"HD_label\": 7, \"label_UPGMA\": 23}, {\"tsne_x\": 20.37872886657715, \"tsne_y\": -17.4061336517334, \"label\": 24, \"HD_label\": 8, \"label_UPGMA\": 27}, {\"tsne_x\": 20.38068962097168, \"tsne_y\": -17.40513801574707, \"label\": 24, \"HD_label\": 9, \"label_UPGMA\": 27}, {\"tsne_x\": 18.035478591918945, \"tsne_y\": -15.994369506835938, \"label\": 24, \"HD_label\": 8, \"label_UPGMA\": 25}, {\"tsne_x\": 19.134756088256836, \"tsne_y\": -17.423994064331055, \"label\": 24, \"HD_label\": 9, \"label_UPGMA\": 24}, {\"tsne_x\": 18.025930404663086, \"tsne_y\": -17.512935638427734, \"label\": 24, \"HD_label\": 6, \"label_UPGMA\": 23}, {\"tsne_x\": 16.901334762573242, \"tsne_y\": -11.20628547668457, \"label\": 24, \"HD_label\": 5, \"label_UPGMA\": 22}, {\"tsne_x\": 16.456188201904297, \"tsne_y\": -15.050203323364258, \"label\": 24, \"HD_label\": 5, \"label_UPGMA\": 23}, {\"tsne_x\": 18.953536987304688, \"tsne_y\": 7.209757328033447, \"label\": 24, \"HD_label\": 8, \"label_UPGMA\": 39}, {\"tsne_x\": 19.10926628112793, \"tsne_y\": 8.31893253326416, \"label\": 24, \"HD_label\": 9, \"label_UPGMA\": 38}, {\"tsne_x\": 19.384735107421875, \"tsne_y\": 7.311161041259766, \"label\": 24, \"HD_label\": 8, \"label_UPGMA\": 39}, {\"tsne_x\": 21.796905517578125, \"tsne_y\": -3.801814317703247, \"label\": 24, \"HD_label\": 8, \"label_UPGMA\": 28}, {\"tsne_x\": 21.574508666992188, \"tsne_y\": -2.3976476192474365, \"label\": 24, \"HD_label\": 8, \"label_UPGMA\": 28}, {\"tsne_x\": 20.05044174194336, \"tsne_y\": 3.6141092777252197, \"label\": 24, \"HD_label\": 6, \"label_UPGMA\": 40}, {\"tsne_x\": 20.208894729614258, \"tsne_y\": 6.161768436431885, \"label\": 24, \"HD_label\": 7, \"label_UPGMA\": 41}, {\"tsne_x\": 19.399879455566406, \"tsne_y\": 1.6251815557479858, \"label\": 24, \"HD_label\": 5, \"label_UPGMA\": 47}, {\"tsne_x\": 20.112125396728516, \"tsne_y\": 5.7021050453186035, \"label\": 24, \"HD_label\": 7, \"label_UPGMA\": 44}, {\"tsne_x\": 18.84639549255371, \"tsne_y\": 1.4849591255187988, \"label\": 24, \"HD_label\": 7, \"label_UPGMA\": 51}, {\"tsne_x\": 18.981433868408203, \"tsne_y\": 2.341787099838257, \"label\": 24, \"HD_label\": 6, \"label_UPGMA\": 41}, {\"tsne_x\": 19.038339614868164, \"tsne_y\": 1.1738961935043335, \"label\": 24, \"HD_label\": 4, \"label_UPGMA\": 51}, {\"tsne_x\": 13.644193649291992, \"tsne_y\": 6.54459810256958, \"label\": 24, \"HD_label\": 8, \"label_UPGMA\": 25}, {\"tsne_x\": 13.210864067077637, \"tsne_y\": 6.396379470825195, \"label\": 24, \"HD_label\": 8, \"label_UPGMA\": 24}, {\"tsne_x\": 25.686561584472656, \"tsne_y\": 6.402007579803467, \"label\": 24, \"HD_label\": 5, \"label_UPGMA\": 43}, {\"tsne_x\": 18.783279418945312, \"tsne_y\": 3.7274789810180664, \"label\": 24, \"HD_label\": 6, \"label_UPGMA\": 38}, {\"tsne_x\": 18.188030242919922, \"tsne_y\": 4.811139106750488, \"label\": 24, \"HD_label\": 7, \"label_UPGMA\": 37}, {\"tsne_x\": 18.862951278686523, \"tsne_y\": 1.535692572593689, \"label\": 24, \"HD_label\": 5, \"label_UPGMA\": 50}, {\"tsne_x\": 19.112293243408203, \"tsne_y\": 1.4773842096328735, \"label\": 24, \"HD_label\": 7, \"label_UPGMA\": 49}, {\"tsne_x\": 25.82640838623047, \"tsne_y\": 0.546027660369873, \"label\": 24, \"HD_label\": 5, \"label_UPGMA\": 33}, {\"tsne_x\": 25.75660514831543, \"tsne_y\": 0.5640134215354919, \"label\": 24, \"HD_label\": 4, \"label_UPGMA\": 33}, {\"tsne_x\": 25.257150650024414, \"tsne_y\": 0.7752830982208252, \"label\": 24, \"HD_label\": 5, \"label_UPGMA\": 32}, {\"tsne_x\": 26.132186889648438, \"tsne_y\": 0.35661181807518005, \"label\": 24, \"HD_label\": 5, \"label_UPGMA\": 31}, {\"tsne_x\": 23.817529678344727, \"tsne_y\": 3.3693389892578125, \"label\": 24, \"HD_label\": 5, \"label_UPGMA\": 41}, {\"tsne_x\": 23.889604568481445, \"tsne_y\": 4.049168586730957, \"label\": 24, \"HD_label\": 6, \"label_UPGMA\": 40}, {\"tsne_x\": 22.10542869567871, \"tsne_y\": 5.916590690612793, \"label\": 24, \"HD_label\": 8, \"label_UPGMA\": 39}, {\"tsne_x\": 20.482412338256836, \"tsne_y\": 3.4180028438568115, \"label\": 24, \"HD_label\": 5, \"label_UPGMA\": 40}, {\"tsne_x\": 17.769018173217773, \"tsne_y\": 1.7271976470947266, \"label\": 24, \"HD_label\": 4, \"label_UPGMA\": 32}, {\"tsne_x\": 15.918283462524414, \"tsne_y\": -7.354001522064209, \"label\": 24, \"HD_label\": 6, \"label_UPGMA\": 30}, {\"tsne_x\": 16.77163314819336, \"tsne_y\": -3.363293170928955, \"label\": 24, \"HD_label\": 9, \"label_UPGMA\": 29}, {\"tsne_x\": 20.62618064880371, \"tsne_y\": -16.268117904663086, \"label\": 24, \"HD_label\": 8, \"label_UPGMA\": 21}, {\"tsne_x\": 18.92035675048828, \"tsne_y\": -15.246841430664062, \"label\": 24, \"HD_label\": 8, \"label_UPGMA\": 23}, {\"tsne_x\": 22.495073318481445, \"tsne_y\": -2.7405598163604736, \"label\": 24, \"HD_label\": 8, \"label_UPGMA\": 23}, {\"tsne_x\": 20.37678337097168, \"tsne_y\": -2.235799789428711, \"label\": 24, \"HD_label\": 8, \"label_UPGMA\": 22}, {\"tsne_x\": 28.144168853759766, \"tsne_y\": 3.6012182235717773, \"label\": 24, \"HD_label\": 4, \"label_UPGMA\": 25}, {\"tsne_x\": 21.24334144592285, \"tsne_y\": 1.5025489330291748, \"label\": 24, \"HD_label\": 5, \"label_UPGMA\": 34}, {\"tsne_x\": 17.431142807006836, \"tsne_y\": -2.3630125522613525, \"label\": 24, \"HD_label\": 5, \"label_UPGMA\": 30}, {\"tsne_x\": 17.7137393951416, \"tsne_y\": -14.043023109436035, \"label\": 24, \"HD_label\": 8, \"label_UPGMA\": 22}, {\"tsne_x\": 15.807154655456543, \"tsne_y\": -7.255228042602539, \"label\": 24, \"HD_label\": 6, \"label_UPGMA\": 14}, {\"tsne_x\": 17.530704498291016, \"tsne_y\": -0.0947541743516922, \"label\": 24, \"HD_label\": 5, \"label_UPGMA\": 31}, {\"tsne_x\": 16.769954681396484, \"tsne_y\": -0.44930803775787354, \"label\": 24, \"HD_label\": 4, \"label_UPGMA\": 20}, {\"tsne_x\": 29.62826919555664, \"tsne_y\": 0.37780821323394775, \"label\": 24, \"HD_label\": 8, \"label_UPGMA\": 14}, {\"tsne_x\": 29.62900161743164, \"tsne_y\": 0.3776554763317108, \"label\": 24, \"HD_label\": 9, \"label_UPGMA\": 14}, {\"tsne_x\": 12.114739418029785, \"tsne_y\": 5.974987506866455, \"label\": 24, \"HD_label\": 8, \"label_UPGMA\": 18}, {\"tsne_x\": 15.14799976348877, \"tsne_y\": 4.133336544036865, \"label\": 24, \"HD_label\": 5, \"label_UPGMA\": 34}, {\"tsne_x\": 14.631486892700195, \"tsne_y\": 3.2118656635284424, \"label\": 24, \"HD_label\": 6, \"label_UPGMA\": 15}, {\"tsne_x\": 17.227569580078125, \"tsne_y\": 2.843562364578247, \"label\": 24, \"HD_label\": 5, \"label_UPGMA\": 24}, {\"tsne_x\": 12.076812744140625, \"tsne_y\": 8.285633087158203, \"label\": 24, \"HD_label\": 9, \"label_UPGMA\": 19}, {\"tsne_x\": 11.991379737854004, \"tsne_y\": 7.656555652618408, \"label\": 24, \"HD_label\": 8, \"label_UPGMA\": 19}, {\"tsne_x\": 18.578876495361328, \"tsne_y\": -11.051900863647461, \"label\": 24, \"HD_label\": 6, \"label_UPGMA\": 22}, {\"tsne_x\": 28.18173599243164, \"tsne_y\": 8.511192321777344, \"label\": 24, \"HD_label\": 9, \"label_UPGMA\": 17}, {\"tsne_x\": 29.025358200073242, \"tsne_y\": 7.8999104499816895, \"label\": 24, \"HD_label\": 9, \"label_UPGMA\": 15}, {\"tsne_x\": 19.188121795654297, \"tsne_y\": -0.6007912158966064, \"label\": 24, \"HD_label\": 5, \"label_UPGMA\": 24}, {\"tsne_x\": 17.232818603515625, \"tsne_y\": -16.66890525817871, \"label\": 24, \"HD_label\": 8, \"label_UPGMA\": 19}, {\"tsne_x\": 13.20749282836914, \"tsne_y\": -18.45963478088379, \"label\": 24, \"HD_label\": 9, \"label_UPGMA\": 16}, {\"tsne_x\": 28.56511116027832, \"tsne_y\": -19.726903915405273, \"label\": 24, \"HD_label\": 9, \"label_UPGMA\": 15}, {\"tsne_x\": 28.56532096862793, \"tsne_y\": -19.727039337158203, \"label\": 24, \"HD_label\": 9, \"label_UPGMA\": 15}, {\"tsne_x\": 28.61680793762207, \"tsne_y\": -19.7562255859375, \"label\": 24, \"HD_label\": 8, \"label_UPGMA\": 14}, {\"tsne_x\": 28.29848289489746, \"tsne_y\": -18.896804809570312, \"label\": 24, \"HD_label\": 9, \"label_UPGMA\": 15}, {\"tsne_x\": 28.224462509155273, \"tsne_y\": -18.413562774658203, \"label\": 24, \"HD_label\": 9, \"label_UPGMA\": 13}, {\"tsne_x\": 27.481786727905273, \"tsne_y\": -18.730112075805664, \"label\": 24, \"HD_label\": 8, \"label_UPGMA\": 11}, {\"tsne_x\": 30.8273868560791, \"tsne_y\": -20.760377883911133, \"label\": 24, \"HD_label\": 9, \"label_UPGMA\": 16}, {\"tsne_x\": 32.03488540649414, \"tsne_y\": -20.737682342529297, \"label\": 24, \"HD_label\": 5, \"label_UPGMA\": 11}, {\"tsne_x\": 12.059906005859375, \"tsne_y\": -13.493589401245117, \"label\": 24, \"HD_label\": 8, \"label_UPGMA\": 19}, {\"tsne_x\": 12.068232536315918, \"tsne_y\": -13.496103286743164, \"label\": 24, \"HD_label\": 7, \"label_UPGMA\": 19}, {\"tsne_x\": 17.738866806030273, \"tsne_y\": 6.73541259765625, \"label\": 24, \"HD_label\": 8, \"label_UPGMA\": 16}, {\"tsne_x\": 15.51850414276123, \"tsne_y\": -7.234456539154053, \"label\": 24, \"HD_label\": 6, \"label_UPGMA\": 14}, {\"tsne_x\": 17.709274291992188, \"tsne_y\": 3.3064608573913574, \"label\": 24, \"HD_label\": 5, \"label_UPGMA\": 19}, {\"tsne_x\": 19.131698608398438, \"tsne_y\": -18.716806411743164, \"label\": 24, \"HD_label\": 8, \"label_UPGMA\": 10}, {\"tsne_x\": 22.386802673339844, \"tsne_y\": 14.010879516601562, \"label\": 24, \"HD_label\": 7, \"label_UPGMA\": 12}, {\"tsne_x\": 18.117145538330078, \"tsne_y\": -1.4785802364349365, \"label\": 24, \"HD_label\": 5, \"label_UPGMA\": 16}, {\"tsne_x\": 7.523501396179199, \"tsne_y\": -33.16721725463867, \"label\": 24, \"HD_label\": 8, \"label_UPGMA\": 18}, {\"tsne_x\": 7.524897575378418, \"tsne_y\": -33.16725540161133, \"label\": 24, \"HD_label\": 9, \"label_UPGMA\": 18}, {\"tsne_x\": 7.703216075897217, \"tsne_y\": -33.2025032043457, \"label\": 24, \"HD_label\": 8, \"label_UPGMA\": 17}, {\"tsne_x\": 7.659040451049805, \"tsne_y\": -33.328155517578125, \"label\": 24, \"HD_label\": 9, \"label_UPGMA\": 16}, {\"tsne_x\": 7.56564474105835, \"tsne_y\": -32.98488235473633, \"label\": 24, \"HD_label\": 9, \"label_UPGMA\": 15}, {\"tsne_x\": 6.960628509521484, \"tsne_y\": -33.34614562988281, \"label\": 24, \"HD_label\": 9, \"label_UPGMA\": 14}, {\"tsne_x\": 9.01663875579834, \"tsne_y\": -39.16966247558594, \"label\": 24, \"HD_label\": 9, \"label_UPGMA\": 21}, {\"tsne_x\": 9.018214225769043, \"tsne_y\": -39.08871841430664, \"label\": 24, \"HD_label\": 7, \"label_UPGMA\": 22}, {\"tsne_x\": 8.156451225280762, \"tsne_y\": -39.122901916503906, \"label\": 24, \"HD_label\": 9, \"label_UPGMA\": 19}, {\"tsne_x\": 9.595757484436035, \"tsne_y\": -40.29692077636719, \"label\": 24, \"HD_label\": 8, \"label_UPGMA\": 19}, {\"tsne_x\": 9.791386604309082, \"tsne_y\": -40.201316833496094, \"label\": 24, \"HD_label\": 8, \"label_UPGMA\": 19}, {\"tsne_x\": 9.595755577087402, \"tsne_y\": -40.29692459106445, \"label\": 24, \"HD_label\": 9, \"label_UPGMA\": 18}, {\"tsne_x\": 9.53957748413086, \"tsne_y\": -40.60688781738281, \"label\": 24, \"HD_label\": 8, \"label_UPGMA\": 17}, {\"tsne_x\": -3.626537799835205, \"tsne_y\": -26.114662170410156, \"label\": 24, \"HD_label\": 8, \"label_UPGMA\": 22}, {\"tsne_x\": -3.5829601287841797, \"tsne_y\": -26.003068923950195, \"label\": 24, \"HD_label\": 9, \"label_UPGMA\": 21}, {\"tsne_x\": -1.515791654586792, \"tsne_y\": -26.206308364868164, \"label\": 24, \"HD_label\": 9, \"label_UPGMA\": 22}, {\"tsne_x\": -1.853740930557251, \"tsne_y\": -24.826608657836914, \"label\": 24, \"HD_label\": 9, \"label_UPGMA\": 21}, {\"tsne_x\": -1.8641600608825684, \"tsne_y\": -24.82974624633789, \"label\": 24, \"HD_label\": 9, \"label_UPGMA\": 21}, {\"tsne_x\": -2.2965102195739746, \"tsne_y\": -23.46686553955078, \"label\": 24, \"HD_label\": 9, \"label_UPGMA\": 21}, {\"tsne_x\": -2.2992708683013916, \"tsne_y\": -23.4805965423584, \"label\": 24, \"HD_label\": 9, \"label_UPGMA\": 21}, {\"tsne_x\": -0.17835219204425812, \"tsne_y\": -25.219364166259766, \"label\": 24, \"HD_label\": 9, \"label_UPGMA\": 19}, {\"tsne_x\": -0.06389325112104416, \"tsne_y\": -25.111347198486328, \"label\": 24, \"HD_label\": 9, \"label_UPGMA\": 19}, {\"tsne_x\": -1.5870847702026367, \"tsne_y\": -28.21749496459961, \"label\": 24, \"HD_label\": 8, \"label_UPGMA\": 24}, {\"tsne_x\": -1.6166085004806519, \"tsne_y\": -27.931446075439453, \"label\": 24, \"HD_label\": 8, \"label_UPGMA\": 28}, {\"tsne_x\": -0.9520310759544373, \"tsne_y\": -28.21245765686035, \"label\": 24, \"HD_label\": 9, \"label_UPGMA\": 23}, {\"tsne_x\": -6.825832843780518, \"tsne_y\": -26.02051544189453, \"label\": 24, \"HD_label\": 9, \"label_UPGMA\": 18}, {\"tsne_x\": -6.493724346160889, \"tsne_y\": -26.397512435913086, \"label\": 24, \"HD_label\": 9, \"label_UPGMA\": 19}, {\"tsne_x\": -0.8331506848335266, \"tsne_y\": -28.869577407836914, \"label\": 24, \"HD_label\": 9, \"label_UPGMA\": 20}, {\"tsne_x\": 4.765787124633789, \"tsne_y\": -28.437265396118164, \"label\": 24, \"HD_label\": 9, \"label_UPGMA\": 17}, {\"tsne_x\": -3.8306946754455566, \"tsne_y\": -35.97693634033203, \"label\": 24, \"HD_label\": 9, \"label_UPGMA\": 15}, {\"tsne_x\": -3.9934918880462646, \"tsne_y\": -36.50149917602539, \"label\": 24, \"HD_label\": 8, \"label_UPGMA\": 17}, {\"tsne_x\": -3.921290159225464, \"tsne_y\": -36.31331253051758, \"label\": 24, \"HD_label\": 8, \"label_UPGMA\": 17}, {\"tsne_x\": -4.1272125244140625, \"tsne_y\": -36.87649154663086, \"label\": 24, \"HD_label\": 8, \"label_UPGMA\": 17}, {\"tsne_x\": -4.993161201477051, \"tsne_y\": -36.604366302490234, \"label\": 24, \"HD_label\": 9, \"label_UPGMA\": 15}, {\"tsne_x\": -4.993197917938232, \"tsne_y\": -36.60563278198242, \"label\": 24, \"HD_label\": 9, \"label_UPGMA\": 15}, {\"tsne_x\": -3.0175397396087646, \"tsne_y\": -36.8843879699707, \"label\": 24, \"HD_label\": 8, \"label_UPGMA\": 12}, {\"tsne_x\": -0.034141652286052704, \"tsne_y\": -26.738452911376953, \"label\": 24, \"HD_label\": 9, \"label_UPGMA\": 21}, {\"tsne_x\": 0.5652475953102112, \"tsne_y\": -26.756954193115234, \"label\": 24, \"HD_label\": 4, \"label_UPGMA\": 11}, {\"tsne_x\": -0.25092047452926636, \"tsne_y\": -30.04545783996582, \"label\": 24, \"HD_label\": 12, \"label_UPGMA\": 9}, {\"tsne_x\": -2.3490898609161377, \"tsne_y\": -26.660301208496094, \"label\": 24, \"HD_label\": 9, \"label_UPGMA\": 13}, {\"tsne_x\": 8.973621368408203, \"tsne_y\": -37.40220642089844, \"label\": 24, \"HD_label\": 9, \"label_UPGMA\": 14}, {\"tsne_x\": 8.931998252868652, \"tsne_y\": -37.903472900390625, \"label\": 24, \"HD_label\": 9, \"label_UPGMA\": 15}, {\"tsne_x\": 20.19118881225586, \"tsne_y\": -15.500447273254395, \"label\": 24, \"HD_label\": 8, \"label_UPGMA\": 20}, {\"tsne_x\": 21.099773406982422, \"tsne_y\": 8.21351146697998, \"label\": 24, \"HD_label\": 8, \"label_UPGMA\": 44}, {\"tsne_x\": 21.74894905090332, \"tsne_y\": 7.857254505157471, \"label\": 24, \"HD_label\": 8, \"label_UPGMA\": 43}, {\"tsne_x\": 21.290145874023438, \"tsne_y\": 7.851946830749512, \"label\": 24, \"HD_label\": 8, \"label_UPGMA\": 45}, {\"tsne_x\": 21.362524032592773, \"tsne_y\": 8.455798149108887, \"label\": 24, \"HD_label\": 8, \"label_UPGMA\": 42}, {\"tsne_x\": 21.28925323486328, \"tsne_y\": 7.8512282371521, \"label\": 24, \"HD_label\": 8, \"label_UPGMA\": 45}, {\"tsne_x\": 21.769115447998047, \"tsne_y\": 8.210892677307129, \"label\": 24, \"HD_label\": 8, \"label_UPGMA\": 41}, {\"tsne_x\": 21.135534286499023, \"tsne_y\": -2.3547027111053467, \"label\": 24, \"HD_label\": 9, \"label_UPGMA\": 29}, {\"tsne_x\": 20.112403869628906, \"tsne_y\": 5.702247142791748, \"label\": 24, \"HD_label\": 8, \"label_UPGMA\": 44}, {\"tsne_x\": 20.955215454101562, \"tsne_y\": 6.5270609855651855, \"label\": 24, \"HD_label\": 9, \"label_UPGMA\": 39}, {\"tsne_x\": 19.75959014892578, \"tsne_y\": 0.2672805190086365, \"label\": 24, \"HD_label\": 5, \"label_UPGMA\": 28}, {\"tsne_x\": 21.22303009033203, \"tsne_y\": 5.339775085449219, \"label\": 24, \"HD_label\": 8, \"label_UPGMA\": 27}, {\"tsne_x\": 23.27396011352539, \"tsne_y\": -1.6766208410263062, \"label\": 24, \"HD_label\": 5, \"label_UPGMA\": 30}, {\"tsne_x\": 23.818199157714844, \"tsne_y\": 3.3701558113098145, \"label\": 24, \"HD_label\": 6, \"label_UPGMA\": 41}, {\"tsne_x\": 20.08531379699707, \"tsne_y\": 1.41721510887146, \"label\": 24, \"HD_label\": 10, \"label_UPGMA\": 48}, {\"tsne_x\": 20.587810516357422, \"tsne_y\": 1.3260818719863892, \"label\": 24, \"HD_label\": 10, \"label_UPGMA\": 34}, {\"tsne_x\": 21.04587173461914, \"tsne_y\": -1.4683823585510254, \"label\": 24, \"HD_label\": 9, \"label_UPGMA\": 21}, {\"tsne_x\": 20.432199478149414, \"tsne_y\": -4.465627193450928, \"label\": 24, \"HD_label\": 9, \"label_UPGMA\": 19}, {\"tsne_x\": 28.064319610595703, \"tsne_y\": 8.415467262268066, \"label\": 24, \"HD_label\": 9, \"label_UPGMA\": 18}, {\"tsne_x\": 28.164987564086914, \"tsne_y\": 8.511302947998047, \"label\": 24, \"HD_label\": 9, \"label_UPGMA\": 18}, {\"tsne_x\": 27.589038848876953, \"tsne_y\": 7.95722770690918, \"label\": 24, \"HD_label\": 10, \"label_UPGMA\": 14}, {\"tsne_x\": -0.06602640450000763, \"tsne_y\": 15.354772567749023, \"label\": 24, \"HD_label\": 5, \"label_UPGMA\": 19}, {\"tsne_x\": -0.06762780994176865, \"tsne_y\": 15.352474212646484, \"label\": 24, \"HD_label\": 5, \"label_UPGMA\": 19}, {\"tsne_x\": -0.9474464058876038, \"tsne_y\": 14.849798202514648, \"label\": 24, \"HD_label\": 5, \"label_UPGMA\": 15}, {\"tsne_x\": -7.259613990783691, \"tsne_y\": -26.091575622558594, \"label\": 24, \"HD_label\": 10, \"label_UPGMA\": 16}, {\"tsne_x\": -7.080943584442139, \"tsne_y\": -25.92654037475586, \"label\": 24, \"HD_label\": 10, \"label_UPGMA\": 17}, {\"tsne_x\": -1.6755741834640503, \"tsne_y\": -29.16069793701172, \"label\": 24, \"HD_label\": 10, \"label_UPGMA\": 24}, {\"tsne_x\": -1.7076205015182495, \"tsne_y\": -29.564443588256836, \"label\": 24, \"HD_label\": 10, \"label_UPGMA\": 23}, {\"tsne_x\": 7.455257415771484, \"tsne_y\": -30.000795364379883, \"label\": 24, \"HD_label\": 7, \"label_UPGMA\": 23}, {\"tsne_x\": 7.635896682739258, \"tsne_y\": -30.4495849609375, \"label\": 24, \"HD_label\": 10, \"label_UPGMA\": 20}, {\"tsne_x\": 9.01711368560791, \"tsne_y\": -39.16952133178711, \"label\": 24, \"HD_label\": 8, \"label_UPGMA\": 20}, {\"tsne_x\": 8.156599998474121, \"tsne_y\": -39.12361145019531, \"label\": 24, \"HD_label\": 9, \"label_UPGMA\": 19}, {\"tsne_x\": 5.987137317657471, \"tsne_y\": -30.1859188079834, \"label\": 24, \"HD_label\": 9, \"label_UPGMA\": 8}, {\"tsne_x\": 7.780299663543701, \"tsne_y\": -27.01775550842285, \"label\": 24, \"HD_label\": 6, \"label_UPGMA\": 15}, {\"tsne_x\": 7.0090813636779785, \"tsne_y\": -26.815242767333984, \"label\": 24, \"HD_label\": 5, \"label_UPGMA\": 14}, {\"tsne_x\": 10.693278312683105, \"tsne_y\": -39.786319732666016, \"label\": 24, \"HD_label\": 8, \"label_UPGMA\": 6}, {\"tsne_x\": 59.84860610961914, \"tsne_y\": -0.164969339966774, \"label\": 24, \"HD_label\": 10, \"label_UPGMA\": 13}, {\"tsne_x\": 52.50221252441406, \"tsne_y\": 11.77384090423584, \"label\": 24, \"HD_label\": 10, \"label_UPGMA\": 15}, {\"tsne_x\": 54.17073059082031, \"tsne_y\": 1.432071566581726, \"label\": 24, \"HD_label\": 8, \"label_UPGMA\": 20}, {\"tsne_x\": 53.62287521362305, \"tsne_y\": 2.0306482315063477, \"label\": 24, \"HD_label\": 7, \"label_UPGMA\": 27}, {\"tsne_x\": 54.30228805541992, \"tsne_y\": -0.2540063261985779, \"label\": 24, \"HD_label\": 11, \"label_UPGMA\": 20}, {\"tsne_x\": 53.049598693847656, \"tsne_y\": 1.3028048276901245, \"label\": 24, \"HD_label\": 8, \"label_UPGMA\": 19}, {\"tsne_x\": 53.53693389892578, \"tsne_y\": 11.372259140014648, \"label\": 24, \"HD_label\": 9, \"label_UPGMA\": 20}, {\"tsne_x\": 55.32102966308594, \"tsne_y\": 10.641217231750488, \"label\": 24, \"HD_label\": 9, \"label_UPGMA\": 14}, {\"tsne_x\": 51.565521240234375, \"tsne_y\": 10.580838203430176, \"label\": 24, \"HD_label\": 11, \"label_UPGMA\": 10}, {\"tsne_x\": 51.512935638427734, \"tsne_y\": -0.013058671727776527, \"label\": 24, \"HD_label\": 9, \"label_UPGMA\": 13}, {\"tsne_x\": 58.790897369384766, \"tsne_y\": 3.5905611515045166, \"label\": 24, \"HD_label\": 9, \"label_UPGMA\": 15}, {\"tsne_x\": 58.75686264038086, \"tsne_y\": 3.534703016281128, \"label\": 24, \"HD_label\": 9, \"label_UPGMA\": 15}, {\"tsne_x\": 57.03266906738281, \"tsne_y\": 0.7617539167404175, \"label\": 24, \"HD_label\": 9, \"label_UPGMA\": 13}, {\"tsne_x\": 57.988731384277344, \"tsne_y\": 1.2611030340194702, \"label\": 24, \"HD_label\": 8, \"label_UPGMA\": 19}, {\"tsne_x\": 57.98834228515625, \"tsne_y\": 1.2608929872512817, \"label\": 24, \"HD_label\": 10, \"label_UPGMA\": 19}, {\"tsne_x\": 58.3857536315918, \"tsne_y\": 1.1641016006469727, \"label\": 24, \"HD_label\": 9, \"label_UPGMA\": 18}, {\"tsne_x\": 55.95692443847656, \"tsne_y\": -15.277558326721191, \"label\": 24, \"HD_label\": 10, \"label_UPGMA\": 20}, {\"tsne_x\": 55.32994842529297, \"tsne_y\": -14.773941040039062, \"label\": 24, \"HD_label\": 10, \"label_UPGMA\": 22}, {\"tsne_x\": 55.267913818359375, \"tsne_y\": -15.089797019958496, \"label\": 24, \"HD_label\": 11, \"label_UPGMA\": 19}, {\"tsne_x\": 54.70369338989258, \"tsne_y\": -14.588397026062012, \"label\": 24, \"HD_label\": 12, \"label_UPGMA\": 17}, {\"tsne_x\": 55.417442321777344, \"tsne_y\": -14.612107276916504, \"label\": 24, \"HD_label\": 11, \"label_UPGMA\": 18}, {\"tsne_x\": 54.77972412109375, \"tsne_y\": -15.205724716186523, \"label\": 24, \"HD_label\": 12, \"label_UPGMA\": 17}, {\"tsne_x\": 56.26923751831055, \"tsne_y\": -15.502062797546387, \"label\": 24, \"HD_label\": 11, \"label_UPGMA\": 16}, {\"tsne_x\": 54.68467712402344, \"tsne_y\": -15.725653648376465, \"label\": 24, \"HD_label\": 11, \"label_UPGMA\": 14}, {\"tsne_x\": 56.26435089111328, \"tsne_y\": -15.505655288696289, \"label\": 24, \"HD_label\": 11, \"label_UPGMA\": 16}, {\"tsne_x\": 53.78620910644531, \"tsne_y\": -15.887263298034668, \"label\": 24, \"HD_label\": 12, \"label_UPGMA\": 10}, {\"tsne_x\": 55.26335525512695, \"tsne_y\": -15.891934394836426, \"label\": 24, \"HD_label\": 11, \"label_UPGMA\": 13}, {\"tsne_x\": 55.64748001098633, \"tsne_y\": -13.152382850646973, \"label\": 24, \"HD_label\": 13, \"label_UPGMA\": 13}, {\"tsne_x\": 52.62549591064453, \"tsne_y\": 10.623296737670898, \"label\": 24, \"HD_label\": 8, \"label_UPGMA\": 17}, {\"tsne_x\": 52.90538024902344, \"tsne_y\": 10.863396644592285, \"label\": 24, \"HD_label\": 9, \"label_UPGMA\": 18}, {\"tsne_x\": 54.50890350341797, \"tsne_y\": 10.395726203918457, \"label\": 24, \"HD_label\": 10, \"label_UPGMA\": 14}, {\"tsne_x\": 53.46235656738281, \"tsne_y\": 3.668631076812744, \"label\": 24, \"HD_label\": 11, \"label_UPGMA\": 17}, {\"tsne_x\": 57.34912109375, \"tsne_y\": 2.495015859603882, \"label\": 24, \"HD_label\": 8, \"label_UPGMA\": 17}, {\"tsne_x\": 57.335079193115234, \"tsne_y\": 2.6668615341186523, \"label\": 24, \"HD_label\": 8, \"label_UPGMA\": 17}, {\"tsne_x\": 57.2783203125, \"tsne_y\": 1.608852744102478, \"label\": 24, \"HD_label\": 9, \"label_UPGMA\": 17}, {\"tsne_x\": 53.15248107910156, \"tsne_y\": 2.625728130340576, \"label\": 24, \"HD_label\": 8, \"label_UPGMA\": 27}, {\"tsne_x\": 52.79645919799805, \"tsne_y\": 12.525351524353027, \"label\": 24, \"HD_label\": 8, \"label_UPGMA\": 14}, {\"tsne_x\": 55.3299560546875, \"tsne_y\": -14.773898124694824, \"label\": 24, \"HD_label\": 10, \"label_UPGMA\": 22}, {\"tsne_x\": 55.76560974121094, \"tsne_y\": -13.809560775756836, \"label\": 24, \"HD_label\": 10, \"label_UPGMA\": 14}, {\"tsne_x\": 59.82028579711914, \"tsne_y\": -0.14245358109474182, \"label\": 24, \"HD_label\": 12, \"label_UPGMA\": 13}, {\"tsne_x\": 54.669891357421875, \"tsne_y\": -2.0673863887786865, \"label\": 24, \"HD_label\": 10, \"label_UPGMA\": 11}, {\"tsne_x\": 54.659271240234375, \"tsne_y\": -2.0366322994232178, \"label\": 24, \"HD_label\": 10, \"label_UPGMA\": 11}, {\"tsne_x\": 51.48194122314453, \"tsne_y\": 12.249213218688965, \"label\": 24, \"HD_label\": 8, \"label_UPGMA\": 9}, {\"tsne_x\": 54.52465057373047, \"tsne_y\": 12.346447944641113, \"label\": 24, \"HD_label\": 8, \"label_UPGMA\": 16}, {\"tsne_x\": 54.01042556762695, \"tsne_y\": 12.762929916381836, \"label\": 24, \"HD_label\": 9, \"label_UPGMA\": 15}, {\"tsne_x\": 54.00899887084961, \"tsne_y\": 12.480310440063477, \"label\": 24, \"HD_label\": 9, \"label_UPGMA\": 16}, {\"tsne_x\": 53.643733978271484, \"tsne_y\": 10.811179161071777, \"label\": 24, \"HD_label\": 8, \"label_UPGMA\": 18}, {\"tsne_x\": 53.535884857177734, \"tsne_y\": 11.373863220214844, \"label\": 24, \"HD_label\": 8, \"label_UPGMA\": 20}, {\"tsne_x\": 54.31592559814453, \"tsne_y\": 11.355952262878418, \"label\": 24, \"HD_label\": 9, \"label_UPGMA\": 19}, {\"tsne_x\": 54.371551513671875, \"tsne_y\": 11.523420333862305, \"label\": 24, \"HD_label\": 9, \"label_UPGMA\": 19}, {\"tsne_x\": 53.19717025756836, \"tsne_y\": 11.656137466430664, \"label\": 24, \"HD_label\": 10, \"label_UPGMA\": 17}, {\"tsne_x\": 53.60645294189453, \"tsne_y\": 11.327929496765137, \"label\": 24, \"HD_label\": 9, \"label_UPGMA\": 19}, {\"tsne_x\": 53.25786590576172, \"tsne_y\": 9.615884780883789, \"label\": 24, \"HD_label\": 9, \"label_UPGMA\": 13}, {\"tsne_x\": 53.97635269165039, \"tsne_y\": 8.221147537231445, \"label\": 24, \"HD_label\": 9, \"label_UPGMA\": 15}, {\"tsne_x\": 54.03499221801758, \"tsne_y\": 8.582158088684082, \"label\": 24, \"HD_label\": 9, \"label_UPGMA\": 15}, {\"tsne_x\": 54.238216400146484, \"tsne_y\": 8.780754089355469, \"label\": 24, \"HD_label\": 9, \"label_UPGMA\": 14}, {\"tsne_x\": 55.28318786621094, \"tsne_y\": 12.576512336730957, \"label\": 24, \"HD_label\": 9, \"label_UPGMA\": 14}, {\"tsne_x\": 53.69239044189453, \"tsne_y\": 1.9937763214111328, \"label\": 24, \"HD_label\": 9, \"label_UPGMA\": 26}, {\"tsne_x\": 53.70273971557617, \"tsne_y\": 2.006072998046875, \"label\": 24, \"HD_label\": 6, \"label_UPGMA\": 25}, {\"tsne_x\": 53.13299560546875, \"tsne_y\": 2.0541579723358154, \"label\": 24, \"HD_label\": 9, \"label_UPGMA\": 24}, {\"tsne_x\": 52.03561019897461, \"tsne_y\": 1.9917662143707275, \"label\": 24, \"HD_label\": 7, \"label_UPGMA\": 23}, {\"tsne_x\": 51.922218322753906, \"tsne_y\": 1.9791324138641357, \"label\": 24, \"HD_label\": 7, \"label_UPGMA\": 23}, {\"tsne_x\": 52.19171142578125, \"tsne_y\": 2.7934679985046387, \"label\": 24, \"HD_label\": 7, \"label_UPGMA\": 22}, {\"tsne_x\": 51.61064529418945, \"tsne_y\": 1.9579153060913086, \"label\": 24, \"HD_label\": 8, \"label_UPGMA\": 18}, {\"tsne_x\": 53.77248764038086, \"tsne_y\": 0.0052548726089298725, \"label\": 24, \"HD_label\": 8, \"label_UPGMA\": 22}, {\"tsne_x\": 53.711605072021484, \"tsne_y\": 0.15726794302463531, \"label\": 24, \"HD_label\": 8, \"label_UPGMA\": 22}, {\"tsne_x\": 53.609642028808594, \"tsne_y\": 0.5400225520133972, \"label\": 24, \"HD_label\": 8, \"label_UPGMA\": 21}, {\"tsne_x\": 53.09159851074219, \"tsne_y\": -0.3475009799003601, \"label\": 24, \"HD_label\": 5, \"label_UPGMA\": 19}, {\"tsne_x\": 53.03557586669922, \"tsne_y\": 2.90511417388916, \"label\": 24, \"HD_label\": 8, \"label_UPGMA\": 22}, {\"tsne_x\": 53.645912170410156, \"tsne_y\": 1.9458063840866089, \"label\": 24, \"HD_label\": 8, \"label_UPGMA\": 23}, {\"tsne_x\": 50.9252815246582, \"tsne_y\": 2.861572265625, \"label\": 24, \"HD_label\": 8, \"label_UPGMA\": 19}, {\"tsne_x\": 51.23919677734375, \"tsne_y\": 3.124765634536743, \"label\": 24, \"HD_label\": 8, \"label_UPGMA\": 19}, {\"tsne_x\": 51.4510498046875, \"tsne_y\": 1.219572901725769, \"label\": 24, \"HD_label\": 7, \"label_UPGMA\": 17}, {\"tsne_x\": 50.623443603515625, \"tsne_y\": 1.6571913957595825, \"label\": 24, \"HD_label\": 7, \"label_UPGMA\": 16}, {\"tsne_x\": 52.555477142333984, \"tsne_y\": -0.8513970971107483, \"label\": 24, \"HD_label\": 8, \"label_UPGMA\": 12}, {\"tsne_x\": 54.43724060058594, \"tsne_y\": 4.086555004119873, \"label\": 24, \"HD_label\": 9, \"label_UPGMA\": 14}, {\"tsne_x\": 54.24767303466797, \"tsne_y\": 2.940300703048706, \"label\": 24, \"HD_label\": 8, \"label_UPGMA\": 16}, {\"tsne_x\": 55.34769821166992, \"tsne_y\": 2.805222749710083, \"label\": 24, \"HD_label\": 9, \"label_UPGMA\": 16}, {\"tsne_x\": 55.180992126464844, \"tsne_y\": 1.9288595914840698, \"label\": 24, \"HD_label\": 9, \"label_UPGMA\": 17}, {\"tsne_x\": 55.4323844909668, \"tsne_y\": 1.5074677467346191, \"label\": 24, \"HD_label\": 8, \"label_UPGMA\": 17}, {\"tsne_x\": 53.30861282348633, \"tsne_y\": 13.564929962158203, \"label\": 24, \"HD_label\": 9, \"label_UPGMA\": 12}, {\"tsne_x\": 54.55774688720703, \"tsne_y\": 13.380725860595703, \"label\": 24, \"HD_label\": 9, \"label_UPGMA\": 13}, {\"tsne_x\": 55.33018112182617, \"tsne_y\": -14.773199081420898, \"label\": 24, \"HD_label\": 10, \"label_UPGMA\": 21}, {\"tsne_x\": 54.26730728149414, \"tsne_y\": -14.485736846923828, \"label\": 24, \"HD_label\": 13, \"label_UPGMA\": 17}, {\"tsne_x\": 53.70613479614258, \"tsne_y\": -14.486689567565918, \"label\": 24, \"HD_label\": 11, \"label_UPGMA\": 12}, {\"tsne_x\": 56.62415313720703, \"tsne_y\": -13.966303825378418, \"label\": 24, \"HD_label\": 13, \"label_UPGMA\": 14}, {\"tsne_x\": 57.32234191894531, \"tsne_y\": -13.862013816833496, \"label\": 24, \"HD_label\": 13, \"label_UPGMA\": 11}, {\"tsne_x\": 57.32050323486328, \"tsne_y\": -13.858163833618164, \"label\": 24, \"HD_label\": 13, \"label_UPGMA\": 11}, {\"tsne_x\": 55.62311553955078, \"tsne_y\": -16.78942108154297, \"label\": 24, \"HD_label\": 11, \"label_UPGMA\": 10}, {\"tsne_x\": 54.73635482788086, \"tsne_y\": -13.33523941040039, \"label\": 24, \"HD_label\": 10, \"label_UPGMA\": 12}, {\"tsne_x\": 54.73664474487305, \"tsne_y\": -9.428387641906738, \"label\": 24, \"HD_label\": 11, \"label_UPGMA\": 10}, {\"tsne_x\": 54.739845275878906, \"tsne_y\": -9.43618106842041, \"label\": 24, \"HD_label\": 11, \"label_UPGMA\": 10}, {\"tsne_x\": 54.745262145996094, \"tsne_y\": -9.47895622253418, \"label\": 24, \"HD_label\": 11, \"label_UPGMA\": 9}, {\"tsne_x\": 52.389469146728516, \"tsne_y\": 4.5197062492370605, \"label\": 24, \"HD_label\": 8, \"label_UPGMA\": 11}, {\"tsne_x\": 47.798187255859375, \"tsne_y\": 4.42117977142334, \"label\": 24, \"HD_label\": 8, \"label_UPGMA\": 12}, {\"tsne_x\": 47.80264663696289, \"tsne_y\": 4.420537948608398, \"label\": 24, \"HD_label\": 8, \"label_UPGMA\": 12}, {\"tsne_x\": 47.798194885253906, \"tsne_y\": 4.421177864074707, \"label\": 24, \"HD_label\": 8, \"label_UPGMA\": 11}, {\"tsne_x\": 50.1278076171875, \"tsne_y\": -1.1375652551651, \"label\": 24, \"HD_label\": 7, \"label_UPGMA\": 12}, {\"tsne_x\": 19.502046585083008, \"tsne_y\": -19.971616744995117, \"label\": 24, \"HD_label\": 8, \"label_UPGMA\": 10}, {\"tsne_x\": 19.605253219604492, \"tsne_y\": -20.135454177856445, \"label\": 24, \"HD_label\": 9, \"label_UPGMA\": 10}, {\"tsne_x\": 21.496652603149414, \"tsne_y\": -20.047588348388672, \"label\": 24, \"HD_label\": 7, \"label_UPGMA\": 11}, {\"tsne_x\": 21.537473678588867, \"tsne_y\": -20.04960823059082, \"label\": 24, \"HD_label\": 8, \"label_UPGMA\": 11}, {\"tsne_x\": -6.457657337188721, \"tsne_y\": 17.114368438720703, \"label\": 24, \"HD_label\": 4, \"label_UPGMA\": 14}, {\"tsne_x\": -5.384383678436279, \"tsne_y\": 17.88555908203125, \"label\": 24, \"HD_label\": 4, \"label_UPGMA\": 16}, {\"tsne_x\": -5.385025501251221, \"tsne_y\": 17.886459350585938, \"label\": 24, \"HD_label\": 4, \"label_UPGMA\": 16}, {\"tsne_x\": -6.527488708496094, \"tsne_y\": 15.79937744140625, \"label\": 24, \"HD_label\": 5, \"label_UPGMA\": 10}, {\"tsne_x\": -10.331844329833984, \"tsne_y\": 8.433813095092773, \"label\": 24, \"HD_label\": 4, \"label_UPGMA\": 13}, {\"tsne_x\": -10.876632690429688, \"tsne_y\": 5.195601940155029, \"label\": 24, \"HD_label\": 4, \"label_UPGMA\": 15}, {\"tsne_x\": -50.2248420715332, \"tsne_y\": -27.126996994018555, \"label\": 24, \"HD_label\": 11, \"label_UPGMA\": 23}, {\"tsne_x\": 31.17437744140625, \"tsne_y\": -21.108905792236328, \"label\": 24, \"HD_label\": 10, \"label_UPGMA\": 15}, {\"tsne_x\": -21.720670700073242, \"tsne_y\": 11.099515914916992, \"label\": 24, \"HD_label\": 7, \"label_UPGMA\": 18}, {\"tsne_x\": 14.224201202392578, \"tsne_y\": 43.65230178833008, \"label\": 24, \"HD_label\": 9, \"label_UPGMA\": 32}, {\"tsne_x\": 14.250269889831543, \"tsne_y\": 43.26668930053711, \"label\": 24, \"HD_label\": 8, \"label_UPGMA\": 33}, {\"tsne_x\": 14.919017791748047, \"tsne_y\": 40.482147216796875, \"label\": 24, \"HD_label\": 8, \"label_UPGMA\": 29}, {\"tsne_x\": 12.628806114196777, \"tsne_y\": 42.80839157104492, \"label\": 24, \"HD_label\": 8, \"label_UPGMA\": 24}, {\"tsne_x\": 14.11466121673584, \"tsne_y\": 45.29660415649414, \"label\": 24, \"HD_label\": 11, \"label_UPGMA\": 28}, {\"tsne_x\": 5.40611457824707, \"tsne_y\": 47.60795974731445, \"label\": 24, \"HD_label\": 8, \"label_UPGMA\": 33}, {\"tsne_x\": 3.5131232738494873, \"tsne_y\": 48.814361572265625, \"label\": 24, \"HD_label\": 12, \"label_UPGMA\": 31}, {\"tsne_x\": 4.192265033721924, \"tsne_y\": 47.81321716308594, \"label\": 24, \"HD_label\": 5, \"label_UPGMA\": 30}, {\"tsne_x\": 10.251941680908203, \"tsne_y\": 45.446292877197266, \"label\": 24, \"HD_label\": 8, \"label_UPGMA\": 26}, {\"tsne_x\": 14.675639152526855, \"tsne_y\": 41.03814697265625, \"label\": 24, \"HD_label\": 9, \"label_UPGMA\": 22}, {\"tsne_x\": 17.622703552246094, \"tsne_y\": 48.86337661743164, \"label\": 24, \"HD_label\": 9, \"label_UPGMA\": 18}, {\"tsne_x\": 18.147993087768555, \"tsne_y\": 48.73128890991211, \"label\": 24, \"HD_label\": 8, \"label_UPGMA\": 18}, {\"tsne_x\": 18.120073318481445, \"tsne_y\": 48.670936584472656, \"label\": 24, \"HD_label\": 8, \"label_UPGMA\": 17}, {\"tsne_x\": 19.035480499267578, \"tsne_y\": 48.75922775268555, \"label\": 24, \"HD_label\": 9, \"label_UPGMA\": 19}, {\"tsne_x\": 19.079647064208984, \"tsne_y\": 48.65068054199219, \"label\": 24, \"HD_label\": 9, \"label_UPGMA\": 19}, {\"tsne_x\": 17.42901611328125, \"tsne_y\": 48.915077209472656, \"label\": 24, \"HD_label\": 9, \"label_UPGMA\": 16}, {\"tsne_x\": 19.93667984008789, \"tsne_y\": 49.47737121582031, \"label\": 24, \"HD_label\": 9, \"label_UPGMA\": 19}, {\"tsne_x\": 20.388275146484375, \"tsne_y\": 49.82160186767578, \"label\": 24, \"HD_label\": 9, \"label_UPGMA\": 15}, {\"tsne_x\": 20.18646812438965, \"tsne_y\": 48.918636322021484, \"label\": 24, \"HD_label\": 9, \"label_UPGMA\": 18}, {\"tsne_x\": 20.504987716674805, \"tsne_y\": 49.02607727050781, \"label\": 24, \"HD_label\": 8, \"label_UPGMA\": 18}, {\"tsne_x\": 20.620136260986328, \"tsne_y\": 49.29969787597656, \"label\": 24, \"HD_label\": 9, \"label_UPGMA\": 16}, {\"tsne_x\": 19.82362174987793, \"tsne_y\": 49.09840393066406, \"label\": 24, \"HD_label\": 8, \"label_UPGMA\": 19}, {\"tsne_x\": 20.6350154876709, \"tsne_y\": 38.17770767211914, \"label\": 24, \"HD_label\": 8, \"label_UPGMA\": 23}, {\"tsne_x\": 20.585433959960938, \"tsne_y\": 38.1850471496582, \"label\": 24, \"HD_label\": 8, \"label_UPGMA\": 23}, {\"tsne_x\": 20.136716842651367, \"tsne_y\": 38.73392105102539, \"label\": 24, \"HD_label\": 10, \"label_UPGMA\": 19}, {\"tsne_x\": 20.06224250793457, \"tsne_y\": 37.979042053222656, \"label\": 24, \"HD_label\": 8, \"label_UPGMA\": 22}, {\"tsne_x\": 20.632686614990234, \"tsne_y\": 38.18616485595703, \"label\": 24, \"HD_label\": 9, \"label_UPGMA\": 21}, {\"tsne_x\": 16.356060028076172, \"tsne_y\": 43.75834274291992, \"label\": 24, \"HD_label\": 9, \"label_UPGMA\": 26}, {\"tsne_x\": 11.961797714233398, \"tsne_y\": 43.116127014160156, \"label\": 24, \"HD_label\": 8, \"label_UPGMA\": 23}, {\"tsne_x\": 12.230018615722656, \"tsne_y\": 42.224098205566406, \"label\": 24, \"HD_label\": 9, \"label_UPGMA\": 22}, {\"tsne_x\": 10.777978897094727, \"tsne_y\": 48.23387908935547, \"label\": 24, \"HD_label\": 9, \"label_UPGMA\": 22}, {\"tsne_x\": 10.785323143005371, \"tsne_y\": 48.19386291503906, \"label\": 24, \"HD_label\": 8, \"label_UPGMA\": 22}, {\"tsne_x\": 12.695514678955078, \"tsne_y\": 44.239715576171875, \"label\": 24, \"HD_label\": 9, \"label_UPGMA\": 20}, {\"tsne_x\": 14.634635925292969, \"tsne_y\": 42.46002960205078, \"label\": 24, \"HD_label\": 9, \"label_UPGMA\": 24}, {\"tsne_x\": 20.50663948059082, \"tsne_y\": 37.05414962768555, \"label\": 24, \"HD_label\": 9, \"label_UPGMA\": 18}, {\"tsne_x\": 21.065942764282227, \"tsne_y\": 39.1627082824707, \"label\": 24, \"HD_label\": 9, \"label_UPGMA\": 17}, {\"tsne_x\": 16.23479652404785, \"tsne_y\": 39.64482116699219, \"label\": 24, \"HD_label\": 8, \"label_UPGMA\": 19}, {\"tsne_x\": 15.8936767578125, \"tsne_y\": 39.2977294921875, \"label\": 24, \"HD_label\": 9, \"label_UPGMA\": 19}, {\"tsne_x\": 14.88698959350586, \"tsne_y\": 39.60553741455078, \"label\": 24, \"HD_label\": 8, \"label_UPGMA\": 22}, {\"tsne_x\": 15.406669616699219, \"tsne_y\": 41.10539627075195, \"label\": 24, \"HD_label\": 9, \"label_UPGMA\": 21}, {\"tsne_x\": 14.296058654785156, \"tsne_y\": 40.474815368652344, \"label\": 24, \"HD_label\": 9, \"label_UPGMA\": 20}, {\"tsne_x\": 15.273054122924805, \"tsne_y\": 36.10203170776367, \"label\": 24, \"HD_label\": 9, \"label_UPGMA\": 17}, {\"tsne_x\": 15.156477928161621, \"tsne_y\": 36.2610969543457, \"label\": 24, \"HD_label\": 9, \"label_UPGMA\": 17}, {\"tsne_x\": 14.749226570129395, \"tsne_y\": 36.64262008666992, \"label\": 24, \"HD_label\": 8, \"label_UPGMA\": 18}, {\"tsne_x\": 14.654570579528809, \"tsne_y\": 36.856563568115234, \"label\": 24, \"HD_label\": 9, \"label_UPGMA\": 18}, {\"tsne_x\": 14.552753448486328, \"tsne_y\": 36.615142822265625, \"label\": 24, \"HD_label\": 8, \"label_UPGMA\": 17}, {\"tsne_x\": 15.031490325927734, \"tsne_y\": 46.16251754760742, \"label\": 24, \"HD_label\": 12, \"label_UPGMA\": 16}, {\"tsne_x\": 16.971025466918945, \"tsne_y\": 51.550048828125, \"label\": 24, \"HD_label\": 7, \"label_UPGMA\": 18}, {\"tsne_x\": 16.982337951660156, \"tsne_y\": 51.522830963134766, \"label\": 24, \"HD_label\": 8, \"label_UPGMA\": 18}, {\"tsne_x\": 16.979188919067383, \"tsne_y\": 51.54130554199219, \"label\": 24, \"HD_label\": 9, \"label_UPGMA\": 17}, {\"tsne_x\": 16.971139907836914, \"tsne_y\": 51.54375076293945, \"label\": 24, \"HD_label\": 8, \"label_UPGMA\": 16}, {\"tsne_x\": 15.268528938293457, \"tsne_y\": 42.94562530517578, \"label\": 24, \"HD_label\": 9, \"label_UPGMA\": 23}, {\"tsne_x\": 16.456518173217773, \"tsne_y\": 41.01329040527344, \"label\": 24, \"HD_label\": 9, \"label_UPGMA\": 17}, {\"tsne_x\": 2.2233123779296875, \"tsne_y\": 52.030818939208984, \"label\": 24, \"HD_label\": 13, \"label_UPGMA\": 16}, {\"tsne_x\": 3.388890266418457, \"tsne_y\": 48.37539291381836, \"label\": 24, \"HD_label\": 12, \"label_UPGMA\": 29}, {\"tsne_x\": 4.065309047698975, \"tsne_y\": 48.454551696777344, \"label\": 24, \"HD_label\": 13, \"label_UPGMA\": 28}, {\"tsne_x\": 13.223821640014648, \"tsne_y\": 44.03845977783203, \"label\": 24, \"HD_label\": 8, \"label_UPGMA\": 20}, {\"tsne_x\": 9.406684875488281, \"tsne_y\": 46.39402389526367, \"label\": 24, \"HD_label\": 9, \"label_UPGMA\": 21}, {\"tsne_x\": 21.43561553955078, \"tsne_y\": 37.37675476074219, \"label\": 24, \"HD_label\": 9, \"label_UPGMA\": 16}, {\"tsne_x\": 13.577473640441895, \"tsne_y\": 42.184757232666016, \"label\": 24, \"HD_label\": 8, \"label_UPGMA\": 17}, {\"tsne_x\": 18.30685806274414, \"tsne_y\": 37.18635177612305, \"label\": 24, \"HD_label\": 8, \"label_UPGMA\": 16}, {\"tsne_x\": 18.974889755249023, \"tsne_y\": 37.46408462524414, \"label\": 24, \"HD_label\": 8, \"label_UPGMA\": 16}, {\"tsne_x\": 16.201560974121094, \"tsne_y\": 44.829551696777344, \"label\": 24, \"HD_label\": 11, \"label_UPGMA\": 12}, {\"tsne_x\": 19.470048904418945, \"tsne_y\": 41.07527542114258, \"label\": 24, \"HD_label\": 8, \"label_UPGMA\": 11}, {\"tsne_x\": 19.31852912902832, \"tsne_y\": 41.25395584106445, \"label\": 24, \"HD_label\": 8, \"label_UPGMA\": 11}, {\"tsne_x\": 19.09463882446289, \"tsne_y\": 41.45329284667969, \"label\": 24, \"HD_label\": 8, \"label_UPGMA\": 10}, {\"tsne_x\": 13.125981330871582, \"tsne_y\": 39.14421081542969, \"label\": 24, \"HD_label\": 11, \"label_UPGMA\": 15}, {\"tsne_x\": 17.708669662475586, \"tsne_y\": 44.37906265258789, \"label\": 24, \"HD_label\": 11, \"label_UPGMA\": 13}, {\"tsne_x\": 11.273587226867676, \"tsne_y\": 42.40623474121094, \"label\": 24, \"HD_label\": 8, \"label_UPGMA\": 16}, {\"tsne_x\": 25.869903564453125, \"tsne_y\": 44.020206451416016, \"label\": 24, \"HD_label\": 9, \"label_UPGMA\": 10}, {\"tsne_x\": 26.611677169799805, \"tsne_y\": 44.374717712402344, \"label\": 24, \"HD_label\": 10, \"label_UPGMA\": 15}, {\"tsne_x\": 26.892974853515625, \"tsne_y\": 44.51278305053711, \"label\": 24, \"HD_label\": 10, \"label_UPGMA\": 15}, {\"tsne_x\": 27.01435089111328, \"tsne_y\": 44.57374572753906, \"label\": 24, \"HD_label\": 10, \"label_UPGMA\": 14}, {\"tsne_x\": 27.01448631286621, \"tsne_y\": 44.57392883300781, \"label\": 24, \"HD_label\": 10, \"label_UPGMA\": 13}, {\"tsne_x\": 27.01434898376465, \"tsne_y\": 44.573753356933594, \"label\": 24, \"HD_label\": 10, \"label_UPGMA\": 12}, {\"tsne_x\": -21.684255599975586, \"tsne_y\": 42.1329345703125, \"label\": 24, \"HD_label\": 12, \"label_UPGMA\": 23}, {\"tsne_x\": -20.528112411499023, \"tsne_y\": 40.25123596191406, \"label\": 24, \"HD_label\": 12, \"label_UPGMA\": 42}, {\"tsne_x\": -21.342369079589844, \"tsne_y\": 40.00807571411133, \"label\": 24, \"HD_label\": 13, \"label_UPGMA\": 24}, {\"tsne_x\": -20.1856689453125, \"tsne_y\": 42.05415344238281, \"label\": 24, \"HD_label\": 13, \"label_UPGMA\": 33}, {\"tsne_x\": -20.37200927734375, \"tsne_y\": 42.4481315612793, \"label\": 24, \"HD_label\": 13, \"label_UPGMA\": 33}, {\"tsne_x\": -19.40113067626953, \"tsne_y\": 41.22871780395508, \"label\": 24, \"HD_label\": 12, \"label_UPGMA\": 41}, {\"tsne_x\": -19.16792106628418, \"tsne_y\": 42.69207000732422, \"label\": 24, \"HD_label\": 13, \"label_UPGMA\": 32}, {\"tsne_x\": -19.190507888793945, \"tsne_y\": 42.26637268066406, \"label\": 24, \"HD_label\": 12, \"label_UPGMA\": 32}, {\"tsne_x\": -19.628936767578125, \"tsne_y\": 39.03301239013672, \"label\": 24, \"HD_label\": 12, \"label_UPGMA\": 30}, {\"tsne_x\": -17.86661720275879, \"tsne_y\": 40.4065055847168, \"label\": 24, \"HD_label\": 12, \"label_UPGMA\": 29}, {\"tsne_x\": -20.68557357788086, \"tsne_y\": 38.96227264404297, \"label\": 24, \"HD_label\": 12, \"label_UPGMA\": 28}, {\"tsne_x\": -19.72664451599121, \"tsne_y\": 40.17493438720703, \"label\": 24, \"HD_label\": 13, \"label_UPGMA\": 40}, {\"tsne_x\": -21.79352569580078, \"tsne_y\": 45.0269660949707, \"label\": 24, \"HD_label\": 12, \"label_UPGMA\": 23}, {\"tsne_x\": -21.814363479614258, \"tsne_y\": 45.06496047973633, \"label\": 24, \"HD_label\": 13, \"label_UPGMA\": 23}, {\"tsne_x\": -21.810564041137695, \"tsne_y\": 45.06154251098633, \"label\": 24, \"HD_label\": 13, \"label_UPGMA\": 22}, {\"tsne_x\": -17.726280212402344, \"tsne_y\": 38.74291229248047, \"label\": 24, \"HD_label\": 12, \"label_UPGMA\": 18}, {\"tsne_x\": -21.423086166381836, \"tsne_y\": 36.48511505126953, \"label\": 24, \"HD_label\": 12, \"label_UPGMA\": 20}, {\"tsne_x\": -24.392793655395508, \"tsne_y\": 38.512725830078125, \"label\": 24, \"HD_label\": 13, \"label_UPGMA\": 21}, {\"tsne_x\": -28.494815826416016, \"tsne_y\": 33.120582580566406, \"label\": 24, \"HD_label\": 13, \"label_UPGMA\": 53}, {\"tsne_x\": -30.008834838867188, \"tsne_y\": 34.87416458129883, \"label\": 24, \"HD_label\": 12, \"label_UPGMA\": 52}, {\"tsne_x\": -30.23224449157715, \"tsne_y\": 32.389713287353516, \"label\": 24, \"HD_label\": 13, \"label_UPGMA\": 51}, {\"tsne_x\": -29.225500106811523, \"tsne_y\": 34.321598052978516, \"label\": 24, \"HD_label\": 12, \"label_UPGMA\": 50}, {\"tsne_x\": -30.2044620513916, \"tsne_y\": 33.8824462890625, \"label\": 24, \"HD_label\": 12, \"label_UPGMA\": 49}, {\"tsne_x\": -28.968706130981445, \"tsne_y\": 33.94441223144531, \"label\": 24, \"HD_label\": 13, \"label_UPGMA\": 48}, {\"tsne_x\": -29.494251251220703, \"tsne_y\": 35.661216735839844, \"label\": 24, \"HD_label\": 12, \"label_UPGMA\": 47}, {\"tsne_x\": -30.43937110900879, \"tsne_y\": 33.383567810058594, \"label\": 24, \"HD_label\": 13, \"label_UPGMA\": 46}, {\"tsne_x\": -29.44603729248047, \"tsne_y\": 33.51747131347656, \"label\": 24, \"HD_label\": 13, \"label_UPGMA\": 45}, {\"tsne_x\": -33.987770080566406, \"tsne_y\": 34.827823638916016, \"label\": 24, \"HD_label\": 13, \"label_UPGMA\": 27}, {\"tsne_x\": -34.73073959350586, \"tsne_y\": 34.535911560058594, \"label\": 24, \"HD_label\": 13, \"label_UPGMA\": 27}, {\"tsne_x\": -28.975536346435547, \"tsne_y\": 29.9858341217041, \"label\": 24, \"HD_label\": 13, \"label_UPGMA\": 27}, {\"tsne_x\": -28.79277801513672, \"tsne_y\": 29.991310119628906, \"label\": 24, \"HD_label\": 12, \"label_UPGMA\": 27}, {\"tsne_x\": -28.992759704589844, \"tsne_y\": 29.9237060546875, \"label\": 24, \"HD_label\": 13, \"label_UPGMA\": 26}, {\"tsne_x\": -33.967254638671875, \"tsne_y\": 34.79444122314453, \"label\": 24, \"HD_label\": 13, \"label_UPGMA\": 26}, {\"tsne_x\": -34.95291519165039, \"tsne_y\": 34.44136047363281, \"label\": 24, \"HD_label\": 13, \"label_UPGMA\": 25}, {\"tsne_x\": -31.57404899597168, \"tsne_y\": 35.76374053955078, \"label\": 24, \"HD_label\": 12, \"label_UPGMA\": 34}, {\"tsne_x\": -30.907207489013672, \"tsne_y\": 33.66801452636719, \"label\": 24, \"HD_label\": 12, \"label_UPGMA\": 44}, {\"tsne_x\": -31.643417358398438, \"tsne_y\": 32.08666229248047, \"label\": 24, \"HD_label\": 13, \"label_UPGMA\": 36}, {\"tsne_x\": -31.47084617614746, \"tsne_y\": 32.33388137817383, \"label\": 24, \"HD_label\": 12, \"label_UPGMA\": 36}, {\"tsne_x\": -34.475894927978516, \"tsne_y\": 29.159950256347656, \"label\": 24, \"HD_label\": 13, \"label_UPGMA\": 19}, {\"tsne_x\": -35.209564208984375, \"tsne_y\": 29.06595802307129, \"label\": 24, \"HD_label\": 13, \"label_UPGMA\": 19}, {\"tsne_x\": -35.457923889160156, \"tsne_y\": 29.050411224365234, \"label\": 24, \"HD_label\": 13, \"label_UPGMA\": 19}, {\"tsne_x\": -33.33306121826172, \"tsne_y\": 29.080387115478516, \"label\": 24, \"HD_label\": 12, \"label_UPGMA\": 19}, {\"tsne_x\": -33.145851135253906, \"tsne_y\": 29.036367416381836, \"label\": 24, \"HD_label\": 13, \"label_UPGMA\": 19}, {\"tsne_x\": -34.66866683959961, \"tsne_y\": 30.551788330078125, \"label\": 24, \"HD_label\": 13, \"label_UPGMA\": 19}, {\"tsne_x\": -35.01667785644531, \"tsne_y\": 28.886978149414062, \"label\": 24, \"HD_label\": 13, \"label_UPGMA\": 19}, {\"tsne_x\": -34.30631637573242, \"tsne_y\": 35.545387268066406, \"label\": 24, \"HD_label\": 13, \"label_UPGMA\": 13}, {\"tsne_x\": -28.50206756591797, \"tsne_y\": 29.158143997192383, \"label\": 24, \"HD_label\": 13, \"label_UPGMA\": 24}, {\"tsne_x\": -32.4594841003418, \"tsne_y\": 36.53750228881836, \"label\": 24, \"HD_label\": 13, \"label_UPGMA\": 20}, {\"tsne_x\": -26.804019927978516, \"tsne_y\": 35.070701599121094, \"label\": 24, \"HD_label\": 13, \"label_UPGMA\": 18}, {\"tsne_x\": -27.93831443786621, \"tsne_y\": 36.06828308105469, \"label\": 24, \"HD_label\": 13, \"label_UPGMA\": 17}, {\"tsne_x\": -28.358680725097656, \"tsne_y\": 37.383567810058594, \"label\": 24, \"HD_label\": 13, \"label_UPGMA\": 16}, {\"tsne_x\": -25.585346221923828, \"tsne_y\": 33.1729850769043, \"label\": 24, \"HD_label\": 13, \"label_UPGMA\": 34}, {\"tsne_x\": -30.54298210144043, \"tsne_y\": 36.439605712890625, \"label\": 24, \"HD_label\": 13, \"label_UPGMA\": 32}, {\"tsne_x\": -25.097461700439453, \"tsne_y\": 36.773311614990234, \"label\": 24, \"HD_label\": 13, \"label_UPGMA\": 20}, {\"tsne_x\": -33.75232696533203, \"tsne_y\": 29.985506057739258, \"label\": 24, \"HD_label\": 12, \"label_UPGMA\": 16}, {\"tsne_x\": -22.645240783691406, \"tsne_y\": 40.32917785644531, \"label\": 24, \"HD_label\": 13, \"label_UPGMA\": 20}, {\"tsne_x\": -29.278249740600586, \"tsne_y\": 36.42949295043945, \"label\": 24, \"HD_label\": 13, \"label_UPGMA\": 19}, {\"tsne_x\": -14.852306365966797, \"tsne_y\": 42.12343978881836, \"label\": 24, \"HD_label\": 11, \"label_UPGMA\": 20}, {\"tsne_x\": -16.706188201904297, \"tsne_y\": 40.26081085205078, \"label\": 24, \"HD_label\": 12, \"label_UPGMA\": 15}, {\"tsne_x\": -17.21697998046875, \"tsne_y\": 46.470767974853516, \"label\": 24, \"HD_label\": 13, \"label_UPGMA\": 20}, {\"tsne_x\": -17.136770248413086, \"tsne_y\": 46.39524841308594, \"label\": 24, \"HD_label\": 12, \"label_UPGMA\": 21}, {\"tsne_x\": -17.97280502319336, \"tsne_y\": 46.42425537109375, \"label\": 24, \"HD_label\": 13, \"label_UPGMA\": 9}, {\"tsne_x\": -32.84001159667969, \"tsne_y\": 32.812679290771484, \"label\": 24, \"HD_label\": 12, \"label_UPGMA\": 31}, {\"tsne_x\": -13.159148216247559, \"tsne_y\": 43.67489242553711, \"label\": 24, \"HD_label\": 12, \"label_UPGMA\": 16}, {\"tsne_x\": -16.797636032104492, \"tsne_y\": 43.62531280517578, \"label\": 24, \"HD_label\": 12, \"label_UPGMA\": 17}, {\"tsne_x\": -19.157672882080078, \"tsne_y\": 53.22724151611328, \"label\": 24, \"HD_label\": 12, \"label_UPGMA\": 16}, {\"tsne_x\": -19.1014347076416, \"tsne_y\": 53.30291748046875, \"label\": 24, \"HD_label\": 11, \"label_UPGMA\": 16}, {\"tsne_x\": -19.154584884643555, \"tsne_y\": 53.229408264160156, \"label\": 24, \"HD_label\": 12, \"label_UPGMA\": 15}, {\"tsne_x\": -19.174365997314453, \"tsne_y\": 52.75925064086914, \"label\": 24, \"HD_label\": 12, \"label_UPGMA\": 14}, {\"tsne_x\": -19.598909378051758, \"tsne_y\": 53.12417984008789, \"label\": 24, \"HD_label\": 13, \"label_UPGMA\": 13}, {\"tsne_x\": -17.638975143432617, \"tsne_y\": 54.11238479614258, \"label\": 24, \"HD_label\": 13, \"label_UPGMA\": 14}, {\"tsne_x\": -17.3819522857666, \"tsne_y\": 54.42707443237305, \"label\": 24, \"HD_label\": 13, \"label_UPGMA\": 14}, {\"tsne_x\": -17.382736206054688, \"tsne_y\": 54.426536560058594, \"label\": 24, \"HD_label\": 13, \"label_UPGMA\": 13}, {\"tsne_x\": -17.681026458740234, \"tsne_y\": 53.53669738769531, \"label\": 24, \"HD_label\": 12, \"label_UPGMA\": 13}, {\"tsne_x\": -21.117897033691406, \"tsne_y\": 38.4251708984375, \"label\": 24, \"HD_label\": 13, \"label_UPGMA\": 16}, {\"tsne_x\": -16.248319625854492, \"tsne_y\": 45.90476608276367, \"label\": 24, \"HD_label\": 13, \"label_UPGMA\": 19}, {\"tsne_x\": -16.649202346801758, \"tsne_y\": 38.65736770629883, \"label\": 24, \"HD_label\": 12, \"label_UPGMA\": 18}, {\"tsne_x\": -34.02299880981445, \"tsne_y\": 28.005144119262695, \"label\": 24, \"HD_label\": 13, \"label_UPGMA\": 15}, {\"tsne_x\": -27.942983627319336, \"tsne_y\": 32.68433380126953, \"label\": 24, \"HD_label\": 13, \"label_UPGMA\": 12}, {\"tsne_x\": -13.363228797912598, \"tsne_y\": 38.7137336730957, \"label\": 24, \"HD_label\": 12, \"label_UPGMA\": 15}, {\"tsne_x\": -13.359850883483887, \"tsne_y\": 38.71212387084961, \"label\": 24, \"HD_label\": 12, \"label_UPGMA\": 15}, {\"tsne_x\": -19.757080078125, \"tsne_y\": 37.317169189453125, \"label\": 24, \"HD_label\": 12, \"label_UPGMA\": 12}, {\"tsne_x\": -24.76161003112793, \"tsne_y\": 43.19393539428711, \"label\": 24, \"HD_label\": 13, \"label_UPGMA\": 8}, {\"tsne_x\": -24.76202964782715, \"tsne_y\": 43.19255065917969, \"label\": 24, \"HD_label\": 13, \"label_UPGMA\": 8}, {\"tsne_x\": 13.587523460388184, \"tsne_y\": 46.90970230102539, \"label\": 24, \"HD_label\": 12, \"label_UPGMA\": 12}, {\"tsne_x\": -12.599098205566406, \"tsne_y\": 46.92711639404297, \"label\": 24, \"HD_label\": 13, \"label_UPGMA\": 7}, {\"tsne_x\": -14.602579116821289, \"tsne_y\": 44.00703430175781, \"label\": 24, \"HD_label\": 11, \"label_UPGMA\": 24}, {\"tsne_x\": -14.419805526733398, \"tsne_y\": 43.97956466674805, \"label\": 24, \"HD_label\": 11, \"label_UPGMA\": 24}, {\"tsne_x\": -14.419659614562988, \"tsne_y\": 43.98064041137695, \"label\": 24, \"HD_label\": 11, \"label_UPGMA\": 23}, {\"tsne_x\": -16.347713470458984, \"tsne_y\": 44.02132797241211, \"label\": 24, \"HD_label\": 11, \"label_UPGMA\": 24}, {\"tsne_x\": -15.989472389221191, \"tsne_y\": 44.35213088989258, \"label\": 24, \"HD_label\": 11, \"label_UPGMA\": 24}, {\"tsne_x\": -15.990931510925293, \"tsne_y\": 44.3556022644043, \"label\": 24, \"HD_label\": 11, \"label_UPGMA\": 23}, {\"tsne_x\": -16.65974998474121, \"tsne_y\": 45.751441955566406, \"label\": 24, \"HD_label\": 11, \"label_UPGMA\": 21}, {\"tsne_x\": -18.276399612426758, \"tsne_y\": 41.904998779296875, \"label\": 24, \"HD_label\": 12, \"label_UPGMA\": 27}, {\"tsne_x\": -19.82864761352539, \"tsne_y\": 41.062599182128906, \"label\": 24, \"HD_label\": 11, \"label_UPGMA\": 39}, {\"tsne_x\": -19.36301040649414, \"tsne_y\": 40.5938720703125, \"label\": 24, \"HD_label\": 12, \"label_UPGMA\": 43}, {\"tsne_x\": -19.365421295166016, \"tsne_y\": 40.59675598144531, \"label\": 24, \"HD_label\": 11, \"label_UPGMA\": 43}, {\"tsne_x\": -19.916826248168945, \"tsne_y\": 40.64310073852539, \"label\": 24, \"HD_label\": 11, \"label_UPGMA\": 38}, {\"tsne_x\": -19.188344955444336, \"tsne_y\": 39.59916687011719, \"label\": 24, \"HD_label\": 12, \"label_UPGMA\": 37}, {\"tsne_x\": -24.44727325439453, \"tsne_y\": 37.84214782714844, \"label\": 24, \"HD_label\": 13, \"label_UPGMA\": 37}, {\"tsne_x\": -24.447101593017578, \"tsne_y\": 37.84252166748047, \"label\": 24, \"HD_label\": 11, \"label_UPGMA\": 37}, {\"tsne_x\": -30.996625900268555, \"tsne_y\": 34.248714447021484, \"label\": 24, \"HD_label\": 13, \"label_UPGMA\": 43}, {\"tsne_x\": -29.921979904174805, \"tsne_y\": 34.315364837646484, \"label\": 24, \"HD_label\": 13, \"label_UPGMA\": 53}, {\"tsne_x\": -29.775440216064453, \"tsne_y\": 34.14027786254883, \"label\": 24, \"HD_label\": 13, \"label_UPGMA\": 42}, {\"tsne_x\": -30.369487762451172, \"tsne_y\": 35.25617218017578, \"label\": 24, \"HD_label\": 12, \"label_UPGMA\": 41}, {\"tsne_x\": -30.88397979736328, \"tsne_y\": 34.844058990478516, \"label\": 24, \"HD_label\": 13, \"label_UPGMA\": 40}, {\"tsne_x\": -29.531108856201172, \"tsne_y\": 34.88160705566406, \"label\": 24, \"HD_label\": 13, \"label_UPGMA\": 39}, {\"tsne_x\": -28.89302635192871, \"tsne_y\": 34.87865447998047, \"label\": 24, \"HD_label\": 13, \"label_UPGMA\": 38}, {\"tsne_x\": -30.39371681213379, \"tsne_y\": 34.45012283325195, \"label\": 24, \"HD_label\": 13, \"label_UPGMA\": 37}, {\"tsne_x\": -19.076915740966797, \"tsne_y\": 40.27298355102539, \"label\": 24, \"HD_label\": 11, \"label_UPGMA\": 35}, {\"tsne_x\": -18.80117416381836, \"tsne_y\": 40.68208694458008, \"label\": 24, \"HD_label\": 12, \"label_UPGMA\": 34}, {\"tsne_x\": -18.249526977539062, \"tsne_y\": 39.64990997314453, \"label\": 24, \"HD_label\": 12, \"label_UPGMA\": 26}, {\"tsne_x\": -17.70915985107422, \"tsne_y\": 41.29064178466797, \"label\": 24, \"HD_label\": 11, \"label_UPGMA\": 25}, {\"tsne_x\": -21.9381046295166, \"tsne_y\": 40.32773971557617, \"label\": 24, \"HD_label\": 11, \"label_UPGMA\": 24}, {\"tsne_x\": -29.075923919677734, \"tsne_y\": 31.99291229248047, \"label\": 24, \"HD_label\": 12, \"label_UPGMA\": 30}, {\"tsne_x\": -27.49135971069336, \"tsne_y\": 33.837100982666016, \"label\": 24, \"HD_label\": 13, \"label_UPGMA\": 29}, {\"tsne_x\": -27.201807022094727, \"tsne_y\": 31.735111236572266, \"label\": 24, \"HD_label\": 13, \"label_UPGMA\": 28}, {\"tsne_x\": -29.20531463623047, \"tsne_y\": 29.830856323242188, \"label\": 24, \"HD_label\": 13, \"label_UPGMA\": 25}, {\"tsne_x\": -32.178279876708984, \"tsne_y\": 34.74545669555664, \"label\": 24, \"HD_label\": 13, \"label_UPGMA\": 27}, {\"tsne_x\": -34.5845947265625, \"tsne_y\": 30.36600112915039, \"label\": 24, \"HD_label\": 12, \"label_UPGMA\": 19}, {\"tsne_x\": -32.080345153808594, \"tsne_y\": 33.634376525878906, \"label\": 24, \"HD_label\": 13, \"label_UPGMA\": 26}, {\"tsne_x\": -25.523174285888672, \"tsne_y\": 33.21935272216797, \"label\": 24, \"HD_label\": 13, \"label_UPGMA\": 34}, {\"tsne_x\": -29.752721786499023, \"tsne_y\": 33.26447296142578, \"label\": 24, \"HD_label\": 13, \"label_UPGMA\": 36}, {\"tsne_x\": -23.800975799560547, \"tsne_y\": 37.45241928100586, \"label\": 24, \"HD_label\": 12, \"label_UPGMA\": 19}, {\"tsne_x\": -25.21890640258789, \"tsne_y\": 38.09820556640625, \"label\": 24, \"HD_label\": 12, \"label_UPGMA\": 21}, {\"tsne_x\": -33.60926818847656, \"tsne_y\": 38.93526077270508, \"label\": 24, \"HD_label\": 13, \"label_UPGMA\": 23}, {\"tsne_x\": -33.60890579223633, \"tsne_y\": 38.933937072753906, \"label\": 24, \"HD_label\": 13, \"label_UPGMA\": 23}, {\"tsne_x\": -31.25691795349121, \"tsne_y\": 37.52644729614258, \"label\": 24, \"HD_label\": 13, \"label_UPGMA\": 22}, {\"tsne_x\": -27.956995010375977, \"tsne_y\": 34.84589767456055, \"label\": 24, \"HD_label\": 13, \"label_UPGMA\": 25}, {\"tsne_x\": -18.11203956604004, \"tsne_y\": 37.25657272338867, \"label\": 24, \"HD_label\": 13, \"label_UPGMA\": 20}, {\"tsne_x\": -18.966938018798828, \"tsne_y\": 41.0907096862793, \"label\": 24, \"HD_label\": 12, \"label_UPGMA\": 33}, {\"tsne_x\": -10.763968467712402, \"tsne_y\": 41.3264045715332, \"label\": 24, \"HD_label\": 12, \"label_UPGMA\": 17}, {\"tsne_x\": -10.77346420288086, \"tsne_y\": 41.32696533203125, \"label\": 24, \"HD_label\": 10, \"label_UPGMA\": 17}, {\"tsne_x\": -10.761880874633789, \"tsne_y\": 41.323097229003906, \"label\": 24, \"HD_label\": 12, \"label_UPGMA\": 16}, {\"tsne_x\": -19.04356575012207, \"tsne_y\": 38.55531311035156, \"label\": 24, \"HD_label\": 13, \"label_UPGMA\": 15}, {\"tsne_x\": -29.81267738342285, \"tsne_y\": 37.96455001831055, \"label\": 24, \"HD_label\": 13, \"label_UPGMA\": 15}, {\"tsne_x\": -13.28168773651123, \"tsne_y\": 46.89616394042969, \"label\": 24, \"HD_label\": 11, \"label_UPGMA\": 9}, {\"tsne_x\": -13.448465347290039, \"tsne_y\": 47.2761116027832, \"label\": 24, \"HD_label\": 12, \"label_UPGMA\": 9}, {\"tsne_x\": -13.394847869873047, \"tsne_y\": 46.67859649658203, \"label\": 24, \"HD_label\": 12, \"label_UPGMA\": 8}, {\"tsne_x\": -22.17283821105957, \"tsne_y\": 42.36510467529297, \"label\": 24, \"HD_label\": 11, \"label_UPGMA\": 23}, {\"tsne_x\": -30.34644317626953, \"tsne_y\": 31.723812103271484, \"label\": 24, \"HD_label\": 13, \"label_UPGMA\": 22}, {\"tsne_x\": -17.664033889770508, \"tsne_y\": 44.41311264038086, \"label\": 24, \"HD_label\": 12, \"label_UPGMA\": 16}, {\"tsne_x\": -15.911389350891113, \"tsne_y\": 42.89524459838867, \"label\": 24, \"HD_label\": 10, \"label_UPGMA\": 19}, {\"tsne_x\": -17.47783851623535, \"tsne_y\": 53.295265197753906, \"label\": 24, \"HD_label\": 13, \"label_UPGMA\": 13}, {\"tsne_x\": -18.73270606994629, \"tsne_y\": 53.71160125732422, \"label\": 24, \"HD_label\": 12, \"label_UPGMA\": 12}, {\"tsne_x\": -19.245086669921875, \"tsne_y\": 54.38587951660156, \"label\": 24, \"HD_label\": 13, \"label_UPGMA\": 10}, {\"tsne_x\": -13.059890747070312, \"tsne_y\": 43.65391159057617, \"label\": 24, \"HD_label\": 12, \"label_UPGMA\": 16}, {\"tsne_x\": -16.773958206176758, \"tsne_y\": 47.21189498901367, \"label\": 24, \"HD_label\": 13, \"label_UPGMA\": 9}, {\"tsne_x\": 14.673851013183594, \"tsne_y\": 45.398719787597656, \"label\": 24, \"HD_label\": 12, \"label_UPGMA\": 16}, {\"tsne_x\": 12.502223014831543, \"tsne_y\": 42.77694320678711, \"label\": 24, \"HD_label\": 8, \"label_UPGMA\": 24}, {\"tsne_x\": 14.139890670776367, \"tsne_y\": 43.00165939331055, \"label\": 24, \"HD_label\": 8, \"label_UPGMA\": 31}, {\"tsne_x\": 14.64841079711914, \"tsne_y\": 43.35996627807617, \"label\": 24, \"HD_label\": 8, \"label_UPGMA\": 30}, {\"tsne_x\": 13.942541122436523, \"tsne_y\": 43.357547760009766, \"label\": 24, \"HD_label\": 7, \"label_UPGMA\": 29}, {\"tsne_x\": 16.238279342651367, \"tsne_y\": 44.026302337646484, \"label\": 24, \"HD_label\": 8, \"label_UPGMA\": 26}, {\"tsne_x\": 14.84990406036377, \"tsne_y\": 44.07344055175781, \"label\": 24, \"HD_label\": 11, \"label_UPGMA\": 22}, {\"tsne_x\": 20.640369415283203, \"tsne_y\": 38.17337417602539, \"label\": 24, \"HD_label\": 8, \"label_UPGMA\": 20}, {\"tsne_x\": 10.935160636901855, \"tsne_y\": 45.92809295654297, \"label\": 24, \"HD_label\": 9, \"label_UPGMA\": 20}, {\"tsne_x\": 15.49416446685791, \"tsne_y\": 40.44614028930664, \"label\": 24, \"HD_label\": 8, \"label_UPGMA\": 19}, {\"tsne_x\": 17.578861236572266, \"tsne_y\": 44.3271484375, \"label\": 24, \"HD_label\": 11, \"label_UPGMA\": 13}, {\"tsne_x\": 2.125469446182251, \"tsne_y\": 47.02442169189453, \"label\": 24, \"HD_label\": 13, \"label_UPGMA\": 14}, {\"tsne_x\": 5.18416166305542, \"tsne_y\": 49.040714263916016, \"label\": 24, \"HD_label\": 10, \"label_UPGMA\": 21}, {\"tsne_x\": 2.243767261505127, \"tsne_y\": 52.031280517578125, \"label\": 24, \"HD_label\": 11, \"label_UPGMA\": 15}, {\"tsne_x\": 2.223240852355957, \"tsne_y\": 52.03105163574219, \"label\": 24, \"HD_label\": 11, \"label_UPGMA\": 16}, {\"tsne_x\": 1.6452136039733887, \"tsne_y\": 52.50545120239258, \"label\": 24, \"HD_label\": 11, \"label_UPGMA\": 15}, {\"tsne_x\": 1.3756664991378784, \"tsne_y\": 52.71492004394531, \"label\": 24, \"HD_label\": 11, \"label_UPGMA\": 15}, {\"tsne_x\": 1.3852250576019287, \"tsne_y\": 51.75658416748047, \"label\": 24, \"HD_label\": 11, \"label_UPGMA\": 13}, {\"tsne_x\": 3.8515818119049072, \"tsne_y\": 47.66965866088867, \"label\": 24, \"HD_label\": 11, \"label_UPGMA\": 27}, {\"tsne_x\": 3.260427713394165, \"tsne_y\": 48.11543655395508, \"label\": 24, \"HD_label\": 10, \"label_UPGMA\": 26}, {\"tsne_x\": 4.069840431213379, \"tsne_y\": 48.46381759643555, \"label\": 24, \"HD_label\": 11, \"label_UPGMA\": 25}, {\"tsne_x\": 3.539456605911255, \"tsne_y\": 47.69556427001953, \"label\": 24, \"HD_label\": 11, \"label_UPGMA\": 24}, {\"tsne_x\": 2.830117702484131, \"tsne_y\": 47.49523162841797, \"label\": 24, \"HD_label\": 11, \"label_UPGMA\": 23}, {\"tsne_x\": 2.811069965362549, \"tsne_y\": 50.657711029052734, \"label\": 24, \"HD_label\": 12, \"label_UPGMA\": 24}, {\"tsne_x\": 2.6956379413604736, \"tsne_y\": 50.547733306884766, \"label\": 24, \"HD_label\": 11, \"label_UPGMA\": 24}, {\"tsne_x\": 2.814293146133423, \"tsne_y\": 50.65842056274414, \"label\": 24, \"HD_label\": 11, \"label_UPGMA\": 23}, {\"tsne_x\": 3.791189670562744, \"tsne_y\": 46.66521453857422, \"label\": 24, \"HD_label\": 10, \"label_UPGMA\": 20}, {\"tsne_x\": 2.4369945526123047, \"tsne_y\": 48.78194808959961, \"label\": 24, \"HD_label\": 11, \"label_UPGMA\": 19}, {\"tsne_x\": 1.8233391046524048, \"tsne_y\": 48.08173751831055, \"label\": 24, \"HD_label\": 11, \"label_UPGMA\": 18}, {\"tsne_x\": 4.4056925773620605, \"tsne_y\": 49.56906509399414, \"label\": 24, \"HD_label\": 11, \"label_UPGMA\": 17}, {\"tsne_x\": 1.9421093463897705, \"tsne_y\": 50.376731872558594, \"label\": 24, \"HD_label\": 11, \"label_UPGMA\": 16}, {\"tsne_x\": 6.038830280303955, \"tsne_y\": 47.579559326171875, \"label\": 24, \"HD_label\": 9, \"label_UPGMA\": 15}, {\"tsne_x\": 2.935429096221924, \"tsne_y\": 53.298641204833984, \"label\": 24, \"HD_label\": 13, \"label_UPGMA\": 13}, {\"tsne_x\": 2.837179183959961, \"tsne_y\": 52.85518264770508, \"label\": 24, \"HD_label\": 11, \"label_UPGMA\": 14}, {\"tsne_x\": 2.8363561630249023, \"tsne_y\": 52.85547637939453, \"label\": 24, \"HD_label\": 11, \"label_UPGMA\": 14}, {\"tsne_x\": 4.71108865737915, \"tsne_y\": 46.29835510253906, \"label\": 24, \"HD_label\": 11, \"label_UPGMA\": 13}, {\"tsne_x\": 2.858713388442993, \"tsne_y\": 46.02177047729492, \"label\": 24, \"HD_label\": 12, \"label_UPGMA\": 12}, {\"tsne_x\": 9.77568244934082, \"tsne_y\": 44.46864318847656, \"label\": 24, \"HD_label\": 9, \"label_UPGMA\": 19}, {\"tsne_x\": 14.013219833374023, \"tsne_y\": 39.417667388916016, \"label\": 24, \"HD_label\": 9, \"label_UPGMA\": 16}, {\"tsne_x\": 16.50917625427246, \"tsne_y\": 42.86134338378906, \"label\": 24, \"HD_label\": 8, \"label_UPGMA\": 20}, {\"tsne_x\": 3.731321096420288, \"tsne_y\": 48.084556579589844, \"label\": 24, \"HD_label\": 11, \"label_UPGMA\": 33}, {\"tsne_x\": 13.820731163024902, \"tsne_y\": 46.30775451660156, \"label\": 24, \"HD_label\": 12, \"label_UPGMA\": 12}, {\"tsne_x\": 13.149402618408203, \"tsne_y\": 45.47135543823242, \"label\": 24, \"HD_label\": 12, \"label_UPGMA\": 11}, {\"tsne_x\": 26.3822021484375, \"tsne_y\": 44.263153076171875, \"label\": 24, \"HD_label\": 12, \"label_UPGMA\": 11}, {\"tsne_x\": 4.934882164001465, \"tsne_y\": 47.764583587646484, \"label\": 24, \"HD_label\": 11, \"label_UPGMA\": 32}, {\"tsne_x\": 21.24146842956543, \"tsne_y\": 43.3813591003418, \"label\": 24, \"HD_label\": 11, \"label_UPGMA\": 7}, {\"tsne_x\": 21.245651245117188, \"tsne_y\": 43.387367248535156, \"label\": 24, \"HD_label\": 13, \"label_UPGMA\": 7}, {\"tsne_x\": 7.989068508148193, \"tsne_y\": 45.30295181274414, \"label\": 24, \"HD_label\": 10, \"label_UPGMA\": 7}, {\"tsne_x\": 14.843331336975098, \"tsne_y\": 40.426937103271484, \"label\": 24, \"HD_label\": 9, \"label_UPGMA\": 29}, {\"tsne_x\": 14.139876365661621, \"tsne_y\": 45.242889404296875, \"label\": 24, \"HD_label\": 11, \"label_UPGMA\": 28}, {\"tsne_x\": 14.25046443939209, \"tsne_y\": 43.26734924316406, \"label\": 24, \"HD_label\": 9, \"label_UPGMA\": 33}, {\"tsne_x\": 21.736408233642578, \"tsne_y\": 38.359683990478516, \"label\": 24, \"HD_label\": 8, \"label_UPGMA\": 15}, {\"tsne_x\": 13.2200345993042, \"tsne_y\": 40.50902557373047, \"label\": 24, \"HD_label\": 10, \"label_UPGMA\": 13}, {\"tsne_x\": -20.855445861816406, \"tsne_y\": 41.25455093383789, \"label\": 24, \"HD_label\": 13, \"label_UPGMA\": 24}, {\"tsne_x\": -15.346607208251953, \"tsne_y\": 45.060569763183594, \"label\": 24, \"HD_label\": 10, \"label_UPGMA\": 21}, {\"tsne_x\": -9.208128929138184, \"tsne_y\": 5.55352783203125, \"label\": 24, \"HD_label\": 5, \"label_UPGMA\": 16}, {\"tsne_x\": -7.511030197143555, \"tsne_y\": 2.3560702800750732, \"label\": 24, \"HD_label\": 4, \"label_UPGMA\": 10}, {\"tsne_x\": -7.944425582885742, \"tsne_y\": 1.9286913871765137, \"label\": 24, \"HD_label\": 7, \"label_UPGMA\": 8}, {\"tsne_x\": -7.59773588180542, \"tsne_y\": 2.4809203147888184, \"label\": 24, \"HD_label\": 10, \"label_UPGMA\": 9}, {\"tsne_x\": 23.786468505859375, \"tsne_y\": 15.294602394104004, \"label\": 24, \"HD_label\": 10, \"label_UPGMA\": 12}, {\"tsne_x\": 23.752336502075195, \"tsne_y\": 15.264906883239746, \"label\": 24, \"HD_label\": 10, \"label_UPGMA\": 13}, {\"tsne_x\": -21.061267852783203, \"tsne_y\": -47.33946990966797, \"label\": 24, \"HD_label\": 10, \"label_UPGMA\": 9}, {\"tsne_x\": -21.072654724121094, \"tsne_y\": -47.311912536621094, \"label\": 24, \"HD_label\": 12, \"label_UPGMA\": 10}, {\"tsne_x\": -21.102787017822266, \"tsne_y\": -47.321781158447266, \"label\": 24, \"HD_label\": 11, \"label_UPGMA\": 10}, {\"tsne_x\": -20.978830337524414, \"tsne_y\": -49.86134338378906, \"label\": 24, \"HD_label\": 9, \"label_UPGMA\": 14}, {\"tsne_x\": -20.9450626373291, \"tsne_y\": -49.97777557373047, \"label\": 24, \"HD_label\": 9, \"label_UPGMA\": 14}, {\"tsne_x\": -21.50800132751465, \"tsne_y\": -49.11601257324219, \"label\": 24, \"HD_label\": 9, \"label_UPGMA\": 14}, {\"tsne_x\": -21.468658447265625, \"tsne_y\": -49.095096588134766, \"label\": 24, \"HD_label\": 10, \"label_UPGMA\": 14}, {\"tsne_x\": -21.32964324951172, \"tsne_y\": -48.473838806152344, \"label\": 24, \"HD_label\": 11, \"label_UPGMA\": 11}, {\"tsne_x\": -21.98631477355957, \"tsne_y\": -48.32152557373047, \"label\": 24, \"HD_label\": 11, \"label_UPGMA\": 11}, {\"tsne_x\": -22.217897415161133, \"tsne_y\": -48.14366912841797, \"label\": 24, \"HD_label\": 11, \"label_UPGMA\": 11}, {\"tsne_x\": -20.761798858642578, \"tsne_y\": -48.483577728271484, \"label\": 24, \"HD_label\": 10, \"label_UPGMA\": 9}, {\"tsne_x\": -20.129108428955078, \"tsne_y\": -49.92668533325195, \"label\": 24, \"HD_label\": 10, \"label_UPGMA\": 7}, {\"tsne_x\": -22.54732894897461, \"tsne_y\": -49.826904296875, \"label\": 24, \"HD_label\": 11, \"label_UPGMA\": 8}, {\"tsne_x\": -20.762441635131836, \"tsne_y\": -46.615501403808594, \"label\": 24, \"HD_label\": 11, \"label_UPGMA\": 5}, {\"tsne_x\": -21.587419509887695, \"tsne_y\": -49.090946197509766, \"label\": 24, \"HD_label\": 9, \"label_UPGMA\": 13}, {\"tsne_x\": -20.79512596130371, \"tsne_y\": -49.7204475402832, \"label\": 24, \"HD_label\": 9, \"label_UPGMA\": 14}, {\"tsne_x\": -20.819332122802734, \"tsne_y\": -49.4763298034668, \"label\": 24, \"HD_label\": 10, \"label_UPGMA\": 14}, {\"tsne_x\": -20.955068588256836, \"tsne_y\": -50.625511169433594, \"label\": 24, \"HD_label\": 9, \"label_UPGMA\": 7}, {\"tsne_x\": -22.118078231811523, \"tsne_y\": -49.63922119140625, \"label\": 24, \"HD_label\": 9, \"label_UPGMA\": 8}, {\"tsne_x\": -2.621781349182129, \"tsne_y\": -22.736377716064453, \"label\": 24, \"HD_label\": 9, \"label_UPGMA\": 6}, {\"tsne_x\": 27.133573532104492, \"tsne_y\": 9.260283470153809, \"label\": 24, \"HD_label\": 9, \"label_UPGMA\": 5}, {\"tsne_x\": 2.4592885971069336, \"tsne_y\": -25.923192977905273, \"label\": 24, \"HD_label\": 10, \"label_UPGMA\": 5}, {\"tsne_x\": 2.4504263401031494, \"tsne_y\": -25.923917770385742, \"label\": 24, \"HD_label\": 11, \"label_UPGMA\": 5}, {\"tsne_x\": -5.358617782592773, \"tsne_y\": 11.513594627380371, \"label\": 24, \"HD_label\": 5, \"label_UPGMA\": 4}, {\"tsne_x\": -44.71153259277344, \"tsne_y\": 2.5731353759765625, \"label\": 24, \"HD_label\": 11, \"label_UPGMA\": 5}, {\"tsne_x\": -44.46171188354492, \"tsne_y\": 4.53978157043457, \"label\": 24, \"HD_label\": 11, \"label_UPGMA\": 7}, {\"tsne_x\": 59.84716796875, \"tsne_y\": -0.16363182663917542, \"label\": 24, \"HD_label\": 10, \"label_UPGMA\": 12}, {\"tsne_x\": 29.881681442260742, \"tsne_y\": -48.05344009399414, \"label\": 24, \"HD_label\": 7, \"label_UPGMA\": 4}]}}, {\"mode\": \"vega-lite\"});\n",
              "</script>"
            ],
            "text/plain": [
              "alt.HConcatChart(...)"
            ]
          },
          "metadata": {
            "tags": []
          },
          "execution_count": 232
        }
      ]
    },
    {
      "cell_type": "markdown",
      "metadata": {
        "id": "1T1tOJtEfpbi"
      },
      "source": [
        "**Split Training set into Training and Validation sets**"
      ]
    },
    {
      "cell_type": "code",
      "metadata": {
        "id": "qIYBL17BnG6Y"
      },
      "source": [
        "metadata_df = metadata.merge(pd.DataFrame(strains,columns=[\"strain\"]), on=\"strain\")"
      ],
      "execution_count": null,
      "outputs": []
    },
    {
      "cell_type": "code",
      "metadata": {
        "id": "5XsiEOXAnqwr",
        "colab": {
          "base_uri": "https://localhost:8080/",
          "height": 196
        },
        "outputId": "3fe16468-ee36-49ec-87d3-c8285c77afc0"
      },
      "source": [
        "metadata_df.head()"
      ],
      "execution_count": null,
      "outputs": [
        {
          "output_type": "execute_result",
          "data": {
            "text/plain": [
              "        strain  generation   fitness\n",
              "0  sample_52_2          52  0.933861\n",
              "1  sample_52_3          52  0.853535\n",
              "2  sample_52_4          52  0.859951\n",
              "3  sample_52_5          52         0\n",
              "4  sample_52_6          52  0.653404"
            ],
            "text/html": [
              "<div>\n",
              "<style scoped>\n",
              "    .dataframe tbody tr th:only-of-type {\n",
              "        vertical-align: middle;\n",
              "    }\n",
              "\n",
              "    .dataframe tbody tr th {\n",
              "        vertical-align: top;\n",
              "    }\n",
              "\n",
              "    .dataframe thead th {\n",
              "        text-align: right;\n",
              "    }\n",
              "</style>\n",
              "<table border=\"1\" class=\"dataframe\">\n",
              "  <thead>\n",
              "    <tr style=\"text-align: right;\">\n",
              "      <th></th>\n",
              "      <th>strain</th>\n",
              "      <th>generation</th>\n",
              "      <th>fitness</th>\n",
              "    </tr>\n",
              "  </thead>\n",
              "  <tbody>\n",
              "    <tr>\n",
              "      <th>0</th>\n",
              "      <td>sample_52_2</td>\n",
              "      <td>52</td>\n",
              "      <td>0.933861</td>\n",
              "    </tr>\n",
              "    <tr>\n",
              "      <th>1</th>\n",
              "      <td>sample_52_3</td>\n",
              "      <td>52</td>\n",
              "      <td>0.853535</td>\n",
              "    </tr>\n",
              "    <tr>\n",
              "      <th>2</th>\n",
              "      <td>sample_52_4</td>\n",
              "      <td>52</td>\n",
              "      <td>0.859951</td>\n",
              "    </tr>\n",
              "    <tr>\n",
              "      <th>3</th>\n",
              "      <td>sample_52_5</td>\n",
              "      <td>52</td>\n",
              "      <td>0</td>\n",
              "    </tr>\n",
              "    <tr>\n",
              "      <th>4</th>\n",
              "      <td>sample_52_6</td>\n",
              "      <td>52</td>\n",
              "      <td>0.653404</td>\n",
              "    </tr>\n",
              "  </tbody>\n",
              "</table>\n",
              "</div>"
            ]
          },
          "metadata": {
            "tags": []
          },
          "execution_count": 26
        }
      ]
    },
    {
      "cell_type": "code",
      "metadata": {
        "id": "0Ec64NLByOzN",
        "colab": {
          "base_uri": "https://localhost:8080/",
          "height": 33
        },
        "outputId": "48353baf-859e-4150-b9bf-fb605329b1b1"
      },
      "source": [
        "max(metadata_df.values.tolist())"
      ],
      "execution_count": null,
      "outputs": [
        {
          "output_type": "execute_result",
          "data": {
            "text/plain": [
              "['sample_52_9999', 52, 0.9807597209338426]"
            ]
          },
          "metadata": {
            "tags": []
          },
          "execution_count": 27
        }
      ]
    },
    {
      "cell_type": "code",
      "metadata": {
        "id": "VTMQxwHF2xgx"
      },
      "source": [
        " X_train, X_val, y_train, y_val  = train_test_split(genomes_df.values.tolist(), metadata_df[\"generation\"].values.tolist(), test_size=0.2, random_state=1)"
      ],
      "execution_count": null,
      "outputs": []
    },
    {
      "cell_type": "code",
      "metadata": {
        "id": "pyzdQP1k1cRB",
        "colab": {
          "base_uri": "https://localhost:8080/",
          "height": 33
        },
        "outputId": "24e5d698-f71d-4a2c-cd3e-1f31eb7fd399"
      },
      "source": [
        "len(X_val)"
      ],
      "execution_count": null,
      "outputs": [
        {
          "output_type": "execute_result",
          "data": {
            "text/plain": [
              "24000"
            ]
          },
          "metadata": {
            "tags": []
          },
          "execution_count": 8
        }
      ]
    },
    {
      "cell_type": "code",
      "metadata": {
        "id": "A-cd_SPxoitK"
      },
      "source": [
        ""
      ],
      "execution_count": null,
      "outputs": []
    },
    {
      "cell_type": "code",
      "metadata": {
        "id": "7xiBvihZfpbi"
      },
      "source": [
        "#x_train, x_val, y_train, y_val = train_test_split(genomes_df_train_val.values.tolist(), validation_df_train_val.values.tolist(), test_size=.1, random_state=0)"
      ],
      "execution_count": null,
      "outputs": []
    },
    {
      "cell_type": "code",
      "metadata": {
        "id": "KjSb65Bwfpbk"
      },
      "source": [
        "x_train = np.array(X_train)\n",
        "x_val = np.array(X_val)\n",
        "y_train = np.array(y_train)\n",
        "y_val = np.array(y_val)"
      ],
      "execution_count": null,
      "outputs": []
    },
    {
      "cell_type": "code",
      "metadata": {
        "id": "GMccl-Eofpbo",
        "colab": {
          "base_uri": "https://localhost:8080/",
          "height": 33
        },
        "outputId": "f91176ed-8c8c-4522-800b-23e2c1fd6cb1"
      },
      "source": [
        "max(y_train)\n",
        "min(y_train)"
      ],
      "execution_count": null,
      "outputs": [
        {
          "output_type": "execute_result",
          "data": {
            "text/plain": [
              "4"
            ]
          },
          "metadata": {
            "tags": []
          },
          "execution_count": 111
        }
      ]
    },
    {
      "cell_type": "code",
      "metadata": {
        "id": "baQSDA8Y93g-",
        "colab": {
          "base_uri": "https://localhost:8080/",
          "height": 33
        },
        "outputId": "38f2d10a-385f-441e-9bee-f859a3e24806"
      },
      "source": [
        "max(genomes_df[\"generation\"].values.tolist())\n",
        "min(genomes_df[\"generation\"].values.tolist())"
      ],
      "execution_count": null,
      "outputs": [
        {
          "output_type": "execute_result",
          "data": {
            "text/plain": [
              "4"
            ]
          },
          "metadata": {
            "tags": []
          },
          "execution_count": 113
        }
      ]
    },
    {
      "cell_type": "markdown",
      "metadata": {
        "id": "FHDcVjOFfpbr"
      },
      "source": [
        "## Single Classifier Training"
      ]
    },
    {
      "cell_type": "code",
      "metadata": {
        "id": "6OpwVdUQS0WT"
      },
      "source": [
        "!pip3 install keras-tuner"
      ],
      "execution_count": null,
      "outputs": []
    },
    {
      "cell_type": "code",
      "metadata": {
        "id": "JkyImqURY2Ya"
      },
      "source": [
        "!pip3 install scikit-learn\n",
        "!pip3 install keras-tuner"
      ],
      "execution_count": null,
      "outputs": []
    },
    {
      "cell_type": "code",
      "metadata": {
        "id": "Yt7buM41WwxW"
      },
      "source": [
        "from kerastuner import HyperModel\n",
        "from sklearn.model_selection import GridSearchCV"
      ],
      "execution_count": null,
      "outputs": []
    },
    {
      "cell_type": "code",
      "metadata": {
        "id": "1rkRkypib8YE"
      },
      "source": [
        "import os\n",
        " \n",
        "if not os.path.exists(\"logs\"):\n",
        "    os.mkdir(\"logs\")"
      ],
      "execution_count": null,
      "outputs": []
    },
    {
      "cell_type": "code",
      "metadata": {
        "id": "Gc6-QuSK9qHx",
        "colab": {
          "base_uri": "https://localhost:8080/",
          "height": 161
        },
        "outputId": "137884ae-9f62-4588-844c-25043128a3a1"
      },
      "source": [
        "Y_train[:1]"
      ],
      "execution_count": null,
      "outputs": [
        {
          "output_type": "error",
          "ename": "NameError",
          "evalue": "ignored",
          "traceback": [
            "\u001b[0;31m---------------------------------------------------------------------------\u001b[0m",
            "\u001b[0;31mNameError\u001b[0m                                 Traceback (most recent call last)",
            "\u001b[0;32m<ipython-input-107-724ef9c5967f>\u001b[0m in \u001b[0;36m<module>\u001b[0;34m\u001b[0m\n\u001b[0;32m----> 1\u001b[0;31m \u001b[0mY_train\u001b[0m\u001b[0;34m[\u001b[0m\u001b[0;34m:\u001b[0m\u001b[0;36m1\u001b[0m\u001b[0;34m]\u001b[0m\u001b[0;34m\u001b[0m\u001b[0;34m\u001b[0m\u001b[0m\n\u001b[0m",
            "\u001b[0;31mNameError\u001b[0m: name 'Y_train' is not defined"
          ]
        }
      ]
    },
    {
      "cell_type": "markdown",
      "metadata": {
        "id": "gF7AT0w1fpbs"
      },
      "source": [
        "**Constructing CNN**"
      ]
    },
    {
      "cell_type": "code",
      "metadata": {
        "id": "-ngtzPB8_tbC"
      },
      "source": [
        "from keras.models import Model\n",
        "from keras.layers import Input, Dense, Flatten\n",
        "from keras.layers import Convolution1D\n",
        "from keras.layers import MaxPooling1D\n",
        "from keras.layers import Embedding\n",
        "from keras.layers import ThresholdedReLU\n",
        "from keras.layers import Dropout\n",
        "from keras.callbacks import TensorBoard\n",
        "\n",
        "\"\"\"\n",
        "Class to implement the Character Level Convolutional Neural Network for Text Classification,\n",
        "as described in Zhang et al., 2015 (http://arxiv.org/abs/1509.01626)\n",
        "\"\"\"\n",
        "\"\"\"\n",
        "Initialization for the Character Level CNN model.\n",
        "Args:\n",
        "input_size (int): Size of input features\n",
        "alphabet_size (int): Size of alphabets to create embeddings for\n",
        "embedding_size (int): Size of embeddings\n",
        "conv_layers (list[list[int]]): List of Convolution layers for model\n",
        "fully_connected_layers (list[list[int]]): List of Fully Connected layers for model\n",
        "num_of_classes (int): Number of classes in data\n",
        "threshold (float): Threshold for Thresholded ReLU activation function\n",
        "dropout_p (float): Dropout Probability\n",
        "optimizer (str): Training optimizer\n",
        "loss (str): Loss function\n",
        "\"\"\"\n",
        "input_size = 1701\n",
        "alphabet = \"AGCTN\"\n",
        "alphabet_size = 5\n",
        "embedding_size = 128\n",
        "conv_layers = [[256,5],[256,5]]\n",
        "fully_connected_layers = [1024,1024]\n",
        "num_of_classes =  max(metadata_df[\"generation\"].values.tolist()) + 1\n",
        "threshold = 1e-6\n",
        "dropout_p = 0.1\n",
        "optimizer = \"adam\"\n",
        "loss = \"sparse_categorical_crossentropy\"\n",
        "\n",
        "\n",
        "checkpoint_every = 100\n",
        "batch_size = 10\n",
        "epochs = 10\n",
        "training_inputs = X_train\n",
        "training_labels = y_train\n",
        "validation_inputs = X_val\n",
        "validation_labels = y_val\n",
        "\n",
        "\"\"\"\n",
        "Build and compile the Character Level CNN model\n",
        "Returns: None\n",
        "\"\"\"\n",
        "# Input layer\n",
        "inputs = Input(shape=(input_size,), name='sent_input', dtype='int64')\n",
        "# Embedding layers\n",
        "x = Embedding((alphabet_size + 1), embedding_size, input_length=1701)(inputs)\n",
        "# Convolution layers\n",
        "iterator = 0\n",
        "for cl in conv_layers:\n",
        "  print(x.shape)\n",
        "  x = Convolution1D(cl[0], cl[1])(x)\n",
        "  x = ThresholdedReLU(threshold)(x)\n",
        "  iterator = iterator + 1\n",
        "x = Flatten()(x)\n",
        "# Fully connected layers\n",
        "for fl in fully_connected_layers:\n",
        "  x = Dense(fl)(x)\n",
        "  x = ThresholdedReLU(threshold)(x)\n",
        "  x = Dropout(dropout_p)(x)\n",
        "# Output layer\n",
        "predictions = Dense(num_of_classes, activation='softmax')(x)\n",
        "# Build and compile model\n",
        "model = Model(inputs=inputs, outputs=predictions)\n",
        "model.compile(optimizer=optimizer, loss=loss)\n",
        "print(\"CharCNNZhang model built: \")\n",
        "model.summary()\n",
        "\n",
        "# Create callbacks\n",
        "tensorboard = TensorBoard(log_dir='logs', histogram_freq=checkpoint_every, batch_size=batch_size,\n",
        "              write_graph=True, write_grads=True, write_images=False,\n",
        "              embeddings_freq=checkpoint_every,\n",
        "              embeddings_layer_names=None)\n",
        "\n",
        "# Start training\n",
        "print(\"Training CharCNNZhang model: \")\n",
        "model.fit(training_inputs, training_labels,\n",
        "    validation_data=(validation_inputs, validation_labels),\n",
        "    epochs=epochs,\n",
        "    batch_size=batch_size,\n",
        "    verbose=2,\n",
        "    callbacks=[tensorboard])\n",
        "\n"
      ],
      "execution_count": null,
      "outputs": []
    },
    {
      "cell_type": "code",
      "metadata": {
        "id": "jpN-vESQV72Y"
      },
      "source": [
        "# create:\n",
        "# confusion matrix\n",
        "# loss vs epoch graph\n",
        "# accuracy values\n",
        "# t-SNE embedding of real data fit on the trained network for both MERS and flu (colored by the trained results and the real results)\n",
        "# do this for the 10K sample (sampled via a random sampler) for both datasets, do this for 120K as well to see if t-sne results improve\n",
        "# run classification test on the results (or cluster purity or something)\n",
        "#If time: use scatterplots and KDE density to reveal that generation means something or can be defined as useful "
      ],
      "execution_count": null,
      "outputs": []
    },
    {
      "cell_type": "code",
      "metadata": {
        "id": "R6EB_2-L2Dxb",
        "colab": {
          "base_uri": "https://localhost:8080/",
          "height": 53
        },
        "outputId": "50e2a808-e175-4cd3-9a6d-a5127056a781"
      },
      "source": [
        "print(model.history.history)"
      ],
      "execution_count": null,
      "outputs": [
        {
          "output_type": "stream",
          "text": [
            "{'loss': [1.0342042446136475, 0.9904802441596985, 0.9852463603019714, 0.9835326075553894, 0.9853823781013489, 0.9844153523445129, 0.9846055507659912, 0.9828135371208191, 0.9838646650314331, 0.983290433883667], 'val_loss': [0.9985038042068481, 0.9889106154441833, 0.9908460378646851, 0.9903324842453003, 0.9919474720954895, 0.9888180494308472, 0.9899097084999084, 0.9941970705986023, 0.9907529950141907, 0.9940608143806458]}\n"
          ],
          "name": "stdout"
        }
      ]
    },
    {
      "cell_type": "code",
      "metadata": {
        "id": "OC6hNX_oM6y3",
        "colab": {
          "base_uri": "https://localhost:8080/",
          "height": 297
        },
        "outputId": "c8599bf4-d619-4dbc-fb9b-927972ece9ff"
      },
      "source": [
        "%matplotlib inline\n",
        "\n",
        "import matplotlib.pyplot as plt\n",
        "\n",
        "# Retrieve a list of accuracy results on training and validation data\n",
        "# sets for each training epoch\n",
        "#acc = model.history.history['acc']\n",
        "#val_acc = model.history.history['val_acc']\n",
        "\n",
        "# Retrieve a list of list results on training and validation data\n",
        "# sets for each training epoch\n",
        "loss = model.history.history['loss']\n",
        "val_loss = model.history.history['val_loss']\n",
        "\n",
        "# Get number of epochs\n",
        "epochs = range(len(loss))\n",
        "\n",
        "# Plot training and validation accuracy per epoch\n",
        "#plt.plot(epochs, acc)\n",
        "#plt.plot(epochs, val_acc)\n",
        "#plt.title('Training and validation accuracy')\n",
        "\n",
        "#plt.figure()\n",
        "\n",
        "# Plot training and validation loss per epoch\n",
        "plt.plot(epochs, loss)\n",
        "plt.plot(epochs, val_loss)\n",
        "plt.title('Training and validation loss')"
      ],
      "execution_count": null,
      "outputs": [
        {
          "output_type": "execute_result",
          "data": {
            "text/plain": [
              "Text(0.5, 1.0, 'Training and validation loss')"
            ]
          },
          "metadata": {
            "tags": []
          },
          "execution_count": 19
        },
        {
          "output_type": "display_data",
          "data": {
            "text/plain": [
              "<Figure size 432x288 with 1 Axes>"
            ],
            "image/png": "[encoded data removed]"
          },
          "metadata": {
            "tags": [],
            "needs_background": "light"
          }
        }
      ]
    },
    {
      "cell_type": "code",
      "metadata": {
        "id": "wO_jo1dX2QsO"
      },
      "source": [
        "%reload_ext tensorboard"
      ],
      "execution_count": null,
      "outputs": []
    },
    {
      "cell_type": "code",
      "metadata": {
        "id": "Vqa5Oc4IbyXy"
      },
      "source": [
        "%tensorboard --logdir 'logs'"
      ],
      "execution_count": null,
      "outputs": []
    },
    {
      "cell_type": "code",
      "metadata": {
        "id": "OzjOLNQtaiHS"
      },
      "source": [
        "from keras.wrappers.scikit_learn import KerasClassifier\n",
        "from keras.optimizers import Adam\n",
        "from keras.models import Model\n",
        "from keras.layers import Input, Dense, Flatten\n",
        "from keras.layers import Convolution1D\n",
        "from keras.layers import MaxPooling1D\n",
        "from keras.layers import Embedding\n",
        "from keras.layers import ThresholdedReLU\n",
        "from keras.layers import Dropout\n",
        "from keras.callbacks import TensorBoard\n",
        "\n",
        "\"\"\"\n",
        "Class to implement the Character Level Convolutional Neural Network for Text Classification,\n",
        "as described in Zhang et al., 2015 (http://arxiv.org/abs/1509.01626)\n",
        "\"\"\"\n",
        "\"\"\"\n",
        "Initialization for the Character Level CNN model.\n",
        "Args:\n",
        "input_size (int): Size of input features\n",
        "alphabet_size (int): Size of alphabets to create embeddings for\n",
        "embedding_size (int): Size of embeddings\n",
        "conv_layers (list[list[int]]): List of Convolution layers for model\n",
        "fully_connected_layers (list[list[int]]): List of Fully Connected layers for model\n",
        "num_of_classes (int): Number of classes in data\n",
        "threshold (float): Threshold for Thresholded ReLU activation function\n",
        "dropout_p (float): Dropout Probability\n",
        "optimizer (str): Training optimizer\n",
        "loss (str): Loss function\n",
        "\"\"\"\n",
        "\n",
        "\"\"\"\n",
        "Build and compile the Character Level CNN model\n",
        "Returns: None\n",
        "\"\"\"\n",
        "def create_model(batch_size=10, epochs=10, learn_rate=.001, dropout_rate=0.1):\n",
        "  input_size = 1701\n",
        "  alphabet = \"12345\"\n",
        "  alphabet_size = 5\n",
        "  embedding_size = 128\n",
        "  conv_layers = [[256,5],[256,5]]\n",
        "  fully_connected_layers = [1024,1024]\n",
        "  num_of_classes =  max(validation_df.values.tolist())[0] + 1\n",
        "  threshold = 1e-6\n",
        "  dropout_p = 0.1\n",
        "  optimizer = \"adam\"\n",
        "  loss = \"sparse_categorical_crossentropy\"\n",
        "\n",
        "  checkpoint_every = 100\n",
        "\n",
        "  # Input layer\n",
        "  inputs = Input(shape=(input_size,), name='sent_input', dtype='int64')\n",
        "  # Embedding layers\n",
        "  x = Embedding((alphabet_size + 1), embedding_size, input_length=1701)(inputs)\n",
        "  # Convolution layers\n",
        "  iterator = 0\n",
        "  for cl in conv_layers:\n",
        "    print(x.shape)\n",
        "    x = Convolution1D(cl[0], cl[1])(x)\n",
        "    x = ThresholdedReLU(threshold)(x)\n",
        "    iterator = iterator + 1\n",
        "  x = Flatten()(x)\n",
        "  # Fully connected layers\n",
        "  for fl in fully_connected_layers:\n",
        "    x = Dense(fl)(x)\n",
        "    x = ThresholdedReLU(threshold)(x)\n",
        "    x = Dropout(dropout_rate)(x)\n",
        "  # Output layer\n",
        "  predictions = Dense(num_of_classes, activation='softmax')(x)\n",
        "  # Build and compile model\n",
        "  model = Model(inputs=inputs, outputs=predictions)\n",
        "  optimizer = Adam(learning_rate=learn_rate)\n",
        "  model.compile(optimizer=optimizer, loss=loss, metrics=['accuracy'])\n",
        "  print(\"CharCNNZhang model built: \")\n",
        "  model.summary()\n",
        "  return model\n",
        "\n",
        "model = KerasClassifier(build_fn=create_model, verbose=0)\n"
      ],
      "execution_count": null,
      "outputs": []
    },
    {
      "cell_type": "code",
      "metadata": {
        "id": "6Ubfi__kdBSR"
      },
      "source": [
        "training_inputs = x_train\n",
        "training_labels = y_train\n",
        "validation_inputs = x_val\n",
        "validation_labels = y_val\n",
        "testing_inputs = x_test\n",
        "testing_labels =  y_test"
      ],
      "execution_count": null,
      "outputs": []
    },
    {
      "cell_type": "code",
      "metadata": {
        "id": "QUbhm98Ci4XY"
      },
      "source": [
        "import tensorflow.python.keras.engine\n",
        "from keras.engine import Layer, InputSpec\n",
        "import tensorflow.keras"
      ],
      "execution_count": null,
      "outputs": []
    },
    {
      "cell_type": "code",
      "metadata": {
        "id": "pvKj-e7GZImh"
      },
      "source": [
        "batch_size = [1, 5, 10]\n",
        "epochs = [10, 20]\n",
        "param_grid = dict(batch_size=batch_size, epochs=epochs)\n",
        "grid = GridSearchCV(estimator=model, param_grid=param_grid, cv=2)\n",
        "grid_result = grid.fit(training_inputs, training_labels)\n",
        "# summarize results\n",
        "print(\"Best: %f using %s\" % (grid_result.best_score_, grid_result.best_params_))\n",
        "means = grid_result.cv_results_['mean_test_score']\n",
        "stds = grid_result.cv_results_['std_test_score']\n",
        "params = grid_result.cv_results_['params']\n",
        "for mean, stdev, param in zip(means, stds, params):\n",
        "    print(\"%f (%f) with: %r\" % (mean, stdev, param))"
      ],
      "execution_count": null,
      "outputs": []
    },
    {
      "cell_type": "code",
      "metadata": {
        "id": "tEwZZ1lxhJHq"
      },
      "source": [
        "learn_rate = [0.001, 0.01, 0.1]\n",
        "dropout_rate = [0.0, 0.4, 0.8]\n",
        "param_grid = dict(learn_rate=learn_rate, dropout_rate=dropout_rate)\n",
        "grid = GridSearchCV(estimator=model, param_grid=param_grid, n_jobs=-1, cv=2)\n",
        "grid_result = grid.fit(training_inputs, training_labels)\n",
        "# summarize results\n",
        "print(\"Best: %f using %s\" % (grid_result.best_score_, grid_result.best_params_))\n",
        "means = grid_result.cv_results_['mean_test_score']\n",
        "stds = grid_result.cv_results_['std_test_score']\n",
        "params = grid_result.cv_results_['params']\n",
        "for mean, stdev, param in zip(means, stds, params):\n",
        "    print(\"%f (%f) with: %r\" % (mean, stdev, param))"
      ],
      "execution_count": null,
      "outputs": []
    },
    {
      "cell_type": "code",
      "metadata": {
        "id": "hJRakKUWg9Vv"
      },
      "source": [
        "validation_data=(validation_inputs, validation_labels)"
      ],
      "execution_count": null,
      "outputs": []
    },
    {
      "cell_type": "code",
      "metadata": {
        "id": "gqDuKoh7cfYA"
      },
      "source": [
        " \n",
        "  # Create callbacks\n",
        "  tensorboard = TensorBoard(log_dir='/content/drive/My Drive/hierarchical-deep-cnn/logs', histogram_freq=checkpoint_every, batch_size=batch_size,\n",
        "                write_graph=False, write_grads=True, write_images=False,\n",
        "                embeddings_freq=checkpoint_every,\n",
        "                embeddings_layer_names=None)\n",
        "\n",
        "  # Start training\n",
        "  print(\"Training CharCNNZhang model: \")\n",
        "  model.fit(training_inputs, training_labels,\n",
        "      validation_data=(validation_inputs, validation_labels),\n",
        "      epochs=epochs,\n",
        "      batch_size=batch_size,\n",
        "      verbose=2,\n",
        "      callbacks=[tensorboard])"
      ],
      "execution_count": null,
      "outputs": []
    },
    {
      "cell_type": "code",
      "metadata": {
        "id": "nhdCvsEZ8wib"
      },
      "source": [
        "%tensorboard --logdir logs/scalars"
      ],
      "execution_count": null,
      "outputs": []
    },
    {
      "cell_type": "code",
      "metadata": {
        "id": "9_KLyaMf64mf"
      },
      "source": [
        "genomes_df_reduced = new_genomes_df.drop([\"strain\",\"generation\",\"values\"], axis=1)"
      ],
      "execution_count": null,
      "outputs": []
    },
    {
      "cell_type": "code",
      "metadata": {
        "id": "w8HjrMk4FZyY"
      },
      "source": [
        "genomes_df[\"values\"] = values\n",
        "new_genomes_df = genomes_df.where(genomes_df[\"values\"] < 49).dropna().reset_index(drop=True)"
      ],
      "execution_count": null,
      "outputs": []
    },
    {
      "cell_type": "code",
      "metadata": {
        "id": "sFScUPUYF7Zr",
        "colab": {
          "base_uri": "https://localhost:8080/",
          "height": 404
        },
        "outputId": "20297e5a-d7ec-47ed-e19c-3ac709a1bd80"
      },
      "source": [
        "new_genomes_df"
      ],
      "execution_count": null,
      "outputs": [
        {
          "output_type": "execute_result",
          "data": {
            "text/plain": [
              "        0    1    2    3    4    5    6    7    8    9  ...  1694  1695  1696  \\\n",
              "0     1.0  4.0  2.0  1.0  1.0  2.0  1.0  3.0  4.0  1.0  ...   3.0   1.0   4.0   \n",
              "1     1.0  4.0  2.0  1.0  1.0  2.0  1.0  3.0  4.0  1.0  ...   3.0   1.0   4.0   \n",
              "2     1.0  4.0  2.0  1.0  1.0  2.0  1.0  3.0  4.0  1.0  ...   3.0   1.0   4.0   \n",
              "3     1.0  4.0  2.0  1.0  1.0  2.0  1.0  3.0  4.0  1.0  ...   3.0   1.0   4.0   \n",
              "4     1.0  4.0  2.0  1.0  1.0  2.0  1.0  3.0  4.0  1.0  ...   3.0   1.0   4.0   \n",
              "...   ...  ...  ...  ...  ...  ...  ...  ...  ...  ...  ...   ...   ...   ...   \n",
              "1128  1.0  4.0  2.0  1.0  1.0  2.0  1.0  3.0  4.0  1.0  ...   3.0   1.0   4.0   \n",
              "1129  1.0  4.0  2.0  1.0  1.0  2.0  1.0  3.0  4.0  1.0  ...   3.0   1.0   4.0   \n",
              "1130  1.0  4.0  2.0  1.0  1.0  2.0  1.0  3.0  4.0  1.0  ...   3.0   1.0   4.0   \n",
              "1131  1.0  4.0  2.0  1.0  1.0  2.0  1.0  3.0  4.0  1.0  ...   3.0   1.0   4.0   \n",
              "1132  1.0  4.0  2.0  1.0  1.0  2.0  1.0  3.0  4.0  1.0  ...   3.0   1.0   4.0   \n",
              "\n",
              "      1697  1698  1699  1700                   strain  generation  values  \n",
              "0      4.0   4.0   2.0   1.0        A/Alabama/13/2016         8.0     6.0  \n",
              "1      4.0   4.0   2.0   1.0       A/Missouri/16/2016         7.0    10.0  \n",
              "2      4.0   4.0   2.0   1.0         A/Texas/166/2016         6.0    10.0  \n",
              "3      4.0   4.0   2.0   1.0         A/Texas/176/2016         6.0     9.0  \n",
              "4      4.0   4.0   2.0   1.0         A/Texas/174/2016         6.0     8.0  \n",
              "...    ...   ...   ...   ...                      ...         ...     ...  \n",
              "1128   4.0   4.0   2.0   1.0      A/Keelung/0023/2016         5.0     4.0  \n",
              "1129   4.0   4.0   2.0   1.0     A/India/1733862/2017        11.0     5.0  \n",
              "1130   4.0   4.0   2.0   1.0     A/India/1733873/2017        11.0     7.0  \n",
              "1131   4.0   4.0   2.0   1.0     A/HongKong/3391/2017        10.0    12.0  \n",
              "1132   4.0   4.0   2.0   1.0  A/MUWRP-Uganda/579/2016         7.0     4.0  \n",
              "\n",
              "[1133 rows x 1704 columns]"
            ],
            "text/html": [
              "<div>\n",
              "<style scoped>\n",
              "    .dataframe tbody tr th:only-of-type {\n",
              "        vertical-align: middle;\n",
              "    }\n",
              "\n",
              "    .dataframe tbody tr th {\n",
              "        vertical-align: top;\n",
              "    }\n",
              "\n",
              "    .dataframe thead th {\n",
              "        text-align: right;\n",
              "    }\n",
              "</style>\n",
              "<table border=\"1\" class=\"dataframe\">\n",
              "  <thead>\n",
              "    <tr style=\"text-align: right;\">\n",
              "      <th></th>\n",
              "      <th>0</th>\n",
              "      <th>1</th>\n",
              "      <th>2</th>\n",
              "      <th>3</th>\n",
              "      <th>4</th>\n",
              "      <th>5</th>\n",
              "      <th>6</th>\n",
              "      <th>7</th>\n",
              "      <th>8</th>\n",
              "      <th>9</th>\n",
              "      <th>...</th>\n",
              "      <th>1694</th>\n",
              "      <th>1695</th>\n",
              "      <th>1696</th>\n",
              "      <th>1697</th>\n",
              "      <th>1698</th>\n",
              "      <th>1699</th>\n",
              "      <th>1700</th>\n",
              "      <th>strain</th>\n",
              "      <th>generation</th>\n",
              "      <th>values</th>\n",
              "    </tr>\n",
              "  </thead>\n",
              "  <tbody>\n",
              "    <tr>\n",
              "      <th>0</th>\n",
              "      <td>1.0</td>\n",
              "      <td>4.0</td>\n",
              "      <td>2.0</td>\n",
              "      <td>1.0</td>\n",
              "      <td>1.0</td>\n",
              "      <td>2.0</td>\n",
              "      <td>1.0</td>\n",
              "      <td>3.0</td>\n",
              "      <td>4.0</td>\n",
              "      <td>1.0</td>\n",
              "      <td>...</td>\n",
              "      <td>3.0</td>\n",
              "      <td>1.0</td>\n",
              "      <td>4.0</td>\n",
              "      <td>4.0</td>\n",
              "      <td>4.0</td>\n",
              "      <td>2.0</td>\n",
              "      <td>1.0</td>\n",
              "      <td>A/Alabama/13/2016</td>\n",
              "      <td>8.0</td>\n",
              "      <td>6.0</td>\n",
              "    </tr>\n",
              "    <tr>\n",
              "      <th>1</th>\n",
              "      <td>1.0</td>\n",
              "      <td>4.0</td>\n",
              "      <td>2.0</td>\n",
              "      <td>1.0</td>\n",
              "      <td>1.0</td>\n",
              "      <td>2.0</td>\n",
              "      <td>1.0</td>\n",
              "      <td>3.0</td>\n",
              "      <td>4.0</td>\n",
              "      <td>1.0</td>\n",
              "      <td>...</td>\n",
              "      <td>3.0</td>\n",
              "      <td>1.0</td>\n",
              "      <td>4.0</td>\n",
              "      <td>4.0</td>\n",
              "      <td>4.0</td>\n",
              "      <td>2.0</td>\n",
              "      <td>1.0</td>\n",
              "      <td>A/Missouri/16/2016</td>\n",
              "      <td>7.0</td>\n",
              "      <td>10.0</td>\n",
              "    </tr>\n",
              "    <tr>\n",
              "      <th>2</th>\n",
              "      <td>1.0</td>\n",
              "      <td>4.0</td>\n",
              "      <td>2.0</td>\n",
              "      <td>1.0</td>\n",
              "      <td>1.0</td>\n",
              "      <td>2.0</td>\n",
              "      <td>1.0</td>\n",
              "      <td>3.0</td>\n",
              "      <td>4.0</td>\n",
              "      <td>1.0</td>\n",
              "      <td>...</td>\n",
              "      <td>3.0</td>\n",
              "      <td>1.0</td>\n",
              "      <td>4.0</td>\n",
              "      <td>4.0</td>\n",
              "      <td>4.0</td>\n",
              "      <td>2.0</td>\n",
              "      <td>1.0</td>\n",
              "      <td>A/Texas/166/2016</td>\n",
              "      <td>6.0</td>\n",
              "      <td>10.0</td>\n",
              "    </tr>\n",
              "    <tr>\n",
              "      <th>3</th>\n",
              "      <td>1.0</td>\n",
              "      <td>4.0</td>\n",
              "      <td>2.0</td>\n",
              "      <td>1.0</td>\n",
              "      <td>1.0</td>\n",
              "      <td>2.0</td>\n",
              "      <td>1.0</td>\n",
              "      <td>3.0</td>\n",
              "      <td>4.0</td>\n",
              "      <td>1.0</td>\n",
              "      <td>...</td>\n",
              "      <td>3.0</td>\n",
              "      <td>1.0</td>\n",
              "      <td>4.0</td>\n",
              "      <td>4.0</td>\n",
              "      <td>4.0</td>\n",
              "      <td>2.0</td>\n",
              "      <td>1.0</td>\n",
              "      <td>A/Texas/176/2016</td>\n",
              "      <td>6.0</td>\n",
              "      <td>9.0</td>\n",
              "    </tr>\n",
              "    <tr>\n",
              "      <th>4</th>\n",
              "      <td>1.0</td>\n",
              "      <td>4.0</td>\n",
              "      <td>2.0</td>\n",
              "      <td>1.0</td>\n",
              "      <td>1.0</td>\n",
              "      <td>2.0</td>\n",
              "      <td>1.0</td>\n",
              "      <td>3.0</td>\n",
              "      <td>4.0</td>\n",
              "      <td>1.0</td>\n",
              "      <td>...</td>\n",
              "      <td>3.0</td>\n",
              "      <td>1.0</td>\n",
              "      <td>4.0</td>\n",
              "      <td>4.0</td>\n",
              "      <td>4.0</td>\n",
              "      <td>2.0</td>\n",
              "      <td>1.0</td>\n",
              "      <td>A/Texas/174/2016</td>\n",
              "      <td>6.0</td>\n",
              "      <td>8.0</td>\n",
              "    </tr>\n",
              "    <tr>\n",
              "      <th>...</th>\n",
              "      <td>...</td>\n",
              "      <td>...</td>\n",
              "      <td>...</td>\n",
              "      <td>...</td>\n",
              "      <td>...</td>\n",
              "      <td>...</td>\n",
              "      <td>...</td>\n",
              "      <td>...</td>\n",
              "      <td>...</td>\n",
              "      <td>...</td>\n",
              "      <td>...</td>\n",
              "      <td>...</td>\n",
              "      <td>...</td>\n",
              "      <td>...</td>\n",
              "      <td>...</td>\n",
              "      <td>...</td>\n",
              "      <td>...</td>\n",
              "      <td>...</td>\n",
              "      <td>...</td>\n",
              "      <td>...</td>\n",
              "      <td>...</td>\n",
              "    </tr>\n",
              "    <tr>\n",
              "      <th>1128</th>\n",
              "      <td>1.0</td>\n",
              "      <td>4.0</td>\n",
              "      <td>2.0</td>\n",
              "      <td>1.0</td>\n",
              "      <td>1.0</td>\n",
              "      <td>2.0</td>\n",
              "      <td>1.0</td>\n",
              "      <td>3.0</td>\n",
              "      <td>4.0</td>\n",
              "      <td>1.0</td>\n",
              "      <td>...</td>\n",
              "      <td>3.0</td>\n",
              "      <td>1.0</td>\n",
              "      <td>4.0</td>\n",
              "      <td>4.0</td>\n",
              "      <td>4.0</td>\n",
              "      <td>2.0</td>\n",
              "      <td>1.0</td>\n",
              "      <td>A/Keelung/0023/2016</td>\n",
              "      <td>5.0</td>\n",
              "      <td>4.0</td>\n",
              "    </tr>\n",
              "    <tr>\n",
              "      <th>1129</th>\n",
              "      <td>1.0</td>\n",
              "      <td>4.0</td>\n",
              "      <td>2.0</td>\n",
              "      <td>1.0</td>\n",
              "      <td>1.0</td>\n",
              "      <td>2.0</td>\n",
              "      <td>1.0</td>\n",
              "      <td>3.0</td>\n",
              "      <td>4.0</td>\n",
              "      <td>1.0</td>\n",
              "      <td>...</td>\n",
              "      <td>3.0</td>\n",
              "      <td>1.0</td>\n",
              "      <td>4.0</td>\n",
              "      <td>4.0</td>\n",
              "      <td>4.0</td>\n",
              "      <td>2.0</td>\n",
              "      <td>1.0</td>\n",
              "      <td>A/India/1733862/2017</td>\n",
              "      <td>11.0</td>\n",
              "      <td>5.0</td>\n",
              "    </tr>\n",
              "    <tr>\n",
              "      <th>1130</th>\n",
              "      <td>1.0</td>\n",
              "      <td>4.0</td>\n",
              "      <td>2.0</td>\n",
              "      <td>1.0</td>\n",
              "      <td>1.0</td>\n",
              "      <td>2.0</td>\n",
              "      <td>1.0</td>\n",
              "      <td>3.0</td>\n",
              "      <td>4.0</td>\n",
              "      <td>1.0</td>\n",
              "      <td>...</td>\n",
              "      <td>3.0</td>\n",
              "      <td>1.0</td>\n",
              "      <td>4.0</td>\n",
              "      <td>4.0</td>\n",
              "      <td>4.0</td>\n",
              "      <td>2.0</td>\n",
              "      <td>1.0</td>\n",
              "      <td>A/India/1733873/2017</td>\n",
              "      <td>11.0</td>\n",
              "      <td>7.0</td>\n",
              "    </tr>\n",
              "    <tr>\n",
              "      <th>1131</th>\n",
              "      <td>1.0</td>\n",
              "      <td>4.0</td>\n",
              "      <td>2.0</td>\n",
              "      <td>1.0</td>\n",
              "      <td>1.0</td>\n",
              "      <td>2.0</td>\n",
              "      <td>1.0</td>\n",
              "      <td>3.0</td>\n",
              "      <td>4.0</td>\n",
              "      <td>1.0</td>\n",
              "      <td>...</td>\n",
              "      <td>3.0</td>\n",
              "      <td>1.0</td>\n",
              "      <td>4.0</td>\n",
              "      <td>4.0</td>\n",
              "      <td>4.0</td>\n",
              "      <td>2.0</td>\n",
              "      <td>1.0</td>\n",
              "      <td>A/HongKong/3391/2017</td>\n",
              "      <td>10.0</td>\n",
              "      <td>12.0</td>\n",
              "    </tr>\n",
              "    <tr>\n",
              "      <th>1132</th>\n",
              "      <td>1.0</td>\n",
              "      <td>4.0</td>\n",
              "      <td>2.0</td>\n",
              "      <td>1.0</td>\n",
              "      <td>1.0</td>\n",
              "      <td>2.0</td>\n",
              "      <td>1.0</td>\n",
              "      <td>3.0</td>\n",
              "      <td>4.0</td>\n",
              "      <td>1.0</td>\n",
              "      <td>...</td>\n",
              "      <td>3.0</td>\n",
              "      <td>1.0</td>\n",
              "      <td>4.0</td>\n",
              "      <td>4.0</td>\n",
              "      <td>4.0</td>\n",
              "      <td>2.0</td>\n",
              "      <td>1.0</td>\n",
              "      <td>A/MUWRP-Uganda/579/2016</td>\n",
              "      <td>7.0</td>\n",
              "      <td>4.0</td>\n",
              "    </tr>\n",
              "  </tbody>\n",
              "</table>\n",
              "<p>1133 rows × 1704 columns</p>\n",
              "</div>"
            ]
          },
          "metadata": {
            "tags": []
          },
          "execution_count": 196
        }
      ]
    },
    {
      "cell_type": "code",
      "metadata": {
        "id": "BOil6geUHG3g",
        "colab": {
          "base_uri": "https://localhost:8080/",
          "height": 50
        },
        "outputId": "986ecce4-9a68-42c8-8ac3-21f22ace0683"
      },
      "source": [
        "# Evaluate inputs\n",
        "results = model.evaluate(np.array(genomes_df_reduced.values.tolist()), np.array(new_genomes_df[\"values\"].values.tolist()), batch_size=batch_size, verbose=1)\n",
        "predictions = model.predict(genomes_df_reduced.values.tolist(), batch_size=batch_size, verbose=1)"
      ],
      "execution_count": null,
      "outputs": [
        {
          "output_type": "stream",
          "text": [
            "114/114 [==============================] - 11s 97ms/step - loss: 15.9313\n",
            "114/114 [==============================] - 11s 96ms/step\n"
          ],
          "name": "stdout"
        }
      ]
    },
    {
      "cell_type": "code",
      "metadata": {
        "id": "sQachjIN6a7_"
      },
      "source": [
        "model.save(\"model_clonal_replicator_120K\")\n"
      ],
      "execution_count": null,
      "outputs": []
    },
    {
      "cell_type": "code",
      "metadata": {
        "id": "VZO59PCF6832"
      },
      "source": [
        "import keras\n",
        "# It can be used to reconstruct the model identically.\n",
        "reconstructed_model = keras.models.load_model(\"model_clonal_replicator_120K\")"
      ],
      "execution_count": null,
      "outputs": []
    },
    {
      "cell_type": "code",
      "metadata": {
        "id": "3ke-GfpWHZ5f",
        "colab": {
          "base_uri": "https://localhost:8080/",
          "height": 50
        },
        "outputId": "ed5f4fb1-db79-4e73-b49d-339073c4cba7"
      },
      "source": [
        "print(\"test loss, test acc:\", results)\n",
        "print(\"predictions shape:\", predictions.shape)"
      ],
      "execution_count": null,
      "outputs": [
        {
          "output_type": "stream",
          "text": [
            "test loss, test acc: 15.931331634521484\n",
            "predictions shape: (1133, 49)\n"
          ],
          "name": "stdout"
        }
      ]
    },
    {
      "cell_type": "code",
      "metadata": {
        "id": "D4UPcWisfHxs",
        "colab": {
          "base_uri": "https://localhost:8080/",
          "height": 312
        },
        "outputId": "611a2c83-692f-4d95-92d9-34f3640e5fab"
      },
      "source": [
        "# Evaluate inputs\n",
        "predict = np.argmax(predictions,axis=1)\n",
        "\n",
        "print(\"test loss, test acc:\", results)\n",
        "print(\"predictions shape:\", predictions.shape)\n",
        "\n",
        "from sklearn.metrics import confusion_matrix\n",
        "cm = confusion_matrix(np.array(new_genomes_df[\"values\"].values.tolist()), predict)\n",
        "\n",
        "sns.heatmap(cm)\n"
      ],
      "execution_count": null,
      "outputs": [
        {
          "output_type": "stream",
          "text": [
            "test loss, test acc: 15.931331634521484\n",
            "predictions shape: (1133, 49)\n"
          ],
          "name": "stdout"
        },
        {
          "output_type": "execute_result",
          "data": {
            "text/plain": [
              "<AxesSubplot:>"
            ]
          },
          "metadata": {
            "tags": []
          },
          "execution_count": 204
        },
        {
          "output_type": "display_data",
          "data": {
            "text/plain": [
              "<Figure size 432x288 with 2 Axes>"
            ],
            "image/png": "[encoded data removed]"
          },
          "metadata": {
            "tags": [],
            "needs_background": "light"
          }
        }
      ]
    },
    {
      "cell_type": "code",
      "metadata": {
        "id": "61XXodw9GQNm"
      },
      "source": [
        "# build confusion matrix(predicted class against actual class, make heatmap)\n",
        "error_df = pd.DataFrame()\n",
        "error_df[\"predictions\"] = predictions\n",
        "error_df[\"real\"] = testing_inputs\n",
        "\n",
        "error_df.head()"
      ],
      "execution_count": null,
      "outputs": []
    },
    {
      "cell_type": "code",
      "metadata": {
        "id": "TixTCn2QG2tX",
        "colab": {
          "base_uri": "https://localhost:8080/",
          "height": 33
        },
        "outputId": "d6d57685-9357-40c8-f796-7388cd7645c3"
      },
      "source": [
        "np.unique(predict)"
      ],
      "execution_count": null,
      "outputs": [
        {
          "output_type": "execute_result",
          "data": {
            "text/plain": [
              "array([24])"
            ]
          },
          "metadata": {
            "tags": []
          },
          "execution_count": 208
        }
      ]
    },
    {
      "cell_type": "code",
      "metadata": {
        "id": "zZ8kLAHhIqI0",
        "colab": {
          "base_uri": "https://localhost:8080/",
          "height": 438
        },
        "outputId": "b0b24441-c742-4b61-e51e-eed40c6fdc18"
      },
      "source": [
        "\n",
        "# build confusion matrix(predicted class against actual class, make heatmap)\n",
        "error_df = pd.DataFrame()\n",
        "error_df[\"predictions\"] = predict\n",
        "error_df[\"real\"] = new_genomes_df[\"values\"]\n",
        "print(np.sum(predict == new_genomes_df[\"values\"]))\n",
        "print(np.sum(predict == new_genomes_df[\"values\"]) / float(len(predict)))\n",
        "error_df"
      ],
      "execution_count": null,
      "outputs": [
        {
          "output_type": "stream",
          "text": [
            "34\n",
            "0.03000882612533098\n"
          ],
          "name": "stdout"
        },
        {
          "output_type": "execute_result",
          "data": {
            "text/plain": [
              "      predictions  real\n",
              "0              24   6.0\n",
              "1              24  10.0\n",
              "2              24  10.0\n",
              "3              24   9.0\n",
              "4              24   8.0\n",
              "...           ...   ...\n",
              "1128           24   4.0\n",
              "1129           24   5.0\n",
              "1130           24   7.0\n",
              "1131           24  12.0\n",
              "1132           24   4.0\n",
              "\n",
              "[1133 rows x 2 columns]"
            ],
            "text/html": [
              "<div>\n",
              "<style scoped>\n",
              "    .dataframe tbody tr th:only-of-type {\n",
              "        vertical-align: middle;\n",
              "    }\n",
              "\n",
              "    .dataframe tbody tr th {\n",
              "        vertical-align: top;\n",
              "    }\n",
              "\n",
              "    .dataframe thead th {\n",
              "        text-align: right;\n",
              "    }\n",
              "</style>\n",
              "<table border=\"1\" class=\"dataframe\">\n",
              "  <thead>\n",
              "    <tr style=\"text-align: right;\">\n",
              "      <th></th>\n",
              "      <th>predictions</th>\n",
              "      <th>real</th>\n",
              "    </tr>\n",
              "  </thead>\n",
              "  <tbody>\n",
              "    <tr>\n",
              "      <th>0</th>\n",
              "      <td>24</td>\n",
              "      <td>6.0</td>\n",
              "    </tr>\n",
              "    <tr>\n",
              "      <th>1</th>\n",
              "      <td>24</td>\n",
              "      <td>10.0</td>\n",
              "    </tr>\n",
              "    <tr>\n",
              "      <th>2</th>\n",
              "      <td>24</td>\n",
              "      <td>10.0</td>\n",
              "    </tr>\n",
              "    <tr>\n",
              "      <th>3</th>\n",
              "      <td>24</td>\n",
              "      <td>9.0</td>\n",
              "    </tr>\n",
              "    <tr>\n",
              "      <th>4</th>\n",
              "      <td>24</td>\n",
              "      <td>8.0</td>\n",
              "    </tr>\n",
              "    <tr>\n",
              "      <th>...</th>\n",
              "      <td>...</td>\n",
              "      <td>...</td>\n",
              "    </tr>\n",
              "    <tr>\n",
              "      <th>1128</th>\n",
              "      <td>24</td>\n",
              "      <td>4.0</td>\n",
              "    </tr>\n",
              "    <tr>\n",
              "      <th>1129</th>\n",
              "      <td>24</td>\n",
              "      <td>5.0</td>\n",
              "    </tr>\n",
              "    <tr>\n",
              "      <th>1130</th>\n",
              "      <td>24</td>\n",
              "      <td>7.0</td>\n",
              "    </tr>\n",
              "    <tr>\n",
              "      <th>1131</th>\n",
              "      <td>24</td>\n",
              "      <td>12.0</td>\n",
              "    </tr>\n",
              "    <tr>\n",
              "      <th>1132</th>\n",
              "      <td>24</td>\n",
              "      <td>4.0</td>\n",
              "    </tr>\n",
              "  </tbody>\n",
              "</table>\n",
              "<p>1133 rows × 2 columns</p>\n",
              "</div>"
            ]
          },
          "metadata": {
            "tags": []
          },
          "execution_count": 205
        }
      ]
    },
    {
      "cell_type": "code",
      "metadata": {
        "id": "ssuh_zIR7kX1"
      },
      "source": [
        ""
      ],
      "execution_count": null,
      "outputs": []
    }
  ]
}